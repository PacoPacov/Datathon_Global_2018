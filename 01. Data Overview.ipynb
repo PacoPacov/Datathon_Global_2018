{
 "cells": [
  {
   "cell_type": "markdown",
   "metadata": {},
   "source": [
    "## Data investigation"
   ]
  },
  {
   "cell_type": "markdown",
   "metadata": {},
   "source": [
    "Data import"
   ]
  },
  {
   "cell_type": "markdown",
   "metadata": {},
   "source": [
    "Import libs"
   ]
  },
  {
   "cell_type": "code",
   "execution_count": 1,
   "metadata": {},
   "outputs": [],
   "source": [
    "import sys\n",
    "import os\n",
    "import re\n",
    "import time\n",
    "import matplotlib.pyplot as plt\n",
    "import seaborn as sns\n",
    "sns.set(color_codes=True)\n",
    "plt.style.use('ggplot')\n",
    "import pandas as pd\n",
    "import numpy as np\n",
    "import pdb\n",
    "from datetime import datetime\n"
   ]
  },
  {
   "cell_type": "code",
   "execution_count": 2,
   "metadata": {},
   "outputs": [
    {
     "data": {
      "text/plain": [
       "'C:\\\\Users\\\\Ogi\\\\Datathon Sep 2018'"
      ]
     },
     "execution_count": 2,
     "metadata": {},
     "output_type": "execute_result"
    }
   ],
   "source": [
    "pwd()"
   ]
  },
  {
   "cell_type": "code",
   "execution_count": 3,
   "metadata": {},
   "outputs": [
    {
     "name": "stdout",
     "output_type": "stream",
     "text": [
      "Time imprt had taken 12.56 seconds\n"
     ]
    }
   ],
   "source": [
    "## Import the sample data\n",
    "## clock the time for import\n",
    "\n",
    "tic = time.time()\n",
    "\n",
    "df = pd.read_csv(\"20180920_Kaufland_case_IoT_and_predictive_maintenance.csv\", \\\n",
    "                 sep = ';', encoding='utf-8')\n",
    "\n",
    "tac = time.time()\n",
    "\n",
    "diff = tac - tic\n",
    "\n",
    "print(\"Time imprt had taken {a:.2f} seconds\".format(a = diff))"
   ]
  },
  {
   "cell_type": "code",
   "execution_count": 4,
   "metadata": {},
   "outputs": [],
   "source": [
    "## Create a copy of the data\n",
    "data = df.copy()"
   ]
  },
  {
   "cell_type": "code",
   "execution_count": 5,
   "metadata": {},
   "outputs": [
    {
     "data": {
      "text/plain": [
       "(3860434, 7)"
      ]
     },
     "execution_count": 5,
     "metadata": {},
     "output_type": "execute_result"
    }
   ],
   "source": [
    "## Describe data\n",
    "df.shape"
   ]
  },
  {
   "cell_type": "code",
   "execution_count": 63,
   "metadata": {},
   "outputs": [
    {
     "data": {
      "text/html": [
       "<div>\n",
       "<style scoped>\n",
       "    .dataframe tbody tr th:only-of-type {\n",
       "        vertical-align: middle;\n",
       "    }\n",
       "\n",
       "    .dataframe tbody tr th {\n",
       "        vertical-align: top;\n",
       "    }\n",
       "\n",
       "    .dataframe thead th {\n",
       "        text-align: right;\n",
       "    }\n",
       "</style>\n",
       "<table border=\"1\" class=\"dataframe\">\n",
       "  <thead>\n",
       "    <tr style=\"text-align: right;\">\n",
       "      <th></th>\n",
       "      <th>machine_name</th>\n",
       "      <th>sensor_type</th>\n",
       "      <th>date_measurement</th>\n",
       "      <th>start_timestamp</th>\n",
       "      <th>end_timestamp</th>\n",
       "      <th>realvalue</th>\n",
       "      <th>unit</th>\n",
       "      <th>date_measurement_f</th>\n",
       "      <th>start_timestamp_f</th>\n",
       "      <th>end_timestamp_f</th>\n",
       "      <th>hour</th>\n",
       "      <th>year</th>\n",
       "      <th>month</th>\n",
       "    </tr>\n",
       "  </thead>\n",
       "  <tbody>\n",
       "  </tbody>\n",
       "</table>\n",
       "</div>"
      ],
      "text/plain": [
       "Empty DataFrame\n",
       "Columns: [machine_name, sensor_type, date_measurement, start_timestamp, end_timestamp, realvalue, unit, date_measurement_f, start_timestamp_f, end_timestamp_f, hour, year, month]\n",
       "Index: []"
      ]
     },
     "execution_count": 63,
     "metadata": {},
     "output_type": "execute_result"
    }
   ],
   "source": [
    "df[df.realvalue < 0]"
   ]
  },
  {
   "cell_type": "code",
   "execution_count": 6,
   "metadata": {},
   "outputs": [
    {
     "data": {
      "text/plain": [
       "Index(['ifm_analysis_sensordata_for_datathon_final.machine_name',\n",
       "       'ifm_analysis_sensordata_for_datathon_final.sensor_type',\n",
       "       'ifm_analysis_sensordata_for_datathon_final.date_measurement',\n",
       "       'ifm_analysis_sensordata_for_datathon_final.start_timestamp',\n",
       "       'ifm_analysis_sensordata_for_datathon_final.end_timestamp',\n",
       "       'ifm_analysis_sensordata_for_datathon_final.realvalue',\n",
       "       'ifm_analysis_sensordata_for_datathon_final.unit'],\n",
       "      dtype='object')"
      ]
     },
     "execution_count": 6,
     "metadata": {},
     "output_type": "execute_result"
    }
   ],
   "source": [
    "## Look at the column names\n",
    "df.columns"
   ]
  },
  {
   "cell_type": "code",
   "execution_count": 9,
   "metadata": {},
   "outputs": [
    {
     "data": {
      "text/plain": [
       "Index(['ifm_analysis_sensordata_for_datathon_final.machine_name',\n",
       "       'ifm_analysis_sensordata_for_datathon_final.sensor_type',\n",
       "       'ifm_analysis_sensordata_for_datathon_final.date_measurement',\n",
       "       'ifm_analysis_sensordata_for_datathon_final.start_timestamp',\n",
       "       'ifm_analysis_sensordata_for_datathon_final.end_timestamp',\n",
       "       'ifm_analysis_sensordata_for_datathon_final.realvalue',\n",
       "       'ifm_analysis_sensordata_for_datathon_final.unit'],\n",
       "      dtype='object')"
      ]
     },
     "execution_count": 9,
     "metadata": {},
     "output_type": "execute_result"
    }
   ],
   "source": [
    "df.keys()"
   ]
  },
  {
   "cell_type": "code",
   "execution_count": 7,
   "metadata": {},
   "outputs": [
    {
     "data": {
      "text/html": [
       "<div>\n",
       "<style scoped>\n",
       "    .dataframe tbody tr th:only-of-type {\n",
       "        vertical-align: middle;\n",
       "    }\n",
       "\n",
       "    .dataframe tbody tr th {\n",
       "        vertical-align: top;\n",
       "    }\n",
       "\n",
       "    .dataframe thead th {\n",
       "        text-align: right;\n",
       "    }\n",
       "</style>\n",
       "<table border=\"1\" class=\"dataframe\">\n",
       "  <thead>\n",
       "    <tr style=\"text-align: right;\">\n",
       "      <th></th>\n",
       "      <th>ifm_analysis_sensordata_for_datathon_final.realvalue</th>\n",
       "    </tr>\n",
       "  </thead>\n",
       "  <tbody>\n",
       "    <tr>\n",
       "      <th>count</th>\n",
       "      <td>3.860434e+06</td>\n",
       "    </tr>\n",
       "    <tr>\n",
       "      <th>mean</th>\n",
       "      <td>1.221669e+03</td>\n",
       "    </tr>\n",
       "    <tr>\n",
       "      <th>std</th>\n",
       "      <td>1.893225e+03</td>\n",
       "    </tr>\n",
       "    <tr>\n",
       "      <th>min</th>\n",
       "      <td>2.000000e-03</td>\n",
       "    </tr>\n",
       "    <tr>\n",
       "      <th>25%</th>\n",
       "      <td>2.379000e+00</td>\n",
       "    </tr>\n",
       "    <tr>\n",
       "      <th>50%</th>\n",
       "      <td>7.261400e+02</td>\n",
       "    </tr>\n",
       "    <tr>\n",
       "      <th>75%</th>\n",
       "      <td>1.357672e+03</td>\n",
       "    </tr>\n",
       "    <tr>\n",
       "      <th>max</th>\n",
       "      <td>2.407599e+04</td>\n",
       "    </tr>\n",
       "  </tbody>\n",
       "</table>\n",
       "</div>"
      ],
      "text/plain": [
       "       ifm_analysis_sensordata_for_datathon_final.realvalue\n",
       "count                                       3.860434e+06   \n",
       "mean                                        1.221669e+03   \n",
       "std                                         1.893225e+03   \n",
       "min                                         2.000000e-03   \n",
       "25%                                         2.379000e+00   \n",
       "50%                                         7.261400e+02   \n",
       "75%                                         1.357672e+03   \n",
       "max                                         2.407599e+04   "
      ]
     },
     "execution_count": 7,
     "metadata": {},
     "output_type": "execute_result"
    }
   ],
   "source": [
    "df.describe()"
   ]
  },
  {
   "cell_type": "code",
   "execution_count": 8,
   "metadata": {},
   "outputs": [
    {
     "data": {
      "text/html": [
       "<div>\n",
       "<style scoped>\n",
       "    .dataframe tbody tr th:only-of-type {\n",
       "        vertical-align: middle;\n",
       "    }\n",
       "\n",
       "    .dataframe tbody tr th {\n",
       "        vertical-align: top;\n",
       "    }\n",
       "\n",
       "    .dataframe thead th {\n",
       "        text-align: right;\n",
       "    }\n",
       "</style>\n",
       "<table border=\"1\" class=\"dataframe\">\n",
       "  <thead>\n",
       "    <tr style=\"text-align: right;\">\n",
       "      <th></th>\n",
       "      <th>ifm_analysis_sensordata_for_datathon_final.machine_name</th>\n",
       "      <th>ifm_analysis_sensordata_for_datathon_final.sensor_type</th>\n",
       "      <th>ifm_analysis_sensordata_for_datathon_final.date_measurement</th>\n",
       "      <th>ifm_analysis_sensordata_for_datathon_final.start_timestamp</th>\n",
       "      <th>ifm_analysis_sensordata_for_datathon_final.end_timestamp</th>\n",
       "      <th>ifm_analysis_sensordata_for_datathon_final.realvalue</th>\n",
       "      <th>ifm_analysis_sensordata_for_datathon_final.unit</th>\n",
       "    </tr>\n",
       "  </thead>\n",
       "  <tbody>\n",
       "    <tr>\n",
       "      <th>0</th>\n",
       "      <td>RBG1</td>\n",
       "      <td>drive_gear_V_eff</td>\n",
       "      <td>2016-09-02</td>\n",
       "      <td>2016-09-02 15:26:42.823</td>\n",
       "      <td>2016-09-02 15:26:42.823</td>\n",
       "      <td>0.395</td>\n",
       "      <td>mm/s</td>\n",
       "    </tr>\n",
       "    <tr>\n",
       "      <th>1</th>\n",
       "      <td>RBG1</td>\n",
       "      <td>drive_gear_V_eff</td>\n",
       "      <td>2016-09-02</td>\n",
       "      <td>2016-09-02 15:26:45.653</td>\n",
       "      <td>2016-09-02 15:26:45.653</td>\n",
       "      <td>0.577</td>\n",
       "      <td>mm/s</td>\n",
       "    </tr>\n",
       "    <tr>\n",
       "      <th>2</th>\n",
       "      <td>RBG1</td>\n",
       "      <td>drive_gear_V_eff</td>\n",
       "      <td>2016-09-02</td>\n",
       "      <td>2016-09-02 15:26:48.467</td>\n",
       "      <td>2016-09-02 15:26:48.467</td>\n",
       "      <td>0.717</td>\n",
       "      <td>mm/s</td>\n",
       "    </tr>\n",
       "  </tbody>\n",
       "</table>\n",
       "</div>"
      ],
      "text/plain": [
       "  ifm_analysis_sensordata_for_datathon_final.machine_name  \\\n",
       "0                                               RBG1        \n",
       "1                                               RBG1        \n",
       "2                                               RBG1        \n",
       "\n",
       "  ifm_analysis_sensordata_for_datathon_final.sensor_type  \\\n",
       "0                                   drive_gear_V_eff       \n",
       "1                                   drive_gear_V_eff       \n",
       "2                                   drive_gear_V_eff       \n",
       "\n",
       "  ifm_analysis_sensordata_for_datathon_final.date_measurement  \\\n",
       "0                                         2016-09-02            \n",
       "1                                         2016-09-02            \n",
       "2                                         2016-09-02            \n",
       "\n",
       "  ifm_analysis_sensordata_for_datathon_final.start_timestamp  \\\n",
       "0                            2016-09-02 15:26:42.823           \n",
       "1                            2016-09-02 15:26:45.653           \n",
       "2                            2016-09-02 15:26:48.467           \n",
       "\n",
       "  ifm_analysis_sensordata_for_datathon_final.end_timestamp  \\\n",
       "0                            2016-09-02 15:26:42.823         \n",
       "1                            2016-09-02 15:26:45.653         \n",
       "2                            2016-09-02 15:26:48.467         \n",
       "\n",
       "   ifm_analysis_sensordata_for_datathon_final.realvalue  \\\n",
       "0                                              0.395      \n",
       "1                                              0.577      \n",
       "2                                              0.717      \n",
       "\n",
       "  ifm_analysis_sensordata_for_datathon_final.unit  \n",
       "0                                            mm/s  \n",
       "1                                            mm/s  \n",
       "2                                            mm/s  "
      ]
     },
     "execution_count": 8,
     "metadata": {},
     "output_type": "execute_result"
    }
   ],
   "source": [
    "df.head(3)"
   ]
  },
  {
   "cell_type": "code",
   "execution_count": 12,
   "metadata": {},
   "outputs": [
    {
     "data": {
      "text/plain": [
       "ifm_analysis_sensordata_for_datathon_final.machine_name         object\n",
       "ifm_analysis_sensordata_for_datathon_final.sensor_type          object\n",
       "ifm_analysis_sensordata_for_datathon_final.date_measurement     object\n",
       "ifm_analysis_sensordata_for_datathon_final.start_timestamp      object\n",
       "ifm_analysis_sensordata_for_datathon_final.end_timestamp        object\n",
       "ifm_analysis_sensordata_for_datathon_final.realvalue           float64\n",
       "ifm_analysis_sensordata_for_datathon_final.unit                 object\n",
       "dtype: object"
      ]
     },
     "execution_count": 12,
     "metadata": {},
     "output_type": "execute_result"
    }
   ],
   "source": [
    "df.dtypes"
   ]
  },
  {
   "cell_type": "code",
   "execution_count": 9,
   "metadata": {},
   "outputs": [],
   "source": [
    "# standardize the column names\n",
    "def StandardizeNames(df):\n",
    "    l = df.columns\n",
    "    #pdb.set_trace()\n",
    "    cols = [c.replace('ifm_analysis_sensordata_for_datathon_final.','').\n",
    "              lower() for c in l]\n",
    "    return cols"
   ]
  },
  {
   "cell_type": "code",
   "execution_count": 10,
   "metadata": {},
   "outputs": [],
   "source": [
    "df.columns = StandardizeNames(df)"
   ]
  },
  {
   "cell_type": "code",
   "execution_count": 11,
   "metadata": {},
   "outputs": [
    {
     "data": {
      "text/plain": [
       "Index(['machine_name', 'sensor_type', 'date_measurement', 'start_timestamp',\n",
       "       'end_timestamp', 'realvalue', 'unit'],\n",
       "      dtype='object')"
      ]
     },
     "execution_count": 11,
     "metadata": {},
     "output_type": "execute_result"
    }
   ],
   "source": [
    "df.keys()"
   ]
  },
  {
   "cell_type": "code",
   "execution_count": 12,
   "metadata": {},
   "outputs": [],
   "source": [
    "## Convrt to datetime\n",
    "df[\"date_measurement_f\"] = pd.to_datetime(df[\"date_measurement\"])"
   ]
  },
  {
   "cell_type": "code",
   "execution_count": 13,
   "metadata": {},
   "outputs": [],
   "source": [
    "## Convrt to datetime\n",
    "df[\"start_timestamp_f\"] = pd.to_datetime(df[\"start_timestamp\"])"
   ]
  },
  {
   "cell_type": "code",
   "execution_count": 14,
   "metadata": {},
   "outputs": [],
   "source": [
    "## Convrt to datetime\n",
    "df[\"end_timestamp_f\"] = pd.to_datetime(df[\"end_timestamp\"])"
   ]
  },
  {
   "cell_type": "code",
   "execution_count": 15,
   "metadata": {},
   "outputs": [
    {
     "data": {
      "text/plain": [
       "machine_name                  object\n",
       "sensor_type                   object\n",
       "date_measurement              object\n",
       "start_timestamp               object\n",
       "end_timestamp                 object\n",
       "realvalue                    float64\n",
       "unit                          object\n",
       "date_measurement_f    datetime64[ns]\n",
       "start_timestamp_f     datetime64[ns]\n",
       "end_timestamp_f       datetime64[ns]\n",
       "dtype: object"
      ]
     },
     "execution_count": 15,
     "metadata": {},
     "output_type": "execute_result"
    }
   ],
   "source": [
    "df.dtypes"
   ]
  },
  {
   "cell_type": "code",
   "execution_count": 70,
   "metadata": {},
   "outputs": [
    {
     "data": {
      "text/html": [
       "<div>\n",
       "<style scoped>\n",
       "    .dataframe tbody tr th:only-of-type {\n",
       "        vertical-align: middle;\n",
       "    }\n",
       "\n",
       "    .dataframe tbody tr th {\n",
       "        vertical-align: top;\n",
       "    }\n",
       "\n",
       "    .dataframe thead th {\n",
       "        text-align: right;\n",
       "    }\n",
       "</style>\n",
       "<table border=\"1\" class=\"dataframe\">\n",
       "  <thead>\n",
       "    <tr style=\"text-align: right;\">\n",
       "      <th></th>\n",
       "      <th>machine_name</th>\n",
       "      <th>sensor_type</th>\n",
       "      <th>date_measurement</th>\n",
       "      <th>start_timestamp</th>\n",
       "      <th>end_timestamp</th>\n",
       "      <th>realvalue</th>\n",
       "      <th>unit</th>\n",
       "      <th>date_measurement_f</th>\n",
       "      <th>start_timestamp_f</th>\n",
       "      <th>end_timestamp_f</th>\n",
       "      <th>hour</th>\n",
       "      <th>year</th>\n",
       "      <th>month</th>\n",
       "    </tr>\n",
       "  </thead>\n",
       "  <tbody>\n",
       "    <tr>\n",
       "      <th>0</th>\n",
       "      <td>RBG1</td>\n",
       "      <td>drive_gear_V_eff</td>\n",
       "      <td>2016-09-02</td>\n",
       "      <td>2016-09-02 15:26:42.823</td>\n",
       "      <td>2016-09-02 15:26:42.823</td>\n",
       "      <td>0.395</td>\n",
       "      <td>mm/s</td>\n",
       "      <td>2016-09-02</td>\n",
       "      <td>2016-09-02 15:26:42.823</td>\n",
       "      <td>2016-09-02 15:26:42.823</td>\n",
       "      <td>15</td>\n",
       "      <td>2016</td>\n",
       "      <td>9</td>\n",
       "    </tr>\n",
       "    <tr>\n",
       "      <th>1</th>\n",
       "      <td>RBG1</td>\n",
       "      <td>drive_gear_V_eff</td>\n",
       "      <td>2016-09-02</td>\n",
       "      <td>2016-09-02 15:26:45.653</td>\n",
       "      <td>2016-09-02 15:26:45.653</td>\n",
       "      <td>0.577</td>\n",
       "      <td>mm/s</td>\n",
       "      <td>2016-09-02</td>\n",
       "      <td>2016-09-02 15:26:45.653</td>\n",
       "      <td>2016-09-02 15:26:45.653</td>\n",
       "      <td>15</td>\n",
       "      <td>2016</td>\n",
       "      <td>9</td>\n",
       "    </tr>\n",
       "    <tr>\n",
       "      <th>2</th>\n",
       "      <td>RBG1</td>\n",
       "      <td>drive_gear_V_eff</td>\n",
       "      <td>2016-09-02</td>\n",
       "      <td>2016-09-02 15:26:48.467</td>\n",
       "      <td>2016-09-02 15:26:48.467</td>\n",
       "      <td>0.717</td>\n",
       "      <td>mm/s</td>\n",
       "      <td>2016-09-02</td>\n",
       "      <td>2016-09-02 15:26:48.467</td>\n",
       "      <td>2016-09-02 15:26:48.467</td>\n",
       "      <td>15</td>\n",
       "      <td>2016</td>\n",
       "      <td>9</td>\n",
       "    </tr>\n",
       "    <tr>\n",
       "      <th>3</th>\n",
       "      <td>RBG1</td>\n",
       "      <td>drive_gear_V_eff</td>\n",
       "      <td>2016-09-02</td>\n",
       "      <td>2016-09-02 15:26:51.293</td>\n",
       "      <td>2016-09-02 15:26:51.293</td>\n",
       "      <td>0.832</td>\n",
       "      <td>mm/s</td>\n",
       "      <td>2016-09-02</td>\n",
       "      <td>2016-09-02 15:26:51.293</td>\n",
       "      <td>2016-09-02 15:26:51.293</td>\n",
       "      <td>15</td>\n",
       "      <td>2016</td>\n",
       "      <td>9</td>\n",
       "    </tr>\n",
       "    <tr>\n",
       "      <th>4</th>\n",
       "      <td>RBG1</td>\n",
       "      <td>drive_gear_V_eff</td>\n",
       "      <td>2016-09-02</td>\n",
       "      <td>2016-09-02 15:26:54.107</td>\n",
       "      <td>2016-09-02 15:26:54.107</td>\n",
       "      <td>0.941</td>\n",
       "      <td>mm/s</td>\n",
       "      <td>2016-09-02</td>\n",
       "      <td>2016-09-02 15:26:54.107</td>\n",
       "      <td>2016-09-02 15:26:54.107</td>\n",
       "      <td>15</td>\n",
       "      <td>2016</td>\n",
       "      <td>9</td>\n",
       "    </tr>\n",
       "    <tr>\n",
       "      <th>5</th>\n",
       "      <td>RBG1</td>\n",
       "      <td>drive_gear_V_eff</td>\n",
       "      <td>2016-09-02</td>\n",
       "      <td>2016-09-02 15:26:56.933</td>\n",
       "      <td>2016-09-02 15:26:56.933</td>\n",
       "      <td>1.042</td>\n",
       "      <td>mm/s</td>\n",
       "      <td>2016-09-02</td>\n",
       "      <td>2016-09-02 15:26:56.933</td>\n",
       "      <td>2016-09-02 15:26:56.933</td>\n",
       "      <td>15</td>\n",
       "      <td>2016</td>\n",
       "      <td>9</td>\n",
       "    </tr>\n",
       "    <tr>\n",
       "      <th>6</th>\n",
       "      <td>RBG1</td>\n",
       "      <td>drive_gear_V_eff</td>\n",
       "      <td>2016-09-02</td>\n",
       "      <td>2016-09-02 15:26:59.763</td>\n",
       "      <td>2016-09-02 15:26:59.763</td>\n",
       "      <td>1.106</td>\n",
       "      <td>mm/s</td>\n",
       "      <td>2016-09-02</td>\n",
       "      <td>2016-09-02 15:26:59.763</td>\n",
       "      <td>2016-09-02 15:26:59.763</td>\n",
       "      <td>15</td>\n",
       "      <td>2016</td>\n",
       "      <td>9</td>\n",
       "    </tr>\n",
       "    <tr>\n",
       "      <th>7</th>\n",
       "      <td>RBG1</td>\n",
       "      <td>drive_gear_V_eff</td>\n",
       "      <td>2016-09-02</td>\n",
       "      <td>2016-09-02 15:27:02.577</td>\n",
       "      <td>2016-09-02 15:27:02.577</td>\n",
       "      <td>1.176</td>\n",
       "      <td>mm/s</td>\n",
       "      <td>2016-09-02</td>\n",
       "      <td>2016-09-02 15:27:02.577</td>\n",
       "      <td>2016-09-02 15:27:02.577</td>\n",
       "      <td>15</td>\n",
       "      <td>2016</td>\n",
       "      <td>9</td>\n",
       "    </tr>\n",
       "    <tr>\n",
       "      <th>8</th>\n",
       "      <td>RBG1</td>\n",
       "      <td>drive_gear_V_eff</td>\n",
       "      <td>2016-09-02</td>\n",
       "      <td>2016-09-02 15:27:05.403</td>\n",
       "      <td>2016-09-02 15:27:05.403</td>\n",
       "      <td>1.245</td>\n",
       "      <td>mm/s</td>\n",
       "      <td>2016-09-02</td>\n",
       "      <td>2016-09-02 15:27:05.403</td>\n",
       "      <td>2016-09-02 15:27:05.403</td>\n",
       "      <td>15</td>\n",
       "      <td>2016</td>\n",
       "      <td>9</td>\n",
       "    </tr>\n",
       "    <tr>\n",
       "      <th>9</th>\n",
       "      <td>RBG1</td>\n",
       "      <td>drive_gear_V_eff</td>\n",
       "      <td>2016-09-02</td>\n",
       "      <td>2016-09-02 15:27:08.217</td>\n",
       "      <td>2016-09-02 15:27:08.217</td>\n",
       "      <td>1.258</td>\n",
       "      <td>mm/s</td>\n",
       "      <td>2016-09-02</td>\n",
       "      <td>2016-09-02 15:27:08.217</td>\n",
       "      <td>2016-09-02 15:27:08.217</td>\n",
       "      <td>15</td>\n",
       "      <td>2016</td>\n",
       "      <td>9</td>\n",
       "    </tr>\n",
       "    <tr>\n",
       "      <th>10</th>\n",
       "      <td>RBG1</td>\n",
       "      <td>drive_gear_V_eff</td>\n",
       "      <td>2016-09-02</td>\n",
       "      <td>2016-09-02 18:14:34.57</td>\n",
       "      <td>2016-09-02 18:14:34.57</td>\n",
       "      <td>1.417</td>\n",
       "      <td>mm/s</td>\n",
       "      <td>2016-09-02</td>\n",
       "      <td>2016-09-02 18:14:34.570</td>\n",
       "      <td>2016-09-02 18:14:34.570</td>\n",
       "      <td>18</td>\n",
       "      <td>2016</td>\n",
       "      <td>9</td>\n",
       "    </tr>\n",
       "    <tr>\n",
       "      <th>11</th>\n",
       "      <td>RBG1</td>\n",
       "      <td>drive_gear_V_eff</td>\n",
       "      <td>2016-09-02</td>\n",
       "      <td>2016-09-02 18:14:37.4</td>\n",
       "      <td>2016-09-02 18:14:37.4</td>\n",
       "      <td>1.451</td>\n",
       "      <td>mm/s</td>\n",
       "      <td>2016-09-02</td>\n",
       "      <td>2016-09-02 18:14:37.400</td>\n",
       "      <td>2016-09-02 18:14:37.400</td>\n",
       "      <td>18</td>\n",
       "      <td>2016</td>\n",
       "      <td>9</td>\n",
       "    </tr>\n",
       "    <tr>\n",
       "      <th>12</th>\n",
       "      <td>RBG1</td>\n",
       "      <td>drive_gear_V_eff</td>\n",
       "      <td>2016-09-02</td>\n",
       "      <td>2016-09-02 18:14:40.21</td>\n",
       "      <td>2016-09-02 18:14:40.21</td>\n",
       "      <td>1.462</td>\n",
       "      <td>mm/s</td>\n",
       "      <td>2016-09-02</td>\n",
       "      <td>2016-09-02 18:14:40.210</td>\n",
       "      <td>2016-09-02 18:14:40.210</td>\n",
       "      <td>18</td>\n",
       "      <td>2016</td>\n",
       "      <td>9</td>\n",
       "    </tr>\n",
       "    <tr>\n",
       "      <th>13</th>\n",
       "      <td>RBG1</td>\n",
       "      <td>drive_gear_V_eff</td>\n",
       "      <td>2016-09-02</td>\n",
       "      <td>2016-09-02 18:14:43.04</td>\n",
       "      <td>2016-09-02 18:14:43.04</td>\n",
       "      <td>1.491</td>\n",
       "      <td>mm/s</td>\n",
       "      <td>2016-09-02</td>\n",
       "      <td>2016-09-02 18:14:43.040</td>\n",
       "      <td>2016-09-02 18:14:43.040</td>\n",
       "      <td>18</td>\n",
       "      <td>2016</td>\n",
       "      <td>9</td>\n",
       "    </tr>\n",
       "    <tr>\n",
       "      <th>14</th>\n",
       "      <td>RBG1</td>\n",
       "      <td>drive_gear_V_eff</td>\n",
       "      <td>2016-09-02</td>\n",
       "      <td>2016-09-02 18:14:45.867</td>\n",
       "      <td>2016-09-02 18:14:45.867</td>\n",
       "      <td>1.523</td>\n",
       "      <td>mm/s</td>\n",
       "      <td>2016-09-02</td>\n",
       "      <td>2016-09-02 18:14:45.867</td>\n",
       "      <td>2016-09-02 18:14:45.867</td>\n",
       "      <td>18</td>\n",
       "      <td>2016</td>\n",
       "      <td>9</td>\n",
       "    </tr>\n",
       "    <tr>\n",
       "      <th>15</th>\n",
       "      <td>RBG1</td>\n",
       "      <td>drive_gear_V_eff</td>\n",
       "      <td>2016-09-02</td>\n",
       "      <td>2016-09-02 18:14:48.68</td>\n",
       "      <td>2016-09-02 18:14:48.68</td>\n",
       "      <td>1.568</td>\n",
       "      <td>mm/s</td>\n",
       "      <td>2016-09-02</td>\n",
       "      <td>2016-09-02 18:14:48.680</td>\n",
       "      <td>2016-09-02 18:14:48.680</td>\n",
       "      <td>18</td>\n",
       "      <td>2016</td>\n",
       "      <td>9</td>\n",
       "    </tr>\n",
       "    <tr>\n",
       "      <th>16</th>\n",
       "      <td>RBG1</td>\n",
       "      <td>drive_gear_V_eff</td>\n",
       "      <td>2016-09-02</td>\n",
       "      <td>2016-09-02 18:14:51.507</td>\n",
       "      <td>2016-09-02 18:14:51.507</td>\n",
       "      <td>1.616</td>\n",
       "      <td>mm/s</td>\n",
       "      <td>2016-09-02</td>\n",
       "      <td>2016-09-02 18:14:51.507</td>\n",
       "      <td>2016-09-02 18:14:51.507</td>\n",
       "      <td>18</td>\n",
       "      <td>2016</td>\n",
       "      <td>9</td>\n",
       "    </tr>\n",
       "    <tr>\n",
       "      <th>17</th>\n",
       "      <td>RBG1</td>\n",
       "      <td>drive_gear_V_eff</td>\n",
       "      <td>2016-09-02</td>\n",
       "      <td>2016-09-02 18:14:54.32</td>\n",
       "      <td>2016-09-02 18:14:54.32</td>\n",
       "      <td>1.620</td>\n",
       "      <td>mm/s</td>\n",
       "      <td>2016-09-02</td>\n",
       "      <td>2016-09-02 18:14:54.320</td>\n",
       "      <td>2016-09-02 18:14:54.320</td>\n",
       "      <td>18</td>\n",
       "      <td>2016</td>\n",
       "      <td>9</td>\n",
       "    </tr>\n",
       "  </tbody>\n",
       "</table>\n",
       "</div>"
      ],
      "text/plain": [
       "   machine_name       sensor_type date_measurement          start_timestamp  \\\n",
       "0          RBG1  drive_gear_V_eff       2016-09-02  2016-09-02 15:26:42.823   \n",
       "1          RBG1  drive_gear_V_eff       2016-09-02  2016-09-02 15:26:45.653   \n",
       "2          RBG1  drive_gear_V_eff       2016-09-02  2016-09-02 15:26:48.467   \n",
       "3          RBG1  drive_gear_V_eff       2016-09-02  2016-09-02 15:26:51.293   \n",
       "4          RBG1  drive_gear_V_eff       2016-09-02  2016-09-02 15:26:54.107   \n",
       "5          RBG1  drive_gear_V_eff       2016-09-02  2016-09-02 15:26:56.933   \n",
       "6          RBG1  drive_gear_V_eff       2016-09-02  2016-09-02 15:26:59.763   \n",
       "7          RBG1  drive_gear_V_eff       2016-09-02  2016-09-02 15:27:02.577   \n",
       "8          RBG1  drive_gear_V_eff       2016-09-02  2016-09-02 15:27:05.403   \n",
       "9          RBG1  drive_gear_V_eff       2016-09-02  2016-09-02 15:27:08.217   \n",
       "10         RBG1  drive_gear_V_eff       2016-09-02   2016-09-02 18:14:34.57   \n",
       "11         RBG1  drive_gear_V_eff       2016-09-02    2016-09-02 18:14:37.4   \n",
       "12         RBG1  drive_gear_V_eff       2016-09-02   2016-09-02 18:14:40.21   \n",
       "13         RBG1  drive_gear_V_eff       2016-09-02   2016-09-02 18:14:43.04   \n",
       "14         RBG1  drive_gear_V_eff       2016-09-02  2016-09-02 18:14:45.867   \n",
       "15         RBG1  drive_gear_V_eff       2016-09-02   2016-09-02 18:14:48.68   \n",
       "16         RBG1  drive_gear_V_eff       2016-09-02  2016-09-02 18:14:51.507   \n",
       "17         RBG1  drive_gear_V_eff       2016-09-02   2016-09-02 18:14:54.32   \n",
       "\n",
       "              end_timestamp  realvalue  unit date_measurement_f  \\\n",
       "0   2016-09-02 15:26:42.823      0.395  mm/s         2016-09-02   \n",
       "1   2016-09-02 15:26:45.653      0.577  mm/s         2016-09-02   \n",
       "2   2016-09-02 15:26:48.467      0.717  mm/s         2016-09-02   \n",
       "3   2016-09-02 15:26:51.293      0.832  mm/s         2016-09-02   \n",
       "4   2016-09-02 15:26:54.107      0.941  mm/s         2016-09-02   \n",
       "5   2016-09-02 15:26:56.933      1.042  mm/s         2016-09-02   \n",
       "6   2016-09-02 15:26:59.763      1.106  mm/s         2016-09-02   \n",
       "7   2016-09-02 15:27:02.577      1.176  mm/s         2016-09-02   \n",
       "8   2016-09-02 15:27:05.403      1.245  mm/s         2016-09-02   \n",
       "9   2016-09-02 15:27:08.217      1.258  mm/s         2016-09-02   \n",
       "10   2016-09-02 18:14:34.57      1.417  mm/s         2016-09-02   \n",
       "11    2016-09-02 18:14:37.4      1.451  mm/s         2016-09-02   \n",
       "12   2016-09-02 18:14:40.21      1.462  mm/s         2016-09-02   \n",
       "13   2016-09-02 18:14:43.04      1.491  mm/s         2016-09-02   \n",
       "14  2016-09-02 18:14:45.867      1.523  mm/s         2016-09-02   \n",
       "15   2016-09-02 18:14:48.68      1.568  mm/s         2016-09-02   \n",
       "16  2016-09-02 18:14:51.507      1.616  mm/s         2016-09-02   \n",
       "17   2016-09-02 18:14:54.32      1.620  mm/s         2016-09-02   \n",
       "\n",
       "         start_timestamp_f         end_timestamp_f  hour  year  month  \n",
       "0  2016-09-02 15:26:42.823 2016-09-02 15:26:42.823    15  2016      9  \n",
       "1  2016-09-02 15:26:45.653 2016-09-02 15:26:45.653    15  2016      9  \n",
       "2  2016-09-02 15:26:48.467 2016-09-02 15:26:48.467    15  2016      9  \n",
       "3  2016-09-02 15:26:51.293 2016-09-02 15:26:51.293    15  2016      9  \n",
       "4  2016-09-02 15:26:54.107 2016-09-02 15:26:54.107    15  2016      9  \n",
       "5  2016-09-02 15:26:56.933 2016-09-02 15:26:56.933    15  2016      9  \n",
       "6  2016-09-02 15:26:59.763 2016-09-02 15:26:59.763    15  2016      9  \n",
       "7  2016-09-02 15:27:02.577 2016-09-02 15:27:02.577    15  2016      9  \n",
       "8  2016-09-02 15:27:05.403 2016-09-02 15:27:05.403    15  2016      9  \n",
       "9  2016-09-02 15:27:08.217 2016-09-02 15:27:08.217    15  2016      9  \n",
       "10 2016-09-02 18:14:34.570 2016-09-02 18:14:34.570    18  2016      9  \n",
       "11 2016-09-02 18:14:37.400 2016-09-02 18:14:37.400    18  2016      9  \n",
       "12 2016-09-02 18:14:40.210 2016-09-02 18:14:40.210    18  2016      9  \n",
       "13 2016-09-02 18:14:43.040 2016-09-02 18:14:43.040    18  2016      9  \n",
       "14 2016-09-02 18:14:45.867 2016-09-02 18:14:45.867    18  2016      9  \n",
       "15 2016-09-02 18:14:48.680 2016-09-02 18:14:48.680    18  2016      9  \n",
       "16 2016-09-02 18:14:51.507 2016-09-02 18:14:51.507    18  2016      9  \n",
       "17 2016-09-02 18:14:54.320 2016-09-02 18:14:54.320    18  2016      9  "
      ]
     },
     "execution_count": 70,
     "metadata": {},
     "output_type": "execute_result"
    }
   ],
   "source": [
    "df.head(18)"
   ]
  },
  {
   "cell_type": "code",
   "execution_count": 16,
   "metadata": {},
   "outputs": [
    {
     "data": {
      "text/plain": [
       "9"
      ]
     },
     "execution_count": 16,
     "metadata": {},
     "output_type": "execute_result"
    }
   ],
   "source": [
    "df['start_timestamp_f'][0].month"
   ]
  },
  {
   "cell_type": "markdown",
   "metadata": {},
   "source": [
    "## Plot the data in order to see some insights"
   ]
  },
  {
   "cell_type": "code",
   "execution_count": null,
   "metadata": {},
   "outputs": [],
   "source": [
    "ax = sns.tsplot(data=df[0:10],time = \"start_timestamp_f\", unit = \"machine_name\", \\\n",
    "               condition = \"machine_name\", value = \"realvalue\")"
   ]
  },
  {
   "cell_type": "code",
   "execution_count": 17,
   "metadata": {},
   "outputs": [
    {
     "name": "stderr",
     "output_type": "stream",
     "text": [
      "C:\\Users\\Ogi\\Anaconda3\\lib\\site-packages\\seaborn\\timeseries.py:183: UserWarning: The tsplot function is deprecated and will be removed or replaced (in a substantially altered version) in a future release.\n",
      "  warnings.warn(msg, UserWarning)\n"
     ]
    },
    {
     "ename": "ValueError",
     "evalue": "Index contains duplicate entries, cannot reshape",
     "output_type": "error",
     "traceback": [
      "\u001b[1;31m---------------------------------------------------------------------------\u001b[0m",
      "\u001b[1;31mValueError\u001b[0m                                Traceback (most recent call last)",
      "\u001b[1;32m<ipython-input-17-8add4b79e42f>\u001b[0m in \u001b[0;36m<module>\u001b[1;34m()\u001b[0m\n\u001b[1;32m----> 1\u001b[1;33m \u001b[0max\u001b[0m \u001b[1;33m=\u001b[0m \u001b[0msns\u001b[0m\u001b[1;33m.\u001b[0m\u001b[0mtsplot\u001b[0m\u001b[1;33m(\u001b[0m\u001b[0mdata\u001b[0m\u001b[1;33m=\u001b[0m\u001b[0mdf\u001b[0m\u001b[1;33m[\u001b[0m\u001b[1;36m10\u001b[0m\u001b[1;33m:\u001b[0m\u001b[1;33m]\u001b[0m\u001b[1;33m,\u001b[0m\u001b[0mtime\u001b[0m \u001b[1;33m=\u001b[0m \u001b[1;34m\"start_timestamp_f\"\u001b[0m\u001b[1;33m,\u001b[0m \u001b[0munit\u001b[0m \u001b[1;33m=\u001b[0m \u001b[1;34m\"machine_name\"\u001b[0m\u001b[1;33m,\u001b[0m                \u001b[0mcondition\u001b[0m \u001b[1;33m=\u001b[0m \u001b[1;34m\"machine_name\"\u001b[0m\u001b[1;33m,\u001b[0m \u001b[0mvalue\u001b[0m \u001b[1;33m=\u001b[0m \u001b[1;34m\"realvalue\"\u001b[0m\u001b[1;33m,\u001b[0m \u001b[0mcolor\u001b[0m \u001b[1;33m=\u001b[0m \u001b[1;34m\"black\"\u001b[0m\u001b[1;33m)\u001b[0m\u001b[1;33m\u001b[0m\u001b[0m\n\u001b[0m",
      "\u001b[1;32m~\\Anaconda3\\lib\\site-packages\\seaborn\\timeseries.py\u001b[0m in \u001b[0;36mtsplot\u001b[1;34m(data, time, unit, condition, value, err_style, ci, interpolate, color, estimator, n_boot, err_palette, err_kws, legend, ax, **kwargs)\u001b[0m\n\u001b[0;32m    294\u001b[0m     \u001b[1;32mfor\u001b[0m \u001b[0mc\u001b[0m\u001b[1;33m,\u001b[0m \u001b[1;33m(\u001b[0m\u001b[0mcond\u001b[0m\u001b[1;33m,\u001b[0m \u001b[0mdf_c\u001b[0m\u001b[1;33m)\u001b[0m \u001b[1;32min\u001b[0m \u001b[0menumerate\u001b[0m\u001b[1;33m(\u001b[0m\u001b[0mdata\u001b[0m\u001b[1;33m.\u001b[0m\u001b[0mgroupby\u001b[0m\u001b[1;33m(\u001b[0m\u001b[0mcondition\u001b[0m\u001b[1;33m,\u001b[0m \u001b[0msort\u001b[0m\u001b[1;33m=\u001b[0m\u001b[1;32mFalse\u001b[0m\u001b[1;33m)\u001b[0m\u001b[1;33m)\u001b[0m\u001b[1;33m:\u001b[0m\u001b[1;33m\u001b[0m\u001b[0m\n\u001b[0;32m    295\u001b[0m \u001b[1;33m\u001b[0m\u001b[0m\n\u001b[1;32m--> 296\u001b[1;33m         \u001b[0mdf_c\u001b[0m \u001b[1;33m=\u001b[0m \u001b[0mdf_c\u001b[0m\u001b[1;33m.\u001b[0m\u001b[0mpivot\u001b[0m\u001b[1;33m(\u001b[0m\u001b[0munit\u001b[0m\u001b[1;33m,\u001b[0m \u001b[0mtime\u001b[0m\u001b[1;33m,\u001b[0m \u001b[0mvalue\u001b[0m\u001b[1;33m)\u001b[0m\u001b[1;33m\u001b[0m\u001b[0m\n\u001b[0m\u001b[0;32m    297\u001b[0m         \u001b[0mx\u001b[0m \u001b[1;33m=\u001b[0m \u001b[0mdf_c\u001b[0m\u001b[1;33m.\u001b[0m\u001b[0mcolumns\u001b[0m\u001b[1;33m.\u001b[0m\u001b[0mvalues\u001b[0m\u001b[1;33m.\u001b[0m\u001b[0mastype\u001b[0m\u001b[1;33m(\u001b[0m\u001b[0mnp\u001b[0m\u001b[1;33m.\u001b[0m\u001b[0mfloat\u001b[0m\u001b[1;33m)\u001b[0m\u001b[1;33m\u001b[0m\u001b[0m\n\u001b[0;32m    298\u001b[0m \u001b[1;33m\u001b[0m\u001b[0m\n",
      "\u001b[1;32m~\\Anaconda3\\lib\\site-packages\\pandas\\core\\frame.py\u001b[0m in \u001b[0;36mpivot\u001b[1;34m(self, index, columns, values)\u001b[0m\n\u001b[0;32m   5189\u001b[0m         \"\"\"\n\u001b[0;32m   5190\u001b[0m         \u001b[1;32mfrom\u001b[0m \u001b[0mpandas\u001b[0m\u001b[1;33m.\u001b[0m\u001b[0mcore\u001b[0m\u001b[1;33m.\u001b[0m\u001b[0mreshape\u001b[0m\u001b[1;33m.\u001b[0m\u001b[0mreshape\u001b[0m \u001b[1;32mimport\u001b[0m \u001b[0mpivot\u001b[0m\u001b[1;33m\u001b[0m\u001b[0m\n\u001b[1;32m-> 5191\u001b[1;33m         \u001b[1;32mreturn\u001b[0m \u001b[0mpivot\u001b[0m\u001b[1;33m(\u001b[0m\u001b[0mself\u001b[0m\u001b[1;33m,\u001b[0m \u001b[0mindex\u001b[0m\u001b[1;33m=\u001b[0m\u001b[0mindex\u001b[0m\u001b[1;33m,\u001b[0m \u001b[0mcolumns\u001b[0m\u001b[1;33m=\u001b[0m\u001b[0mcolumns\u001b[0m\u001b[1;33m,\u001b[0m \u001b[0mvalues\u001b[0m\u001b[1;33m=\u001b[0m\u001b[0mvalues\u001b[0m\u001b[1;33m)\u001b[0m\u001b[1;33m\u001b[0m\u001b[0m\n\u001b[0m\u001b[0;32m   5192\u001b[0m \u001b[1;33m\u001b[0m\u001b[0m\n\u001b[0;32m   5193\u001b[0m     _shared_docs['pivot_table'] = \"\"\"\n",
      "\u001b[1;32m~\\Anaconda3\\lib\\site-packages\\pandas\\core\\reshape\\reshape.py\u001b[0m in \u001b[0;36mpivot\u001b[1;34m(self, index, columns, values)\u001b[0m\n\u001b[0;32m    407\u001b[0m             indexed = self._constructor_sliced(self[values].values,\n\u001b[0;32m    408\u001b[0m                                                index=index)\n\u001b[1;32m--> 409\u001b[1;33m     \u001b[1;32mreturn\u001b[0m \u001b[0mindexed\u001b[0m\u001b[1;33m.\u001b[0m\u001b[0munstack\u001b[0m\u001b[1;33m(\u001b[0m\u001b[0mcolumns\u001b[0m\u001b[1;33m)\u001b[0m\u001b[1;33m\u001b[0m\u001b[0m\n\u001b[0m\u001b[0;32m    410\u001b[0m \u001b[1;33m\u001b[0m\u001b[0m\n\u001b[0;32m    411\u001b[0m \u001b[1;33m\u001b[0m\u001b[0m\n",
      "\u001b[1;32m~\\Anaconda3\\lib\\site-packages\\pandas\\core\\series.py\u001b[0m in \u001b[0;36munstack\u001b[1;34m(self, level, fill_value)\u001b[0m\n\u001b[0;32m   2895\u001b[0m         \"\"\"\n\u001b[0;32m   2896\u001b[0m         \u001b[1;32mfrom\u001b[0m \u001b[0mpandas\u001b[0m\u001b[1;33m.\u001b[0m\u001b[0mcore\u001b[0m\u001b[1;33m.\u001b[0m\u001b[0mreshape\u001b[0m\u001b[1;33m.\u001b[0m\u001b[0mreshape\u001b[0m \u001b[1;32mimport\u001b[0m \u001b[0munstack\u001b[0m\u001b[1;33m\u001b[0m\u001b[0m\n\u001b[1;32m-> 2897\u001b[1;33m         \u001b[1;32mreturn\u001b[0m \u001b[0munstack\u001b[0m\u001b[1;33m(\u001b[0m\u001b[0mself\u001b[0m\u001b[1;33m,\u001b[0m \u001b[0mlevel\u001b[0m\u001b[1;33m,\u001b[0m \u001b[0mfill_value\u001b[0m\u001b[1;33m)\u001b[0m\u001b[1;33m\u001b[0m\u001b[0m\n\u001b[0m\u001b[0;32m   2898\u001b[0m \u001b[1;33m\u001b[0m\u001b[0m\n\u001b[0;32m   2899\u001b[0m     \u001b[1;31m# ----------------------------------------------------------------------\u001b[0m\u001b[1;33m\u001b[0m\u001b[1;33m\u001b[0m\u001b[0m\n",
      "\u001b[1;32m~\\Anaconda3\\lib\\site-packages\\pandas\\core\\reshape\\reshape.py\u001b[0m in \u001b[0;36munstack\u001b[1;34m(obj, level, fill_value)\u001b[0m\n\u001b[0;32m    493\u001b[0m         unstacker = _Unstacker(obj.values, obj.index, level=level,\n\u001b[0;32m    494\u001b[0m                                \u001b[0mfill_value\u001b[0m\u001b[1;33m=\u001b[0m\u001b[0mfill_value\u001b[0m\u001b[1;33m,\u001b[0m\u001b[1;33m\u001b[0m\u001b[0m\n\u001b[1;32m--> 495\u001b[1;33m                                constructor=obj._constructor_expanddim)\n\u001b[0m\u001b[0;32m    496\u001b[0m         \u001b[1;32mreturn\u001b[0m \u001b[0munstacker\u001b[0m\u001b[1;33m.\u001b[0m\u001b[0mget_result\u001b[0m\u001b[1;33m(\u001b[0m\u001b[1;33m)\u001b[0m\u001b[1;33m\u001b[0m\u001b[0m\n\u001b[0;32m    497\u001b[0m \u001b[1;33m\u001b[0m\u001b[0m\n",
      "\u001b[1;32m~\\Anaconda3\\lib\\site-packages\\pandas\\core\\reshape\\reshape.py\u001b[0m in \u001b[0;36m__init__\u001b[1;34m(self, values, index, level, value_columns, fill_value, constructor)\u001b[0m\n\u001b[0;32m    129\u001b[0m \u001b[1;33m\u001b[0m\u001b[0m\n\u001b[0;32m    130\u001b[0m         \u001b[0mself\u001b[0m\u001b[1;33m.\u001b[0m\u001b[0m_make_sorted_values_labels\u001b[0m\u001b[1;33m(\u001b[0m\u001b[1;33m)\u001b[0m\u001b[1;33m\u001b[0m\u001b[0m\n\u001b[1;32m--> 131\u001b[1;33m         \u001b[0mself\u001b[0m\u001b[1;33m.\u001b[0m\u001b[0m_make_selectors\u001b[0m\u001b[1;33m(\u001b[0m\u001b[1;33m)\u001b[0m\u001b[1;33m\u001b[0m\u001b[0m\n\u001b[0m\u001b[0;32m    132\u001b[0m \u001b[1;33m\u001b[0m\u001b[0m\n\u001b[0;32m    133\u001b[0m     \u001b[1;32mdef\u001b[0m \u001b[0m_make_sorted_values_labels\u001b[0m\u001b[1;33m(\u001b[0m\u001b[0mself\u001b[0m\u001b[1;33m)\u001b[0m\u001b[1;33m:\u001b[0m\u001b[1;33m\u001b[0m\u001b[0m\n",
      "\u001b[1;32m~\\Anaconda3\\lib\\site-packages\\pandas\\core\\reshape\\reshape.py\u001b[0m in \u001b[0;36m_make_selectors\u001b[1;34m(self)\u001b[0m\n\u001b[0;32m    167\u001b[0m \u001b[1;33m\u001b[0m\u001b[0m\n\u001b[0;32m    168\u001b[0m         \u001b[1;32mif\u001b[0m \u001b[0mmask\u001b[0m\u001b[1;33m.\u001b[0m\u001b[0msum\u001b[0m\u001b[1;33m(\u001b[0m\u001b[1;33m)\u001b[0m \u001b[1;33m<\u001b[0m \u001b[0mlen\u001b[0m\u001b[1;33m(\u001b[0m\u001b[0mself\u001b[0m\u001b[1;33m.\u001b[0m\u001b[0mindex\u001b[0m\u001b[1;33m)\u001b[0m\u001b[1;33m:\u001b[0m\u001b[1;33m\u001b[0m\u001b[0m\n\u001b[1;32m--> 169\u001b[1;33m             raise ValueError('Index contains duplicate entries, '\n\u001b[0m\u001b[0;32m    170\u001b[0m                              'cannot reshape')\n\u001b[0;32m    171\u001b[0m \u001b[1;33m\u001b[0m\u001b[0m\n",
      "\u001b[1;31mValueError\u001b[0m: Index contains duplicate entries, cannot reshape"
     ]
    },
    {
     "data": {
      "image/png": "[encoded data removed]",
      "text/plain": [
       "<Figure size 432x288 with 1 Axes>"
      ]
     },
     "metadata": {},
     "output_type": "display_data"
    }
   ],
   "source": [
    "ax = sns.tsplot(data=df[10:],time = \"start_timestamp_f\", unit = \"machine_name\", \\\n",
    "               condition = \"machine_name\", value = \"realvalue\", color = \"black\")"
   ]
  },
  {
   "cell_type": "code",
   "execution_count": 42,
   "metadata": {},
   "outputs": [],
   "source": [
    "table1 = pd.pivot_table(df, index = 'sensor_type', \\\n",
    "               values = 'realvalue', columns = 'machine_name', \\\n",
    "               aggfunc={'realvalue': [min, max, np.mean]})"
   ]
  },
  {
   "cell_type": "code",
   "execution_count": null,
   "metadata": {},
   "outputs": [],
   "source": [
    "table1"
   ]
  },
  {
   "cell_type": "code",
   "execution_count": 32,
   "metadata": {},
   "outputs": [
    {
     "ename": "PermissionError",
     "evalue": "[Errno 13] Permission denied: 'Pivot table.csv'",
     "output_type": "error",
     "traceback": [
      "\u001b[1;31m---------------------------------------------------------------------------\u001b[0m",
      "\u001b[1;31mPermissionError\u001b[0m                           Traceback (most recent call last)",
      "\u001b[1;32m<ipython-input-32-0499a58ac583>\u001b[0m in \u001b[0;36m<module>\u001b[1;34m()\u001b[0m\n\u001b[1;32m----> 1\u001b[1;33m \u001b[0mtable1\u001b[0m\u001b[1;33m.\u001b[0m\u001b[0mto_csv\u001b[0m\u001b[1;33m(\u001b[0m\u001b[1;34m\"Pivot table.csv\"\u001b[0m\u001b[1;33m,\u001b[0m                  \u001b[0msep\u001b[0m \u001b[1;33m=\u001b[0m \u001b[1;34m';'\u001b[0m\u001b[1;33m,\u001b[0m \u001b[0mencoding\u001b[0m\u001b[1;33m=\u001b[0m\u001b[1;34m'utf-8'\u001b[0m\u001b[1;33m)\u001b[0m\u001b[1;33m\u001b[0m\u001b[0m\n\u001b[0m",
      "\u001b[1;32m~\\Anaconda3\\lib\\site-packages\\pandas\\core\\frame.py\u001b[0m in \u001b[0;36mto_csv\u001b[1;34m(self, path_or_buf, sep, na_rep, float_format, columns, header, index, index_label, mode, encoding, compression, quoting, quotechar, line_terminator, chunksize, tupleize_cols, date_format, doublequote, escapechar, decimal)\u001b[0m\n\u001b[0;32m   1743\u001b[0m                                  \u001b[0mdoublequote\u001b[0m\u001b[1;33m=\u001b[0m\u001b[0mdoublequote\u001b[0m\u001b[1;33m,\u001b[0m\u001b[1;33m\u001b[0m\u001b[0m\n\u001b[0;32m   1744\u001b[0m                                  escapechar=escapechar, decimal=decimal)\n\u001b[1;32m-> 1745\u001b[1;33m         \u001b[0mformatter\u001b[0m\u001b[1;33m.\u001b[0m\u001b[0msave\u001b[0m\u001b[1;33m(\u001b[0m\u001b[1;33m)\u001b[0m\u001b[1;33m\u001b[0m\u001b[0m\n\u001b[0m\u001b[0;32m   1746\u001b[0m \u001b[1;33m\u001b[0m\u001b[0m\n\u001b[0;32m   1747\u001b[0m         \u001b[1;32mif\u001b[0m \u001b[0mpath_or_buf\u001b[0m \u001b[1;32mis\u001b[0m \u001b[1;32mNone\u001b[0m\u001b[1;33m:\u001b[0m\u001b[1;33m\u001b[0m\u001b[0m\n",
      "\u001b[1;32m~\\Anaconda3\\lib\\site-packages\\pandas\\io\\formats\\csvs.py\u001b[0m in \u001b[0;36msave\u001b[1;34m(self)\u001b[0m\n\u001b[0;32m    134\u001b[0m             f, handles = _get_handle(self.path_or_buf, self.mode,\n\u001b[0;32m    135\u001b[0m                                      \u001b[0mencoding\u001b[0m\u001b[1;33m=\u001b[0m\u001b[0mencoding\u001b[0m\u001b[1;33m,\u001b[0m\u001b[1;33m\u001b[0m\u001b[0m\n\u001b[1;32m--> 136\u001b[1;33m                                      compression=None)\n\u001b[0m\u001b[0;32m    137\u001b[0m             \u001b[0mclose\u001b[0m \u001b[1;33m=\u001b[0m \u001b[1;32mTrue\u001b[0m \u001b[1;32mif\u001b[0m \u001b[0mself\u001b[0m\u001b[1;33m.\u001b[0m\u001b[0mcompression\u001b[0m \u001b[1;32mis\u001b[0m \u001b[1;32mNone\u001b[0m \u001b[1;32melse\u001b[0m \u001b[1;32mFalse\u001b[0m\u001b[1;33m\u001b[0m\u001b[0m\n\u001b[0;32m    138\u001b[0m \u001b[1;33m\u001b[0m\u001b[0m\n",
      "\u001b[1;32m~\\Anaconda3\\lib\\site-packages\\pandas\\io\\common.py\u001b[0m in \u001b[0;36m_get_handle\u001b[1;34m(path_or_buf, mode, encoding, compression, memory_map, is_text)\u001b[0m\n\u001b[0;32m    398\u001b[0m         \u001b[1;32melif\u001b[0m \u001b[0mencoding\u001b[0m\u001b[1;33m:\u001b[0m\u001b[1;33m\u001b[0m\u001b[0m\n\u001b[0;32m    399\u001b[0m             \u001b[1;31m# Python 3 and encoding\u001b[0m\u001b[1;33m\u001b[0m\u001b[1;33m\u001b[0m\u001b[0m\n\u001b[1;32m--> 400\u001b[1;33m             \u001b[0mf\u001b[0m \u001b[1;33m=\u001b[0m \u001b[0mopen\u001b[0m\u001b[1;33m(\u001b[0m\u001b[0mpath_or_buf\u001b[0m\u001b[1;33m,\u001b[0m \u001b[0mmode\u001b[0m\u001b[1;33m,\u001b[0m \u001b[0mencoding\u001b[0m\u001b[1;33m=\u001b[0m\u001b[0mencoding\u001b[0m\u001b[1;33m)\u001b[0m\u001b[1;33m\u001b[0m\u001b[0m\n\u001b[0m\u001b[0;32m    401\u001b[0m         \u001b[1;32melif\u001b[0m \u001b[0mis_text\u001b[0m\u001b[1;33m:\u001b[0m\u001b[1;33m\u001b[0m\u001b[0m\n\u001b[0;32m    402\u001b[0m             \u001b[1;31m# Python 3 and no explicit encoding\u001b[0m\u001b[1;33m\u001b[0m\u001b[1;33m\u001b[0m\u001b[0m\n",
      "\u001b[1;31mPermissionError\u001b[0m: [Errno 13] Permission denied: 'Pivot table.csv'"
     ]
    }
   ],
   "source": [
    "table1.to_csv(\"Pivot table.csv\", \\\n",
    "                 sep = ';', encoding='utf-8')"
   ]
  },
  {
   "cell_type": "code",
   "execution_count": 46,
   "metadata": {},
   "outputs": [],
   "source": [
    "df['hour'] = [df['start_timestamp_f'][x].hour for x in range(data.shape[0])]"
   ]
  },
  {
   "cell_type": "code",
   "execution_count": 48,
   "metadata": {},
   "outputs": [],
   "source": [
    "df['year'] = [df['start_timestamp_f'][x].year for x in range(data.shape[0])]"
   ]
  },
  {
   "cell_type": "code",
   "execution_count": 49,
   "metadata": {},
   "outputs": [],
   "source": [
    "df['month'] = [df['start_timestamp_f'][x].month for x in range(data.shape[0])]"
   ]
  },
  {
   "cell_type": "code",
   "execution_count": 52,
   "metadata": {},
   "outputs": [],
   "source": [
    "table2 = pd.pivot_table(df, index = ['machine_name','sensor_type'], \\\n",
    "               values = 'realvalue', columns = 'hour', \\\n",
    "               aggfunc={'realvalue': [min, max, np.mean]})"
   ]
  },
  {
   "cell_type": "code",
   "execution_count": 44,
   "metadata": {},
   "outputs": [],
   "source": [
    "table2.to_csv(\"Pivot table Hour Diostribution.csv\", \\\n",
    "                 sep = ';', encoding='utf-8')"
   ]
  },
  {
   "cell_type": "code",
   "execution_count": 56,
   "metadata": {},
   "outputs": [],
   "source": [
    "table3 = pd.pivot_table(df, index = ['machine_name','sensor_type'], \\\n",
    "               values = 'realvalue', columns = 'month', \\\n",
    "               aggfunc={'realvalue': [min, max, np.mean]})"
   ]
  },
  {
   "cell_type": "code",
   "execution_count": 59,
   "metadata": {},
   "outputs": [
    {
     "ename": "PermissionError",
     "evalue": "[Errno 13] Permission denied: 'Pivot table Monthly Diostribution.csv'",
     "output_type": "error",
     "traceback": [
      "\u001b[1;31m---------------------------------------------------------------------------\u001b[0m",
      "\u001b[1;31mPermissionError\u001b[0m                           Traceback (most recent call last)",
      "\u001b[1;32m<ipython-input-59-a556475efd22>\u001b[0m in \u001b[0;36m<module>\u001b[1;34m()\u001b[0m\n\u001b[1;32m----> 1\u001b[1;33m \u001b[0mtable3\u001b[0m\u001b[1;33m.\u001b[0m\u001b[0mto_csv\u001b[0m\u001b[1;33m(\u001b[0m\u001b[1;34m\"Pivot table Monthly Diostribution.csv\"\u001b[0m\u001b[1;33m,\u001b[0m                  \u001b[0msep\u001b[0m \u001b[1;33m=\u001b[0m \u001b[1;34m';'\u001b[0m\u001b[1;33m,\u001b[0m \u001b[0mencoding\u001b[0m\u001b[1;33m=\u001b[0m\u001b[1;34m'utf-8'\u001b[0m\u001b[1;33m)\u001b[0m\u001b[1;33m\u001b[0m\u001b[0m\n\u001b[0m",
      "\u001b[1;32m~\\Anaconda3\\lib\\site-packages\\pandas\\core\\frame.py\u001b[0m in \u001b[0;36mto_csv\u001b[1;34m(self, path_or_buf, sep, na_rep, float_format, columns, header, index, index_label, mode, encoding, compression, quoting, quotechar, line_terminator, chunksize, tupleize_cols, date_format, doublequote, escapechar, decimal)\u001b[0m\n\u001b[0;32m   1743\u001b[0m                                  \u001b[0mdoublequote\u001b[0m\u001b[1;33m=\u001b[0m\u001b[0mdoublequote\u001b[0m\u001b[1;33m,\u001b[0m\u001b[1;33m\u001b[0m\u001b[0m\n\u001b[0;32m   1744\u001b[0m                                  escapechar=escapechar, decimal=decimal)\n\u001b[1;32m-> 1745\u001b[1;33m         \u001b[0mformatter\u001b[0m\u001b[1;33m.\u001b[0m\u001b[0msave\u001b[0m\u001b[1;33m(\u001b[0m\u001b[1;33m)\u001b[0m\u001b[1;33m\u001b[0m\u001b[0m\n\u001b[0m\u001b[0;32m   1746\u001b[0m \u001b[1;33m\u001b[0m\u001b[0m\n\u001b[0;32m   1747\u001b[0m         \u001b[1;32mif\u001b[0m \u001b[0mpath_or_buf\u001b[0m \u001b[1;32mis\u001b[0m \u001b[1;32mNone\u001b[0m\u001b[1;33m:\u001b[0m\u001b[1;33m\u001b[0m\u001b[0m\n",
      "\u001b[1;32m~\\Anaconda3\\lib\\site-packages\\pandas\\io\\formats\\csvs.py\u001b[0m in \u001b[0;36msave\u001b[1;34m(self)\u001b[0m\n\u001b[0;32m    134\u001b[0m             f, handles = _get_handle(self.path_or_buf, self.mode,\n\u001b[0;32m    135\u001b[0m                                      \u001b[0mencoding\u001b[0m\u001b[1;33m=\u001b[0m\u001b[0mencoding\u001b[0m\u001b[1;33m,\u001b[0m\u001b[1;33m\u001b[0m\u001b[0m\n\u001b[1;32m--> 136\u001b[1;33m                                      compression=None)\n\u001b[0m\u001b[0;32m    137\u001b[0m             \u001b[0mclose\u001b[0m \u001b[1;33m=\u001b[0m \u001b[1;32mTrue\u001b[0m \u001b[1;32mif\u001b[0m \u001b[0mself\u001b[0m\u001b[1;33m.\u001b[0m\u001b[0mcompression\u001b[0m \u001b[1;32mis\u001b[0m \u001b[1;32mNone\u001b[0m \u001b[1;32melse\u001b[0m \u001b[1;32mFalse\u001b[0m\u001b[1;33m\u001b[0m\u001b[0m\n\u001b[0;32m    138\u001b[0m \u001b[1;33m\u001b[0m\u001b[0m\n",
      "\u001b[1;32m~\\Anaconda3\\lib\\site-packages\\pandas\\io\\common.py\u001b[0m in \u001b[0;36m_get_handle\u001b[1;34m(path_or_buf, mode, encoding, compression, memory_map, is_text)\u001b[0m\n\u001b[0;32m    398\u001b[0m         \u001b[1;32melif\u001b[0m \u001b[0mencoding\u001b[0m\u001b[1;33m:\u001b[0m\u001b[1;33m\u001b[0m\u001b[0m\n\u001b[0;32m    399\u001b[0m             \u001b[1;31m# Python 3 and encoding\u001b[0m\u001b[1;33m\u001b[0m\u001b[1;33m\u001b[0m\u001b[0m\n\u001b[1;32m--> 400\u001b[1;33m             \u001b[0mf\u001b[0m \u001b[1;33m=\u001b[0m \u001b[0mopen\u001b[0m\u001b[1;33m(\u001b[0m\u001b[0mpath_or_buf\u001b[0m\u001b[1;33m,\u001b[0m \u001b[0mmode\u001b[0m\u001b[1;33m,\u001b[0m \u001b[0mencoding\u001b[0m\u001b[1;33m=\u001b[0m\u001b[0mencoding\u001b[0m\u001b[1;33m)\u001b[0m\u001b[1;33m\u001b[0m\u001b[0m\n\u001b[0m\u001b[0;32m    401\u001b[0m         \u001b[1;32melif\u001b[0m \u001b[0mis_text\u001b[0m\u001b[1;33m:\u001b[0m\u001b[1;33m\u001b[0m\u001b[0m\n\u001b[0;32m    402\u001b[0m             \u001b[1;31m# Python 3 and no explicit encoding\u001b[0m\u001b[1;33m\u001b[0m\u001b[1;33m\u001b[0m\u001b[0m\n",
      "\u001b[1;31mPermissionError\u001b[0m: [Errno 13] Permission denied: 'Pivot table Monthly Diostribution.csv'"
     ]
    }
   ],
   "source": [
    "table3.to_csv(\"Pivot table Monthly Diostribution.csv\", \\\n",
    "                 sep = ';', encoding='utf-8')"
   ]
  },
  {
   "cell_type": "code",
   "execution_count": 64,
   "metadata": {},
   "outputs": [],
   "source": [
    "table4 = pd.pivot_table(df, index = ['machine_name','sensor_type'], \\\n",
    "               values = 'realvalue', columns = 'month', \\\n",
    "               aggfunc={'realvalue': [min, max, np.mean]})"
   ]
  },
  {
   "cell_type": "code",
   "execution_count": 67,
   "metadata": {},
   "outputs": [],
   "source": [
    "table5 = pd.pivot_table(df, index = ['machine_name','month'], \\\n",
    "               values = 'realvalue', columns = 'hour', \\\n",
    "               aggfunc={'realvalue': [max]})"
   ]
  },
  {
   "cell_type": "code",
   "execution_count": 72,
   "metadata": {},
   "outputs": [
    {
     "ename": "PermissionError",
     "evalue": "[Errno 13] Permission denied: 'Pivot table Month Hour Diostribution.csv'",
     "output_type": "error",
     "traceback": [
      "\u001b[1;31m---------------------------------------------------------------------------\u001b[0m",
      "\u001b[1;31mPermissionError\u001b[0m                           Traceback (most recent call last)",
      "\u001b[1;32m<ipython-input-72-e10a83ba5cee>\u001b[0m in \u001b[0;36m<module>\u001b[1;34m()\u001b[0m\n\u001b[1;32m----> 1\u001b[1;33m \u001b[0mtable5\u001b[0m\u001b[1;33m.\u001b[0m\u001b[0mto_csv\u001b[0m\u001b[1;33m(\u001b[0m\u001b[1;34m\"Pivot table Month Hour Diostribution.csv\"\u001b[0m\u001b[1;33m,\u001b[0m                  \u001b[0msep\u001b[0m \u001b[1;33m=\u001b[0m \u001b[1;34m';'\u001b[0m\u001b[1;33m,\u001b[0m \u001b[0mencoding\u001b[0m\u001b[1;33m=\u001b[0m\u001b[1;34m'utf-8'\u001b[0m\u001b[1;33m)\u001b[0m\u001b[1;33m\u001b[0m\u001b[0m\n\u001b[0m",
      "\u001b[1;32m~\\Anaconda3\\lib\\site-packages\\pandas\\core\\frame.py\u001b[0m in \u001b[0;36mto_csv\u001b[1;34m(self, path_or_buf, sep, na_rep, float_format, columns, header, index, index_label, mode, encoding, compression, quoting, quotechar, line_terminator, chunksize, tupleize_cols, date_format, doublequote, escapechar, decimal)\u001b[0m\n\u001b[0;32m   1743\u001b[0m                                  \u001b[0mdoublequote\u001b[0m\u001b[1;33m=\u001b[0m\u001b[0mdoublequote\u001b[0m\u001b[1;33m,\u001b[0m\u001b[1;33m\u001b[0m\u001b[0m\n\u001b[0;32m   1744\u001b[0m                                  escapechar=escapechar, decimal=decimal)\n\u001b[1;32m-> 1745\u001b[1;33m         \u001b[0mformatter\u001b[0m\u001b[1;33m.\u001b[0m\u001b[0msave\u001b[0m\u001b[1;33m(\u001b[0m\u001b[1;33m)\u001b[0m\u001b[1;33m\u001b[0m\u001b[0m\n\u001b[0m\u001b[0;32m   1746\u001b[0m \u001b[1;33m\u001b[0m\u001b[0m\n\u001b[0;32m   1747\u001b[0m         \u001b[1;32mif\u001b[0m \u001b[0mpath_or_buf\u001b[0m \u001b[1;32mis\u001b[0m \u001b[1;32mNone\u001b[0m\u001b[1;33m:\u001b[0m\u001b[1;33m\u001b[0m\u001b[0m\n",
      "\u001b[1;32m~\\Anaconda3\\lib\\site-packages\\pandas\\io\\formats\\csvs.py\u001b[0m in \u001b[0;36msave\u001b[1;34m(self)\u001b[0m\n\u001b[0;32m    134\u001b[0m             f, handles = _get_handle(self.path_or_buf, self.mode,\n\u001b[0;32m    135\u001b[0m                                      \u001b[0mencoding\u001b[0m\u001b[1;33m=\u001b[0m\u001b[0mencoding\u001b[0m\u001b[1;33m,\u001b[0m\u001b[1;33m\u001b[0m\u001b[0m\n\u001b[1;32m--> 136\u001b[1;33m                                      compression=None)\n\u001b[0m\u001b[0;32m    137\u001b[0m             \u001b[0mclose\u001b[0m \u001b[1;33m=\u001b[0m \u001b[1;32mTrue\u001b[0m \u001b[1;32mif\u001b[0m \u001b[0mself\u001b[0m\u001b[1;33m.\u001b[0m\u001b[0mcompression\u001b[0m \u001b[1;32mis\u001b[0m \u001b[1;32mNone\u001b[0m \u001b[1;32melse\u001b[0m \u001b[1;32mFalse\u001b[0m\u001b[1;33m\u001b[0m\u001b[0m\n\u001b[0;32m    138\u001b[0m \u001b[1;33m\u001b[0m\u001b[0m\n",
      "\u001b[1;32m~\\Anaconda3\\lib\\site-packages\\pandas\\io\\common.py\u001b[0m in \u001b[0;36m_get_handle\u001b[1;34m(path_or_buf, mode, encoding, compression, memory_map, is_text)\u001b[0m\n\u001b[0;32m    398\u001b[0m         \u001b[1;32melif\u001b[0m \u001b[0mencoding\u001b[0m\u001b[1;33m:\u001b[0m\u001b[1;33m\u001b[0m\u001b[0m\n\u001b[0;32m    399\u001b[0m             \u001b[1;31m# Python 3 and encoding\u001b[0m\u001b[1;33m\u001b[0m\u001b[1;33m\u001b[0m\u001b[0m\n\u001b[1;32m--> 400\u001b[1;33m             \u001b[0mf\u001b[0m \u001b[1;33m=\u001b[0m \u001b[0mopen\u001b[0m\u001b[1;33m(\u001b[0m\u001b[0mpath_or_buf\u001b[0m\u001b[1;33m,\u001b[0m \u001b[0mmode\u001b[0m\u001b[1;33m,\u001b[0m \u001b[0mencoding\u001b[0m\u001b[1;33m=\u001b[0m\u001b[0mencoding\u001b[0m\u001b[1;33m)\u001b[0m\u001b[1;33m\u001b[0m\u001b[0m\n\u001b[0m\u001b[0;32m    401\u001b[0m         \u001b[1;32melif\u001b[0m \u001b[0mis_text\u001b[0m\u001b[1;33m:\u001b[0m\u001b[1;33m\u001b[0m\u001b[0m\n\u001b[0;32m    402\u001b[0m             \u001b[1;31m# Python 3 and no explicit encoding\u001b[0m\u001b[1;33m\u001b[0m\u001b[1;33m\u001b[0m\u001b[0m\n",
      "\u001b[1;31mPermissionError\u001b[0m: [Errno 13] Permission denied: 'Pivot table Month Hour Diostribution.csv'"
     ]
    }
   ],
   "source": [
    "table5.to_csv(\"Pivot table Month Hour Diostribution.csv\", \\\n",
    "                 sep = ';', encoding='utf-8')"
   ]
  },
  {
   "cell_type": "code",
   "execution_count": 74,
   "metadata": {},
   "outputs": [
    {
     "data": {
      "text/plain": [
       "dtype('int64')"
      ]
     },
     "execution_count": 74,
     "metadata": {},
     "output_type": "execute_result"
    }
   ],
   "source": [
    "df['month'].dtype"
   ]
  },
  {
   "cell_type": "code",
   "execution_count": 78,
   "metadata": {},
   "outputs": [],
   "source": [
    "test = df[(df['month'] == 3) & (df['machine_name'] == 'RBG2')]"
   ]
  },
  {
   "cell_type": "code",
   "execution_count": 86,
   "metadata": {},
   "outputs": [],
   "source": [
    "table6 = pd.pivot_table(test, index = ['date_measurement_f'], \\\n",
    "               values = 'realvalue', columns = 'hour', \\\n",
    "               aggfunc={'realvalue': [max]})"
   ]
  },
  {
   "cell_type": "code",
   "execution_count": 87,
   "metadata": {},
   "outputs": [],
   "source": [
    "table6.to_csv(\"Pivot table Special.csv\", \\\n",
    "                 sep = ';', encoding='utf-8')"
   ]
  }
 ],
 "metadata": {
  "kernelspec": {
   "display_name": "Python 3",
   "language": "python",
   "name": "python3"
  },
  "language_info": {
   "codemirror_mode": {
    "name": "ipython",
    "version": 3
   },
   "file_extension": ".py",
   "mimetype": "text/x-python",
   "name": "python",
   "nbconvert_exporter": "python",
   "pygments_lexer": "ipython3",
   "version": "3.6.5"
  }
 },
 "nbformat": 4,
 "nbformat_minor": 2
}
