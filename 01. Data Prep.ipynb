{
 "cells": [
  {
   "cell_type": "markdown",
   "metadata": {},
   "source": [
    "## Data investigation"
   ]
  },
  {
   "cell_type": "markdown",
   "metadata": {},
   "source": [
    "Data import"
   ]
  },
  {
   "cell_type": "markdown",
   "metadata": {},
   "source": [
    "Import libs"
   ]
  },
  {
   "cell_type": "code",
   "execution_count": 66,
   "metadata": {},
   "outputs": [],
   "source": [
    "import numpy as np\n",
    "import pandas as pd\n",
    "from datetime import datetime\n",
    "import matplotlib.pyplot as plt\n",
    "plt.style.use('ggplot')\n",
    "import seaborn as sns\n",
    "sns.set(color_codes=True)\n",
    "%matplotlib inline"
   ]
  },
  {
   "cell_type": "code",
   "execution_count": 2,
   "metadata": {},
   "outputs": [
    {
     "name": "stdout",
     "output_type": "stream",
     "text": [
      "Time imprt had taken 8.00 seconds\n"
     ]
    }
   ],
   "source": [
    "## Import the sample data\n",
    "## clock the time for import\n",
    "\n",
    "df = pd.read_csv(\"..//data//20180920_Kaufland_case_IoT_and_predictive_maintenance.csv\",\n",
    "                 sep = ';', encoding='utf-8')\n",
    "\n",
    "schema = {\n",
    "    \"date_measurement\": 'datetime64[ns]',\n",
    "    \"start_timestamp\": 'datetime64[ns]',\n",
    "    \"end_timestamp\": 'datetime64[ns]',\n",
    "}\n",
    "\n",
    "df = df.astype(schema)"
   ]
  },
  {
   "cell_type": "markdown",
   "metadata": {},
   "source": [
    "# group by machine, sensor and day and create a column for the max measurement for the particular hour."
   ]
  },
  {
   "cell_type": "code",
   "execution_count": 3,
   "metadata": {},
   "outputs": [
    {
     "data": {
      "text/plain": [
       "(3860434, 7)"
      ]
     },
     "execution_count": 3,
     "metadata": {},
     "output_type": "execute_result"
    }
   ],
   "source": [
    "## Describe data\n",
    "df.shape"
   ]
  },
  {
   "cell_type": "code",
   "execution_count": 4,
   "metadata": {},
   "outputs": [
    {
     "data": {
      "text/plain": [
       "Index(['ifm_analysis_sensordata_for_datathon_final.machine_name',\n",
       "       'ifm_analysis_sensordata_for_datathon_final.sensor_type',\n",
       "       'ifm_analysis_sensordata_for_datathon_final.date_measurement',\n",
       "       'ifm_analysis_sensordata_for_datathon_final.start_timestamp',\n",
       "       'ifm_analysis_sensordata_for_datathon_final.end_timestamp',\n",
       "       'ifm_analysis_sensordata_for_datathon_final.realvalue',\n",
       "       'ifm_analysis_sensordata_for_datathon_final.unit'],\n",
       "      dtype='object')"
      ]
     },
     "execution_count": 4,
     "metadata": {},
     "output_type": "execute_result"
    }
   ],
   "source": [
    "## Look at the column names\n",
    "df.columns"
   ]
  },
  {
   "cell_type": "markdown",
   "metadata": {},
   "source": [
    "# Rename columns"
   ]
  },
  {
   "cell_type": "code",
   "execution_count": 5,
   "metadata": {},
   "outputs": [],
   "source": [
    "df.columns = [x.split('.')[1] for x in df.columns.tolist()]"
   ]
  },
  {
   "cell_type": "code",
   "execution_count": 6,
   "metadata": {},
   "outputs": [
    {
     "data": {
      "text/plain": [
       "Index(['machine_name', 'sensor_type', 'date_measurement', 'start_timestamp',\n",
       "       'end_timestamp', 'realvalue', 'unit'],\n",
       "      dtype='object')"
      ]
     },
     "execution_count": 6,
     "metadata": {},
     "output_type": "execute_result"
    }
   ],
   "source": [
    "df.keys()"
   ]
  },
  {
   "cell_type": "code",
   "execution_count": 7,
   "metadata": {},
   "outputs": [
    {
     "data": {
      "text/html": [
       "<div>\n",
       "<style scoped>\n",
       "    .dataframe tbody tr th:only-of-type {\n",
       "        vertical-align: middle;\n",
       "    }\n",
       "\n",
       "    .dataframe tbody tr th {\n",
       "        vertical-align: top;\n",
       "    }\n",
       "\n",
       "    .dataframe thead th {\n",
       "        text-align: right;\n",
       "    }\n",
       "</style>\n",
       "<table border=\"1\" class=\"dataframe\">\n",
       "  <thead>\n",
       "    <tr style=\"text-align: right;\">\n",
       "      <th></th>\n",
       "      <th>realvalue</th>\n",
       "    </tr>\n",
       "  </thead>\n",
       "  <tbody>\n",
       "    <tr>\n",
       "      <th>count</th>\n",
       "      <td>3.860434e+06</td>\n",
       "    </tr>\n",
       "    <tr>\n",
       "      <th>mean</th>\n",
       "      <td>1.221669e+03</td>\n",
       "    </tr>\n",
       "    <tr>\n",
       "      <th>std</th>\n",
       "      <td>1.893225e+03</td>\n",
       "    </tr>\n",
       "    <tr>\n",
       "      <th>min</th>\n",
       "      <td>2.000000e-03</td>\n",
       "    </tr>\n",
       "    <tr>\n",
       "      <th>25%</th>\n",
       "      <td>2.379000e+00</td>\n",
       "    </tr>\n",
       "    <tr>\n",
       "      <th>50%</th>\n",
       "      <td>7.261400e+02</td>\n",
       "    </tr>\n",
       "    <tr>\n",
       "      <th>75%</th>\n",
       "      <td>1.357672e+03</td>\n",
       "    </tr>\n",
       "    <tr>\n",
       "      <th>max</th>\n",
       "      <td>2.407599e+04</td>\n",
       "    </tr>\n",
       "  </tbody>\n",
       "</table>\n",
       "</div>"
      ],
      "text/plain": [
       "          realvalue\n",
       "count  3.860434e+06\n",
       "mean   1.221669e+03\n",
       "std    1.893225e+03\n",
       "min    2.000000e-03\n",
       "25%    2.379000e+00\n",
       "50%    7.261400e+02\n",
       "75%    1.357672e+03\n",
       "max    2.407599e+04"
      ]
     },
     "execution_count": 7,
     "metadata": {},
     "output_type": "execute_result"
    }
   ],
   "source": [
    "df.describe()"
   ]
  },
  {
   "cell_type": "code",
   "execution_count": 8,
   "metadata": {},
   "outputs": [
    {
     "data": {
      "text/html": [
       "<div>\n",
       "<style scoped>\n",
       "    .dataframe tbody tr th:only-of-type {\n",
       "        vertical-align: middle;\n",
       "    }\n",
       "\n",
       "    .dataframe tbody tr th {\n",
       "        vertical-align: top;\n",
       "    }\n",
       "\n",
       "    .dataframe thead th {\n",
       "        text-align: right;\n",
       "    }\n",
       "</style>\n",
       "<table border=\"1\" class=\"dataframe\">\n",
       "  <thead>\n",
       "    <tr style=\"text-align: right;\">\n",
       "      <th></th>\n",
       "      <th>machine_name</th>\n",
       "      <th>sensor_type</th>\n",
       "      <th>date_measurement</th>\n",
       "      <th>start_timestamp</th>\n",
       "      <th>end_timestamp</th>\n",
       "      <th>realvalue</th>\n",
       "      <th>unit</th>\n",
       "    </tr>\n",
       "  </thead>\n",
       "  <tbody>\n",
       "    <tr>\n",
       "      <th>0</th>\n",
       "      <td>RBG1</td>\n",
       "      <td>drive_gear_V_eff</td>\n",
       "      <td>2016-09-02</td>\n",
       "      <td>2016-09-02 15:26:42.823</td>\n",
       "      <td>2016-09-02 15:26:42.823</td>\n",
       "      <td>0.395</td>\n",
       "      <td>mm/s</td>\n",
       "    </tr>\n",
       "    <tr>\n",
       "      <th>1</th>\n",
       "      <td>RBG1</td>\n",
       "      <td>drive_gear_V_eff</td>\n",
       "      <td>2016-09-02</td>\n",
       "      <td>2016-09-02 15:26:45.653</td>\n",
       "      <td>2016-09-02 15:26:45.653</td>\n",
       "      <td>0.577</td>\n",
       "      <td>mm/s</td>\n",
       "    </tr>\n",
       "    <tr>\n",
       "      <th>2</th>\n",
       "      <td>RBG1</td>\n",
       "      <td>drive_gear_V_eff</td>\n",
       "      <td>2016-09-02</td>\n",
       "      <td>2016-09-02 15:26:48.467</td>\n",
       "      <td>2016-09-02 15:26:48.467</td>\n",
       "      <td>0.717</td>\n",
       "      <td>mm/s</td>\n",
       "    </tr>\n",
       "  </tbody>\n",
       "</table>\n",
       "</div>"
      ],
      "text/plain": [
       "  machine_name       sensor_type date_measurement          start_timestamp  \\\n",
       "0         RBG1  drive_gear_V_eff       2016-09-02  2016-09-02 15:26:42.823   \n",
       "1         RBG1  drive_gear_V_eff       2016-09-02  2016-09-02 15:26:45.653   \n",
       "2         RBG1  drive_gear_V_eff       2016-09-02  2016-09-02 15:26:48.467   \n",
       "\n",
       "             end_timestamp  realvalue  unit  \n",
       "0  2016-09-02 15:26:42.823      0.395  mm/s  \n",
       "1  2016-09-02 15:26:45.653      0.577  mm/s  \n",
       "2  2016-09-02 15:26:48.467      0.717  mm/s  "
      ]
     },
     "execution_count": 8,
     "metadata": {},
     "output_type": "execute_result"
    }
   ],
   "source": [
    "df.head(3)"
   ]
  },
  {
   "cell_type": "code",
   "execution_count": 9,
   "metadata": {},
   "outputs": [
    {
     "data": {
      "text/plain": [
       "array(['drive_gear_V_eff', 'drive_gear_a_max', 'drive_motor_V_eff',\n",
       "       'drive_motor_a_max', 'drive_wheel_V_eff', 'drive_wheel_a_max',\n",
       "       'idle_wheel_V_eff', 'idle_wheel_a_max', 'lifting_gear_V_eff',\n",
       "       'lifting_gear_a_max', 'lifting_motor_V_eff', 'lifting_motor_a_max'],\n",
       "      dtype=object)"
      ]
     },
     "execution_count": 9,
     "metadata": {},
     "output_type": "execute_result"
    }
   ],
   "source": [
    "df.sensor_type.unique()"
   ]
  },
  {
   "cell_type": "code",
   "execution_count": 10,
   "metadata": {},
   "outputs": [
    {
     "data": {
      "text/plain": [
       "['RBG1', 'RBG2', 'RBG3', 'RBG4', 'RBG5', 'RBG6', 'RBG7']"
      ]
     },
     "execution_count": 10,
     "metadata": {},
     "output_type": "execute_result"
    }
   ],
   "source": [
    "df.machine_name.unique().tolist()"
   ]
  },
  {
   "cell_type": "code",
   "execution_count": 11,
   "metadata": {},
   "outputs": [
    {
     "data": {
      "text/plain": [
       "RBG7    1264573\n",
       "RBG1     928255\n",
       "RBG2     346060\n",
       "RBG3     340404\n",
       "RBG4     332969\n",
       "RBG6     330710\n",
       "RBG5     317463\n",
       "Name: machine_name, dtype: int64"
      ]
     },
     "execution_count": 11,
     "metadata": {},
     "output_type": "execute_result"
    }
   ],
   "source": [
    "df.machine_name.value_counts()"
   ]
  },
  {
   "cell_type": "code",
   "execution_count": 157,
   "metadata": {},
   "outputs": [],
   "source": [
    "## Save all the groups\n",
    "# for machine in df.machine_name.unique().tolist():\n",
    "#     df[df.machine_name == machine].to_csv(f\"..//data//{machine}.csv\", index=False)"
   ]
  },
  {
   "cell_type": "code",
   "execution_count": 12,
   "metadata": {},
   "outputs": [
    {
     "data": {
      "text/plain": [
       "machine_name         object\n",
       "sensor_type          object\n",
       "date_measurement     object\n",
       "start_timestamp      object\n",
       "end_timestamp        object\n",
       "realvalue           float64\n",
       "unit                 object\n",
       "dtype: object"
      ]
     },
     "execution_count": 12,
     "metadata": {},
     "output_type": "execute_result"
    }
   ],
   "source": [
    "df.dtypes"
   ]
  },
  {
   "cell_type": "code",
   "execution_count": 13,
   "metadata": {},
   "outputs": [
    {
     "data": {
      "text/plain": [
       "Index(['machine_name', 'sensor_type', 'date_measurement', 'start_timestamp',\n",
       "       'end_timestamp', 'realvalue', 'unit'],\n",
       "      dtype='object')"
      ]
     },
     "execution_count": 13,
     "metadata": {},
     "output_type": "execute_result"
    }
   ],
   "source": [
    "df.keys()"
   ]
  },
  {
   "cell_type": "code",
   "execution_count": 14,
   "metadata": {},
   "outputs": [],
   "source": [
    "## Convrt to datetime\n",
    "df[\"date_measurement_f\"] = pd.to_datetime(df[\"date_measurement\"])\n",
    "\n",
    "## Convrt to datetime\n",
    "df[\"start_timestamp_f\"] = pd.to_datetime(df[\"start_timestamp\"])\n",
    "\n",
    "## Convrt to datetime\n",
    "df[\"end_timestamp_f\"] = pd.to_datetime(df[\"end_timestamp\"])"
   ]
  },
  {
   "cell_type": "code",
   "execution_count": 15,
   "metadata": {},
   "outputs": [
    {
     "data": {
      "text/plain": [
       "machine_name                  object\n",
       "sensor_type                   object\n",
       "date_measurement              object\n",
       "start_timestamp               object\n",
       "end_timestamp                 object\n",
       "realvalue                    float64\n",
       "unit                          object\n",
       "date_measurement_f    datetime64[ns]\n",
       "start_timestamp_f     datetime64[ns]\n",
       "end_timestamp_f       datetime64[ns]\n",
       "dtype: object"
      ]
     },
     "execution_count": 15,
     "metadata": {},
     "output_type": "execute_result"
    }
   ],
   "source": [
    "df.dtypes"
   ]
  },
  {
   "cell_type": "code",
   "execution_count": 16,
   "metadata": {},
   "outputs": [
    {
     "data": {
      "text/html": [
       "<div>\n",
       "<style scoped>\n",
       "    .dataframe tbody tr th:only-of-type {\n",
       "        vertical-align: middle;\n",
       "    }\n",
       "\n",
       "    .dataframe tbody tr th {\n",
       "        vertical-align: top;\n",
       "    }\n",
       "\n",
       "    .dataframe thead th {\n",
       "        text-align: right;\n",
       "    }\n",
       "</style>\n",
       "<table border=\"1\" class=\"dataframe\">\n",
       "  <thead>\n",
       "    <tr style=\"text-align: right;\">\n",
       "      <th></th>\n",
       "      <th>machine_name</th>\n",
       "      <th>sensor_type</th>\n",
       "      <th>date_measurement</th>\n",
       "      <th>start_timestamp</th>\n",
       "      <th>end_timestamp</th>\n",
       "      <th>realvalue</th>\n",
       "      <th>unit</th>\n",
       "      <th>date_measurement_f</th>\n",
       "      <th>start_timestamp_f</th>\n",
       "      <th>end_timestamp_f</th>\n",
       "    </tr>\n",
       "  </thead>\n",
       "  <tbody>\n",
       "    <tr>\n",
       "      <th>0</th>\n",
       "      <td>RBG1</td>\n",
       "      <td>drive_gear_V_eff</td>\n",
       "      <td>2016-09-02</td>\n",
       "      <td>2016-09-02 15:26:42.823</td>\n",
       "      <td>2016-09-02 15:26:42.823</td>\n",
       "      <td>0.395</td>\n",
       "      <td>mm/s</td>\n",
       "      <td>2016-09-02</td>\n",
       "      <td>2016-09-02 15:26:42.823</td>\n",
       "      <td>2016-09-02 15:26:42.823</td>\n",
       "    </tr>\n",
       "    <tr>\n",
       "      <th>1</th>\n",
       "      <td>RBG1</td>\n",
       "      <td>drive_gear_V_eff</td>\n",
       "      <td>2016-09-02</td>\n",
       "      <td>2016-09-02 15:26:45.653</td>\n",
       "      <td>2016-09-02 15:26:45.653</td>\n",
       "      <td>0.577</td>\n",
       "      <td>mm/s</td>\n",
       "      <td>2016-09-02</td>\n",
       "      <td>2016-09-02 15:26:45.653</td>\n",
       "      <td>2016-09-02 15:26:45.653</td>\n",
       "    </tr>\n",
       "    <tr>\n",
       "      <th>2</th>\n",
       "      <td>RBG1</td>\n",
       "      <td>drive_gear_V_eff</td>\n",
       "      <td>2016-09-02</td>\n",
       "      <td>2016-09-02 15:26:48.467</td>\n",
       "      <td>2016-09-02 15:26:48.467</td>\n",
       "      <td>0.717</td>\n",
       "      <td>mm/s</td>\n",
       "      <td>2016-09-02</td>\n",
       "      <td>2016-09-02 15:26:48.467</td>\n",
       "      <td>2016-09-02 15:26:48.467</td>\n",
       "    </tr>\n",
       "  </tbody>\n",
       "</table>\n",
       "</div>"
      ],
      "text/plain": [
       "  machine_name       sensor_type date_measurement          start_timestamp  \\\n",
       "0         RBG1  drive_gear_V_eff       2016-09-02  2016-09-02 15:26:42.823   \n",
       "1         RBG1  drive_gear_V_eff       2016-09-02  2016-09-02 15:26:45.653   \n",
       "2         RBG1  drive_gear_V_eff       2016-09-02  2016-09-02 15:26:48.467   \n",
       "\n",
       "             end_timestamp  realvalue  unit date_measurement_f  \\\n",
       "0  2016-09-02 15:26:42.823      0.395  mm/s         2016-09-02   \n",
       "1  2016-09-02 15:26:45.653      0.577  mm/s         2016-09-02   \n",
       "2  2016-09-02 15:26:48.467      0.717  mm/s         2016-09-02   \n",
       "\n",
       "        start_timestamp_f         end_timestamp_f  \n",
       "0 2016-09-02 15:26:42.823 2016-09-02 15:26:42.823  \n",
       "1 2016-09-02 15:26:45.653 2016-09-02 15:26:45.653  \n",
       "2 2016-09-02 15:26:48.467 2016-09-02 15:26:48.467  "
      ]
     },
     "execution_count": 16,
     "metadata": {},
     "output_type": "execute_result"
    }
   ],
   "source": [
    "df.head(3)"
   ]
  },
  {
   "cell_type": "code",
   "execution_count": 17,
   "metadata": {},
   "outputs": [],
   "source": [
    "df.drop(['date_measurement', 'start_timestamp', 'end_timestamp'], inplace=True, axis=1)"
   ]
  },
  {
   "cell_type": "code",
   "execution_count": 18,
   "metadata": {},
   "outputs": [
    {
     "data": {
      "text/plain": [
       "Index(['machine_name', 'sensor_type', 'realvalue', 'unit',\n",
       "       'date_measurement_f', 'start_timestamp_f', 'end_timestamp_f'],\n",
       "      dtype='object')"
      ]
     },
     "execution_count": 18,
     "metadata": {},
     "output_type": "execute_result"
    }
   ],
   "source": [
    "df.columns"
   ]
  },
  {
   "cell_type": "code",
   "execution_count": 19,
   "metadata": {},
   "outputs": [],
   "source": [
    "df['measurement_hour'] = df.start_timestamp_f.apply(lambda x: x.hour)"
   ]
  },
  {
   "cell_type": "code",
   "execution_count": 20,
   "metadata": {},
   "outputs": [
    {
     "data": {
      "text/html": [
       "<div>\n",
       "<style scoped>\n",
       "    .dataframe tbody tr th:only-of-type {\n",
       "        vertical-align: middle;\n",
       "    }\n",
       "\n",
       "    .dataframe tbody tr th {\n",
       "        vertical-align: top;\n",
       "    }\n",
       "\n",
       "    .dataframe thead th {\n",
       "        text-align: right;\n",
       "    }\n",
       "</style>\n",
       "<table border=\"1\" class=\"dataframe\">\n",
       "  <thead>\n",
       "    <tr style=\"text-align: right;\">\n",
       "      <th></th>\n",
       "      <th>machine_name</th>\n",
       "      <th>sensor_type</th>\n",
       "      <th>realvalue</th>\n",
       "      <th>unit</th>\n",
       "      <th>date_measurement_f</th>\n",
       "      <th>start_timestamp_f</th>\n",
       "      <th>end_timestamp_f</th>\n",
       "      <th>measurement_hour</th>\n",
       "    </tr>\n",
       "  </thead>\n",
       "  <tbody>\n",
       "    <tr>\n",
       "      <th>0</th>\n",
       "      <td>RBG1</td>\n",
       "      <td>drive_gear_V_eff</td>\n",
       "      <td>0.395</td>\n",
       "      <td>mm/s</td>\n",
       "      <td>2016-09-02</td>\n",
       "      <td>2016-09-02 15:26:42.823</td>\n",
       "      <td>2016-09-02 15:26:42.823</td>\n",
       "      <td>15</td>\n",
       "    </tr>\n",
       "    <tr>\n",
       "      <th>1</th>\n",
       "      <td>RBG1</td>\n",
       "      <td>drive_gear_V_eff</td>\n",
       "      <td>0.577</td>\n",
       "      <td>mm/s</td>\n",
       "      <td>2016-09-02</td>\n",
       "      <td>2016-09-02 15:26:45.653</td>\n",
       "      <td>2016-09-02 15:26:45.653</td>\n",
       "      <td>15</td>\n",
       "    </tr>\n",
       "    <tr>\n",
       "      <th>2</th>\n",
       "      <td>RBG1</td>\n",
       "      <td>drive_gear_V_eff</td>\n",
       "      <td>0.717</td>\n",
       "      <td>mm/s</td>\n",
       "      <td>2016-09-02</td>\n",
       "      <td>2016-09-02 15:26:48.467</td>\n",
       "      <td>2016-09-02 15:26:48.467</td>\n",
       "      <td>15</td>\n",
       "    </tr>\n",
       "    <tr>\n",
       "      <th>3</th>\n",
       "      <td>RBG1</td>\n",
       "      <td>drive_gear_V_eff</td>\n",
       "      <td>0.832</td>\n",
       "      <td>mm/s</td>\n",
       "      <td>2016-09-02</td>\n",
       "      <td>2016-09-02 15:26:51.293</td>\n",
       "      <td>2016-09-02 15:26:51.293</td>\n",
       "      <td>15</td>\n",
       "    </tr>\n",
       "    <tr>\n",
       "      <th>4</th>\n",
       "      <td>RBG1</td>\n",
       "      <td>drive_gear_V_eff</td>\n",
       "      <td>0.941</td>\n",
       "      <td>mm/s</td>\n",
       "      <td>2016-09-02</td>\n",
       "      <td>2016-09-02 15:26:54.107</td>\n",
       "      <td>2016-09-02 15:26:54.107</td>\n",
       "      <td>15</td>\n",
       "    </tr>\n",
       "  </tbody>\n",
       "</table>\n",
       "</div>"
      ],
      "text/plain": [
       "  machine_name       sensor_type  realvalue  unit date_measurement_f  \\\n",
       "0         RBG1  drive_gear_V_eff      0.395  mm/s         2016-09-02   \n",
       "1         RBG1  drive_gear_V_eff      0.577  mm/s         2016-09-02   \n",
       "2         RBG1  drive_gear_V_eff      0.717  mm/s         2016-09-02   \n",
       "3         RBG1  drive_gear_V_eff      0.832  mm/s         2016-09-02   \n",
       "4         RBG1  drive_gear_V_eff      0.941  mm/s         2016-09-02   \n",
       "\n",
       "        start_timestamp_f         end_timestamp_f  measurement_hour  \n",
       "0 2016-09-02 15:26:42.823 2016-09-02 15:26:42.823                15  \n",
       "1 2016-09-02 15:26:45.653 2016-09-02 15:26:45.653                15  \n",
       "2 2016-09-02 15:26:48.467 2016-09-02 15:26:48.467                15  \n",
       "3 2016-09-02 15:26:51.293 2016-09-02 15:26:51.293                15  \n",
       "4 2016-09-02 15:26:54.107 2016-09-02 15:26:54.107                15  "
      ]
     },
     "execution_count": 20,
     "metadata": {},
     "output_type": "execute_result"
    }
   ],
   "source": [
    "df.head()"
   ]
  },
  {
   "cell_type": "code",
   "execution_count": 21,
   "metadata": {},
   "outputs": [],
   "source": [
    "df.drop(['start_timestamp_f', 'end_timestamp_f'], inplace=True, axis=1)"
   ]
  },
  {
   "cell_type": "code",
   "execution_count": 22,
   "metadata": {},
   "outputs": [
    {
     "data": {
      "text/html": [
       "<div>\n",
       "<style scoped>\n",
       "    .dataframe tbody tr th:only-of-type {\n",
       "        vertical-align: middle;\n",
       "    }\n",
       "\n",
       "    .dataframe tbody tr th {\n",
       "        vertical-align: top;\n",
       "    }\n",
       "\n",
       "    .dataframe thead th {\n",
       "        text-align: right;\n",
       "    }\n",
       "</style>\n",
       "<table border=\"1\" class=\"dataframe\">\n",
       "  <thead>\n",
       "    <tr style=\"text-align: right;\">\n",
       "      <th></th>\n",
       "      <th>machine_name</th>\n",
       "      <th>sensor_type</th>\n",
       "      <th>realvalue</th>\n",
       "      <th>unit</th>\n",
       "      <th>date_measurement_f</th>\n",
       "      <th>measurement_hour</th>\n",
       "    </tr>\n",
       "  </thead>\n",
       "  <tbody>\n",
       "    <tr>\n",
       "      <th>0</th>\n",
       "      <td>RBG1</td>\n",
       "      <td>drive_gear_V_eff</td>\n",
       "      <td>0.395</td>\n",
       "      <td>mm/s</td>\n",
       "      <td>2016-09-02</td>\n",
       "      <td>15</td>\n",
       "    </tr>\n",
       "    <tr>\n",
       "      <th>1</th>\n",
       "      <td>RBG1</td>\n",
       "      <td>drive_gear_V_eff</td>\n",
       "      <td>0.577</td>\n",
       "      <td>mm/s</td>\n",
       "      <td>2016-09-02</td>\n",
       "      <td>15</td>\n",
       "    </tr>\n",
       "    <tr>\n",
       "      <th>2</th>\n",
       "      <td>RBG1</td>\n",
       "      <td>drive_gear_V_eff</td>\n",
       "      <td>0.717</td>\n",
       "      <td>mm/s</td>\n",
       "      <td>2016-09-02</td>\n",
       "      <td>15</td>\n",
       "    </tr>\n",
       "    <tr>\n",
       "      <th>3</th>\n",
       "      <td>RBG1</td>\n",
       "      <td>drive_gear_V_eff</td>\n",
       "      <td>0.832</td>\n",
       "      <td>mm/s</td>\n",
       "      <td>2016-09-02</td>\n",
       "      <td>15</td>\n",
       "    </tr>\n",
       "    <tr>\n",
       "      <th>4</th>\n",
       "      <td>RBG1</td>\n",
       "      <td>drive_gear_V_eff</td>\n",
       "      <td>0.941</td>\n",
       "      <td>mm/s</td>\n",
       "      <td>2016-09-02</td>\n",
       "      <td>15</td>\n",
       "    </tr>\n",
       "  </tbody>\n",
       "</table>\n",
       "</div>"
      ],
      "text/plain": [
       "  machine_name       sensor_type  realvalue  unit date_measurement_f  \\\n",
       "0         RBG1  drive_gear_V_eff      0.395  mm/s         2016-09-02   \n",
       "1         RBG1  drive_gear_V_eff      0.577  mm/s         2016-09-02   \n",
       "2         RBG1  drive_gear_V_eff      0.717  mm/s         2016-09-02   \n",
       "3         RBG1  drive_gear_V_eff      0.832  mm/s         2016-09-02   \n",
       "4         RBG1  drive_gear_V_eff      0.941  mm/s         2016-09-02   \n",
       "\n",
       "   measurement_hour  \n",
       "0                15  \n",
       "1                15  \n",
       "2                15  \n",
       "3                15  \n",
       "4                15  "
      ]
     },
     "execution_count": 22,
     "metadata": {},
     "output_type": "execute_result"
    }
   ],
   "source": [
    "df.head()"
   ]
  },
  {
   "cell_type": "code",
   "execution_count": 23,
   "metadata": {},
   "outputs": [
    {
     "data": {
      "text/plain": [
       "(3860434, 6)"
      ]
     },
     "execution_count": 23,
     "metadata": {},
     "output_type": "execute_result"
    }
   ],
   "source": [
    "df.shape"
   ]
  },
  {
   "cell_type": "code",
   "execution_count": 355,
   "metadata": {},
   "outputs": [],
   "source": [
    "table = pd.pivot_table(df, values=['realvalue'], index=['machine_name','sensor_type', 'date_measurement_f', 'measurement_hour'],\n",
    "                         aggfunc=lambda x: np.percentile(x, 90))"
   ]
  },
  {
   "cell_type": "code",
   "execution_count": 356,
   "metadata": {},
   "outputs": [
    {
     "data": {
      "text/html": [
       "<div>\n",
       "<style scoped>\n",
       "    .dataframe tbody tr th:only-of-type {\n",
       "        vertical-align: middle;\n",
       "    }\n",
       "\n",
       "    .dataframe tbody tr th {\n",
       "        vertical-align: top;\n",
       "    }\n",
       "\n",
       "    .dataframe thead th {\n",
       "        text-align: right;\n",
       "    }\n",
       "</style>\n",
       "<table border=\"1\" class=\"dataframe\">\n",
       "  <thead>\n",
       "    <tr style=\"text-align: right;\">\n",
       "      <th></th>\n",
       "      <th></th>\n",
       "      <th></th>\n",
       "      <th></th>\n",
       "      <th>realvalue</th>\n",
       "    </tr>\n",
       "    <tr>\n",
       "      <th>machine_name</th>\n",
       "      <th>sensor_type</th>\n",
       "      <th>date_measurement_f</th>\n",
       "      <th>measurement_hour</th>\n",
       "      <th></th>\n",
       "    </tr>\n",
       "  </thead>\n",
       "  <tbody>\n",
       "    <tr>\n",
       "      <th rowspan=\"5\" valign=\"top\">RBG1</th>\n",
       "      <th rowspan=\"5\" valign=\"top\">drive_gear_V_eff</th>\n",
       "      <th rowspan=\"2\" valign=\"top\">2016-09-02</th>\n",
       "      <th>15</th>\n",
       "      <td>1.2463</td>\n",
       "    </tr>\n",
       "    <tr>\n",
       "      <th>18</th>\n",
       "      <td>1.6164</td>\n",
       "    </tr>\n",
       "    <tr>\n",
       "      <th rowspan=\"3\" valign=\"top\">2016-09-06</th>\n",
       "      <th>10</th>\n",
       "      <td>1.7045</td>\n",
       "    </tr>\n",
       "    <tr>\n",
       "      <th>12</th>\n",
       "      <td>1.6939</td>\n",
       "    </tr>\n",
       "    <tr>\n",
       "      <th>14</th>\n",
       "      <td>1.8634</td>\n",
       "    </tr>\n",
       "  </tbody>\n",
       "</table>\n",
       "</div>"
      ],
      "text/plain": [
       "                                                                   realvalue\n",
       "machine_name sensor_type      date_measurement_f measurement_hour           \n",
       "RBG1         drive_gear_V_eff 2016-09-02         15                   1.2463\n",
       "                                                 18                   1.6164\n",
       "                              2016-09-06         10                   1.7045\n",
       "                                                 12                   1.6939\n",
       "                                                 14                   1.8634"
      ]
     },
     "execution_count": 356,
     "metadata": {},
     "output_type": "execute_result"
    }
   ],
   "source": [
    "table.head()"
   ]
  },
  {
   "cell_type": "code",
   "execution_count": 357,
   "metadata": {},
   "outputs": [
    {
     "data": {
      "text/plain": [
       "(51673, 1)"
      ]
     },
     "execution_count": 357,
     "metadata": {},
     "output_type": "execute_result"
    }
   ],
   "source": [
    "table.shape"
   ]
  },
  {
   "cell_type": "code",
   "execution_count": 358,
   "metadata": {},
   "outputs": [],
   "source": [
    "table.reset_index(inplace=True)"
   ]
  },
  {
   "cell_type": "code",
   "execution_count": 359,
   "metadata": {},
   "outputs": [
    {
     "data": {
      "text/html": [
       "<div>\n",
       "<style scoped>\n",
       "    .dataframe tbody tr th:only-of-type {\n",
       "        vertical-align: middle;\n",
       "    }\n",
       "\n",
       "    .dataframe tbody tr th {\n",
       "        vertical-align: top;\n",
       "    }\n",
       "\n",
       "    .dataframe thead th {\n",
       "        text-align: right;\n",
       "    }\n",
       "</style>\n",
       "<table border=\"1\" class=\"dataframe\">\n",
       "  <thead>\n",
       "    <tr style=\"text-align: right;\">\n",
       "      <th></th>\n",
       "      <th>machine_name</th>\n",
       "      <th>sensor_type</th>\n",
       "      <th>date_measurement_f</th>\n",
       "      <th>measurement_hour</th>\n",
       "      <th>realvalue</th>\n",
       "    </tr>\n",
       "  </thead>\n",
       "  <tbody>\n",
       "    <tr>\n",
       "      <th>0</th>\n",
       "      <td>RBG1</td>\n",
       "      <td>drive_gear_V_eff</td>\n",
       "      <td>2016-09-02</td>\n",
       "      <td>15</td>\n",
       "      <td>1.2463</td>\n",
       "    </tr>\n",
       "    <tr>\n",
       "      <th>1</th>\n",
       "      <td>RBG1</td>\n",
       "      <td>drive_gear_V_eff</td>\n",
       "      <td>2016-09-02</td>\n",
       "      <td>18</td>\n",
       "      <td>1.6164</td>\n",
       "    </tr>\n",
       "    <tr>\n",
       "      <th>2</th>\n",
       "      <td>RBG1</td>\n",
       "      <td>drive_gear_V_eff</td>\n",
       "      <td>2016-09-06</td>\n",
       "      <td>10</td>\n",
       "      <td>1.7045</td>\n",
       "    </tr>\n",
       "    <tr>\n",
       "      <th>3</th>\n",
       "      <td>RBG1</td>\n",
       "      <td>drive_gear_V_eff</td>\n",
       "      <td>2016-09-06</td>\n",
       "      <td>12</td>\n",
       "      <td>1.6939</td>\n",
       "    </tr>\n",
       "    <tr>\n",
       "      <th>4</th>\n",
       "      <td>RBG1</td>\n",
       "      <td>drive_gear_V_eff</td>\n",
       "      <td>2016-09-06</td>\n",
       "      <td>14</td>\n",
       "      <td>1.8634</td>\n",
       "    </tr>\n",
       "  </tbody>\n",
       "</table>\n",
       "</div>"
      ],
      "text/plain": [
       "  machine_name       sensor_type date_measurement_f  measurement_hour  \\\n",
       "0         RBG1  drive_gear_V_eff         2016-09-02                15   \n",
       "1         RBG1  drive_gear_V_eff         2016-09-02                18   \n",
       "2         RBG1  drive_gear_V_eff         2016-09-06                10   \n",
       "3         RBG1  drive_gear_V_eff         2016-09-06                12   \n",
       "4         RBG1  drive_gear_V_eff         2016-09-06                14   \n",
       "\n",
       "   realvalue  \n",
       "0     1.2463  \n",
       "1     1.6164  \n",
       "2     1.7045  \n",
       "3     1.6939  \n",
       "4     1.8634  "
      ]
     },
     "execution_count": 359,
     "metadata": {},
     "output_type": "execute_result"
    }
   ],
   "source": [
    "table.head()"
   ]
  },
  {
   "cell_type": "code",
   "execution_count": 360,
   "metadata": {},
   "outputs": [
    {
     "name": "stdout",
     "output_type": "stream",
     "text": [
      "<class 'pandas.core.frame.DataFrame'>\n",
      "RangeIndex: 51673 entries, 0 to 51672\n",
      "Data columns (total 5 columns):\n",
      "machine_name          51673 non-null object\n",
      "sensor_type           51673 non-null object\n",
      "date_measurement_f    51673 non-null datetime64[ns]\n",
      "measurement_hour      51673 non-null int64\n",
      "realvalue             51673 non-null float64\n",
      "dtypes: datetime64[ns](1), float64(1), int64(1), object(2)\n",
      "memory usage: 2.0+ MB\n"
     ]
    }
   ],
   "source": [
    "table.info()"
   ]
  },
  {
   "cell_type": "code",
   "execution_count": 361,
   "metadata": {},
   "outputs": [],
   "source": [
    "table.sensor_type = table.sensor_type.astype(str)\n",
    "\n",
    "table.machine_name = table.machine_name.astype(str)\n",
    "\n",
    "table.date_measurement_f = table.date_measurement_f.astype(str)"
   ]
  },
  {
   "cell_type": "code",
   "execution_count": 362,
   "metadata": {},
   "outputs": [],
   "source": [
    "table['new_index'] = table[['machine_name', 'sensor_type', 'date_measurement_f']].apply(lambda x: ')'.join(x), axis=1)"
   ]
  },
  {
   "cell_type": "code",
   "execution_count": 363,
   "metadata": {},
   "outputs": [],
   "source": [
    "table1 = table.pivot(index = 'new_index', columns='measurement_hour', values='realvalue')"
   ]
  },
  {
   "cell_type": "code",
   "execution_count": 364,
   "metadata": {},
   "outputs": [
    {
     "data": {
      "text/plain": [
       "(17212, 20)"
      ]
     },
     "execution_count": 364,
     "metadata": {},
     "output_type": "execute_result"
    }
   ],
   "source": [
    "table1.shape"
   ]
  },
  {
   "cell_type": "code",
   "execution_count": 365,
   "metadata": {},
   "outputs": [],
   "source": [
    "table2 = table1.reset_index()"
   ]
  },
  {
   "cell_type": "code",
   "execution_count": 366,
   "metadata": {},
   "outputs": [],
   "source": [
    "table2.columns = ['new_index','0', '5', '6', '7', '8', '9', '10', '11', '12', '13', '14', '15', '16', '17', '18', '19', '20', '21', '22', '23']"
   ]
  },
  {
   "cell_type": "code",
   "execution_count": 367,
   "metadata": {},
   "outputs": [
    {
     "data": {
      "text/plain": [
       "Index(['new_index', '0', '5', '6', '7', '8', '9', '10', '11', '12', '13', '14',\n",
       "       '15', '16', '17', '18', '19', '20', '21', '22', '23'],\n",
       "      dtype='object')"
      ]
     },
     "execution_count": 367,
     "metadata": {},
     "output_type": "execute_result"
    }
   ],
   "source": [
    "table2.columns"
   ]
  },
  {
   "cell_type": "code",
   "execution_count": 368,
   "metadata": {},
   "outputs": [],
   "source": [
    "def filter_out(row):\n",
    "    return [r for r in row if str(r) != 'nan']"
   ]
  },
  {
   "cell_type": "code",
   "execution_count": 369,
   "metadata": {},
   "outputs": [],
   "source": [
    " table2['list'] = list(map(filter_out, table2[['0', '5', '6', '7', '8', '9', '10', '11', '12', \n",
    "                                               '13', '14', '15', '16', '17', '18', '19', '20',\n",
    "                                               '21', '22', '23']].values.tolist()))"
   ]
  },
  {
   "cell_type": "code",
   "execution_count": 370,
   "metadata": {},
   "outputs": [
    {
     "data": {
      "text/plain": [
       "(17212, 20)"
      ]
     },
     "execution_count": 370,
     "metadata": {},
     "output_type": "execute_result"
    }
   ],
   "source": [
    "table1.shape"
   ]
  },
  {
   "cell_type": "code",
   "execution_count": 371,
   "metadata": {},
   "outputs": [
    {
     "data": {
      "text/plain": [
       "547"
      ]
     },
     "execution_count": 371,
     "metadata": {},
     "output_type": "execute_result"
    }
   ],
   "source": [
    "df.date_measurement_f.nunique()"
   ]
  },
  {
   "cell_type": "code",
   "execution_count": 372,
   "metadata": {},
   "outputs": [],
   "source": [
    "number_of_measurements = df.groupby(['machine_name', 'sensor_type', 'date_measurement_f']).nunique()"
   ]
  },
  {
   "cell_type": "code",
   "execution_count": 373,
   "metadata": {},
   "outputs": [
    {
     "data": {
      "text/plain": [
       "8"
      ]
     },
     "execution_count": 373,
     "metadata": {},
     "output_type": "execute_result"
    }
   ],
   "source": [
    "number_of_measurements.measurement_hour.max()"
   ]
  },
  {
   "cell_type": "code",
   "execution_count": 374,
   "metadata": {},
   "outputs": [
    {
     "data": {
      "text/plain": [
       "(17212, 6)"
      ]
     },
     "execution_count": 374,
     "metadata": {},
     "output_type": "execute_result"
    }
   ],
   "source": [
    "number_of_measurements.shape"
   ]
  },
  {
   "cell_type": "code",
   "execution_count": 375,
   "metadata": {},
   "outputs": [
    {
     "data": {
      "text/html": [
       "<div>\n",
       "<style scoped>\n",
       "    .dataframe tbody tr th:only-of-type {\n",
       "        vertical-align: middle;\n",
       "    }\n",
       "\n",
       "    .dataframe tbody tr th {\n",
       "        vertical-align: top;\n",
       "    }\n",
       "\n",
       "    .dataframe thead th {\n",
       "        text-align: right;\n",
       "    }\n",
       "</style>\n",
       "<table border=\"1\" class=\"dataframe\">\n",
       "  <thead>\n",
       "    <tr style=\"text-align: right;\">\n",
       "      <th>measurement_hour</th>\n",
       "      <th>0</th>\n",
       "      <th>5</th>\n",
       "      <th>6</th>\n",
       "      <th>7</th>\n",
       "      <th>8</th>\n",
       "      <th>9</th>\n",
       "      <th>10</th>\n",
       "      <th>11</th>\n",
       "      <th>12</th>\n",
       "      <th>13</th>\n",
       "      <th>14</th>\n",
       "      <th>15</th>\n",
       "      <th>16</th>\n",
       "      <th>17</th>\n",
       "      <th>18</th>\n",
       "      <th>19</th>\n",
       "      <th>20</th>\n",
       "      <th>21</th>\n",
       "      <th>22</th>\n",
       "      <th>23</th>\n",
       "    </tr>\n",
       "    <tr>\n",
       "      <th>new_index</th>\n",
       "      <th></th>\n",
       "      <th></th>\n",
       "      <th></th>\n",
       "      <th></th>\n",
       "      <th></th>\n",
       "      <th></th>\n",
       "      <th></th>\n",
       "      <th></th>\n",
       "      <th></th>\n",
       "      <th></th>\n",
       "      <th></th>\n",
       "      <th></th>\n",
       "      <th></th>\n",
       "      <th></th>\n",
       "      <th></th>\n",
       "      <th></th>\n",
       "      <th></th>\n",
       "      <th></th>\n",
       "      <th></th>\n",
       "      <th></th>\n",
       "    </tr>\n",
       "  </thead>\n",
       "  <tbody>\n",
       "    <tr>\n",
       "      <th>RBG1)drive_gear_V_eff)2016-09-02</th>\n",
       "      <td>NaN</td>\n",
       "      <td>NaN</td>\n",
       "      <td>NaN</td>\n",
       "      <td>NaN</td>\n",
       "      <td>NaN</td>\n",
       "      <td>NaN</td>\n",
       "      <td>NaN</td>\n",
       "      <td>NaN</td>\n",
       "      <td>NaN</td>\n",
       "      <td>NaN</td>\n",
       "      <td>NaN</td>\n",
       "      <td>1.2463</td>\n",
       "      <td>NaN</td>\n",
       "      <td>NaN</td>\n",
       "      <td>1.6164</td>\n",
       "      <td>NaN</td>\n",
       "      <td>NaN</td>\n",
       "      <td>NaN</td>\n",
       "      <td>NaN</td>\n",
       "      <td>NaN</td>\n",
       "    </tr>\n",
       "    <tr>\n",
       "      <th>RBG1)drive_gear_V_eff)2016-09-06</th>\n",
       "      <td>NaN</td>\n",
       "      <td>NaN</td>\n",
       "      <td>NaN</td>\n",
       "      <td>NaN</td>\n",
       "      <td>NaN</td>\n",
       "      <td>NaN</td>\n",
       "      <td>1.7045</td>\n",
       "      <td>NaN</td>\n",
       "      <td>1.6939</td>\n",
       "      <td>NaN</td>\n",
       "      <td>1.8634</td>\n",
       "      <td>NaN</td>\n",
       "      <td>NaN</td>\n",
       "      <td>NaN</td>\n",
       "      <td>NaN</td>\n",
       "      <td>1.9335</td>\n",
       "      <td>NaN</td>\n",
       "      <td>1.8229</td>\n",
       "      <td>NaN</td>\n",
       "      <td>NaN</td>\n",
       "    </tr>\n",
       "    <tr>\n",
       "      <th>RBG1)drive_gear_V_eff)2016-09-07</th>\n",
       "      <td>NaN</td>\n",
       "      <td>NaN</td>\n",
       "      <td>1.7670</td>\n",
       "      <td>NaN</td>\n",
       "      <td>NaN</td>\n",
       "      <td>NaN</td>\n",
       "      <td>NaN</td>\n",
       "      <td>NaN</td>\n",
       "      <td>1.7340</td>\n",
       "      <td>NaN</td>\n",
       "      <td>NaN</td>\n",
       "      <td>1.7306</td>\n",
       "      <td>NaN</td>\n",
       "      <td>NaN</td>\n",
       "      <td>NaN</td>\n",
       "      <td>1.8736</td>\n",
       "      <td>NaN</td>\n",
       "      <td>1.8497</td>\n",
       "      <td>NaN</td>\n",
       "      <td>NaN</td>\n",
       "    </tr>\n",
       "    <tr>\n",
       "      <th>RBG1)drive_gear_V_eff)2016-09-08</th>\n",
       "      <td>NaN</td>\n",
       "      <td>NaN</td>\n",
       "      <td>1.8276</td>\n",
       "      <td>NaN</td>\n",
       "      <td>NaN</td>\n",
       "      <td>NaN</td>\n",
       "      <td>NaN</td>\n",
       "      <td>NaN</td>\n",
       "      <td>NaN</td>\n",
       "      <td>NaN</td>\n",
       "      <td>1.7398</td>\n",
       "      <td>NaN</td>\n",
       "      <td>NaN</td>\n",
       "      <td>NaN</td>\n",
       "      <td>NaN</td>\n",
       "      <td>NaN</td>\n",
       "      <td>1.9094</td>\n",
       "      <td>2.0121</td>\n",
       "      <td>NaN</td>\n",
       "      <td>NaN</td>\n",
       "    </tr>\n",
       "    <tr>\n",
       "      <th>RBG1)drive_gear_V_eff)2016-09-09</th>\n",
       "      <td>NaN</td>\n",
       "      <td>NaN</td>\n",
       "      <td>2.0060</td>\n",
       "      <td>NaN</td>\n",
       "      <td>NaN</td>\n",
       "      <td>1.9085</td>\n",
       "      <td>1.8524</td>\n",
       "      <td>NaN</td>\n",
       "      <td>NaN</td>\n",
       "      <td>NaN</td>\n",
       "      <td>1.8190</td>\n",
       "      <td>NaN</td>\n",
       "      <td>1.8282</td>\n",
       "      <td>NaN</td>\n",
       "      <td>NaN</td>\n",
       "      <td>1.8688</td>\n",
       "      <td>NaN</td>\n",
       "      <td>NaN</td>\n",
       "      <td>1.8224</td>\n",
       "      <td>NaN</td>\n",
       "    </tr>\n",
       "  </tbody>\n",
       "</table>\n",
       "</div>"
      ],
      "text/plain": [
       "measurement_hour                  0   5       6   7   8       9       10  11  \\\n",
       "new_index                                                                      \n",
       "RBG1)drive_gear_V_eff)2016-09-02 NaN NaN     NaN NaN NaN     NaN     NaN NaN   \n",
       "RBG1)drive_gear_V_eff)2016-09-06 NaN NaN     NaN NaN NaN     NaN  1.7045 NaN   \n",
       "RBG1)drive_gear_V_eff)2016-09-07 NaN NaN  1.7670 NaN NaN     NaN     NaN NaN   \n",
       "RBG1)drive_gear_V_eff)2016-09-08 NaN NaN  1.8276 NaN NaN     NaN     NaN NaN   \n",
       "RBG1)drive_gear_V_eff)2016-09-09 NaN NaN  2.0060 NaN NaN  1.9085  1.8524 NaN   \n",
       "\n",
       "measurement_hour                      12  13      14      15      16  17  \\\n",
       "new_index                                                                  \n",
       "RBG1)drive_gear_V_eff)2016-09-02     NaN NaN     NaN  1.2463     NaN NaN   \n",
       "RBG1)drive_gear_V_eff)2016-09-06  1.6939 NaN  1.8634     NaN     NaN NaN   \n",
       "RBG1)drive_gear_V_eff)2016-09-07  1.7340 NaN     NaN  1.7306     NaN NaN   \n",
       "RBG1)drive_gear_V_eff)2016-09-08     NaN NaN  1.7398     NaN     NaN NaN   \n",
       "RBG1)drive_gear_V_eff)2016-09-09     NaN NaN  1.8190     NaN  1.8282 NaN   \n",
       "\n",
       "measurement_hour                      18      19      20      21      22  23  \n",
       "new_index                                                                     \n",
       "RBG1)drive_gear_V_eff)2016-09-02  1.6164     NaN     NaN     NaN     NaN NaN  \n",
       "RBG1)drive_gear_V_eff)2016-09-06     NaN  1.9335     NaN  1.8229     NaN NaN  \n",
       "RBG1)drive_gear_V_eff)2016-09-07     NaN  1.8736     NaN  1.8497     NaN NaN  \n",
       "RBG1)drive_gear_V_eff)2016-09-08     NaN     NaN  1.9094  2.0121     NaN NaN  \n",
       "RBG1)drive_gear_V_eff)2016-09-09     NaN  1.8688     NaN     NaN  1.8224 NaN  "
      ]
     },
     "execution_count": 375,
     "metadata": {},
     "output_type": "execute_result"
    }
   ],
   "source": [
    "table1.head()"
   ]
  },
  {
   "cell_type": "code",
   "execution_count": 376,
   "metadata": {},
   "outputs": [
    {
     "data": {
      "text/plain": [
       "Index(['new_index', '0', '5', '6', '7', '8', '9', '10', '11', '12', '13', '14',\n",
       "       '15', '16', '17', '18', '19', '20', '21', '22', '23', 'list'],\n",
       "      dtype='object')"
      ]
     },
     "execution_count": 376,
     "metadata": {},
     "output_type": "execute_result"
    }
   ],
   "source": [
    "table2.columns"
   ]
  },
  {
   "cell_type": "code",
   "execution_count": 377,
   "metadata": {},
   "outputs": [],
   "source": [
    "table2.drop(['0', '5', '6', '7', '8', '9', '10', '11', '12',\n",
    "             '13', '14', '15', '16', '17', '18', '19', '20',\n",
    "             '21', '22', '23'], inplace=True, axis=1)"
   ]
  },
  {
   "cell_type": "code",
   "execution_count": 378,
   "metadata": {},
   "outputs": [],
   "source": [
    "table2['number_of_observations'] = table2.apply(lambda x: len(x.list), axis=1)"
   ]
  },
  {
   "cell_type": "code",
   "execution_count": 379,
   "metadata": {},
   "outputs": [
    {
     "data": {
      "text/html": [
       "<div>\n",
       "<style scoped>\n",
       "    .dataframe tbody tr th:only-of-type {\n",
       "        vertical-align: middle;\n",
       "    }\n",
       "\n",
       "    .dataframe tbody tr th {\n",
       "        vertical-align: top;\n",
       "    }\n",
       "\n",
       "    .dataframe thead th {\n",
       "        text-align: right;\n",
       "    }\n",
       "</style>\n",
       "<table border=\"1\" class=\"dataframe\">\n",
       "  <thead>\n",
       "    <tr style=\"text-align: right;\">\n",
       "      <th></th>\n",
       "      <th>new_index</th>\n",
       "      <th>list</th>\n",
       "      <th>number_of_observations</th>\n",
       "    </tr>\n",
       "  </thead>\n",
       "  <tbody>\n",
       "    <tr>\n",
       "      <th>0</th>\n",
       "      <td>RBG1)drive_gear_V_eff)2016-09-02</td>\n",
       "      <td>[1.2463, 1.6163999999999998]</td>\n",
       "      <td>2</td>\n",
       "    </tr>\n",
       "    <tr>\n",
       "      <th>1</th>\n",
       "      <td>RBG1)drive_gear_V_eff)2016-09-06</td>\n",
       "      <td>[1.7045000000000001, 1.6939000000000002, 1.863...</td>\n",
       "      <td>5</td>\n",
       "    </tr>\n",
       "    <tr>\n",
       "      <th>2</th>\n",
       "      <td>RBG1)drive_gear_V_eff)2016-09-07</td>\n",
       "      <td>[1.767, 1.7340000000000002, 1.7306, 1.8736, 1....</td>\n",
       "      <td>5</td>\n",
       "    </tr>\n",
       "    <tr>\n",
       "      <th>3</th>\n",
       "      <td>RBG1)drive_gear_V_eff)2016-09-08</td>\n",
       "      <td>[1.8276, 1.7398000000000002, 1.9094, 2.0120999...</td>\n",
       "      <td>4</td>\n",
       "    </tr>\n",
       "    <tr>\n",
       "      <th>4</th>\n",
       "      <td>RBG1)drive_gear_V_eff)2016-09-09</td>\n",
       "      <td>[2.006, 1.9085, 1.8524, 1.8190000000000002, 1....</td>\n",
       "      <td>7</td>\n",
       "    </tr>\n",
       "  </tbody>\n",
       "</table>\n",
       "</div>"
      ],
      "text/plain": [
       "                          new_index  \\\n",
       "0  RBG1)drive_gear_V_eff)2016-09-02   \n",
       "1  RBG1)drive_gear_V_eff)2016-09-06   \n",
       "2  RBG1)drive_gear_V_eff)2016-09-07   \n",
       "3  RBG1)drive_gear_V_eff)2016-09-08   \n",
       "4  RBG1)drive_gear_V_eff)2016-09-09   \n",
       "\n",
       "                                                list  number_of_observations  \n",
       "0                       [1.2463, 1.6163999999999998]                       2  \n",
       "1  [1.7045000000000001, 1.6939000000000002, 1.863...                       5  \n",
       "2  [1.767, 1.7340000000000002, 1.7306, 1.8736, 1....                       5  \n",
       "3  [1.8276, 1.7398000000000002, 1.9094, 2.0120999...                       4  \n",
       "4  [2.006, 1.9085, 1.8524, 1.8190000000000002, 1....                       7  "
      ]
     },
     "execution_count": 379,
     "metadata": {},
     "output_type": "execute_result"
    }
   ],
   "source": [
    "table2.head()"
   ]
  },
  {
   "cell_type": "code",
   "execution_count": 380,
   "metadata": {},
   "outputs": [],
   "source": [
    "table3 = table2.new_index.apply(lambda x: pd.Series([i for i in x.split(')')]))\n",
    "\n",
    "table3.columns = ['machine_name', 'sensor_type', 'date_measurement_f']"
   ]
  },
  {
   "cell_type": "code",
   "execution_count": 381,
   "metadata": {},
   "outputs": [],
   "source": [
    "table3['list'] = table2.list\n",
    "table3['number_of_observations'] = table2.number_of_observations"
   ]
  },
  {
   "cell_type": "code",
   "execution_count": 382,
   "metadata": {},
   "outputs": [
    {
     "data": {
      "text/html": [
       "<div>\n",
       "<style scoped>\n",
       "    .dataframe tbody tr th:only-of-type {\n",
       "        vertical-align: middle;\n",
       "    }\n",
       "\n",
       "    .dataframe tbody tr th {\n",
       "        vertical-align: top;\n",
       "    }\n",
       "\n",
       "    .dataframe thead th {\n",
       "        text-align: right;\n",
       "    }\n",
       "</style>\n",
       "<table border=\"1\" class=\"dataframe\">\n",
       "  <thead>\n",
       "    <tr style=\"text-align: right;\">\n",
       "      <th></th>\n",
       "      <th>machine_name</th>\n",
       "      <th>sensor_type</th>\n",
       "      <th>date_measurement_f</th>\n",
       "      <th>list</th>\n",
       "      <th>number_of_observations</th>\n",
       "    </tr>\n",
       "  </thead>\n",
       "  <tbody>\n",
       "    <tr>\n",
       "      <th>0</th>\n",
       "      <td>RBG1</td>\n",
       "      <td>drive_gear_V_eff</td>\n",
       "      <td>2016-09-02</td>\n",
       "      <td>[1.2463, 1.6163999999999998]</td>\n",
       "      <td>2</td>\n",
       "    </tr>\n",
       "    <tr>\n",
       "      <th>1</th>\n",
       "      <td>RBG1</td>\n",
       "      <td>drive_gear_V_eff</td>\n",
       "      <td>2016-09-06</td>\n",
       "      <td>[1.7045000000000001, 1.6939000000000002, 1.863...</td>\n",
       "      <td>5</td>\n",
       "    </tr>\n",
       "    <tr>\n",
       "      <th>2</th>\n",
       "      <td>RBG1</td>\n",
       "      <td>drive_gear_V_eff</td>\n",
       "      <td>2016-09-07</td>\n",
       "      <td>[1.767, 1.7340000000000002, 1.7306, 1.8736, 1....</td>\n",
       "      <td>5</td>\n",
       "    </tr>\n",
       "    <tr>\n",
       "      <th>3</th>\n",
       "      <td>RBG1</td>\n",
       "      <td>drive_gear_V_eff</td>\n",
       "      <td>2016-09-08</td>\n",
       "      <td>[1.8276, 1.7398000000000002, 1.9094, 2.0120999...</td>\n",
       "      <td>4</td>\n",
       "    </tr>\n",
       "    <tr>\n",
       "      <th>4</th>\n",
       "      <td>RBG1</td>\n",
       "      <td>drive_gear_V_eff</td>\n",
       "      <td>2016-09-09</td>\n",
       "      <td>[2.006, 1.9085, 1.8524, 1.8190000000000002, 1....</td>\n",
       "      <td>7</td>\n",
       "    </tr>\n",
       "  </tbody>\n",
       "</table>\n",
       "</div>"
      ],
      "text/plain": [
       "  machine_name       sensor_type date_measurement_f  \\\n",
       "0         RBG1  drive_gear_V_eff         2016-09-02   \n",
       "1         RBG1  drive_gear_V_eff         2016-09-06   \n",
       "2         RBG1  drive_gear_V_eff         2016-09-07   \n",
       "3         RBG1  drive_gear_V_eff         2016-09-08   \n",
       "4         RBG1  drive_gear_V_eff         2016-09-09   \n",
       "\n",
       "                                                list  number_of_observations  \n",
       "0                       [1.2463, 1.6163999999999998]                       2  \n",
       "1  [1.7045000000000001, 1.6939000000000002, 1.863...                       5  \n",
       "2  [1.767, 1.7340000000000002, 1.7306, 1.8736, 1....                       5  \n",
       "3  [1.8276, 1.7398000000000002, 1.9094, 2.0120999...                       4  \n",
       "4  [2.006, 1.9085, 1.8524, 1.8190000000000002, 1....                       7  "
      ]
     },
     "execution_count": 382,
     "metadata": {},
     "output_type": "execute_result"
    }
   ],
   "source": [
    "table3.head()"
   ]
  },
  {
   "cell_type": "code",
   "execution_count": 383,
   "metadata": {},
   "outputs": [],
   "source": [
    "def good_list(l):\n",
    "    if len(l) != 8:\n",
    "        l += [None]* (8 - len(l))\n",
    "    return l"
   ]
  },
  {
   "cell_type": "code",
   "execution_count": 384,
   "metadata": {},
   "outputs": [],
   "source": [
    "table3.list = table3.list.apply(good_list)"
   ]
  },
  {
   "cell_type": "code",
   "execution_count": 385,
   "metadata": {},
   "outputs": [
    {
     "data": {
      "text/html": [
       "<div>\n",
       "<style scoped>\n",
       "    .dataframe tbody tr th:only-of-type {\n",
       "        vertical-align: middle;\n",
       "    }\n",
       "\n",
       "    .dataframe tbody tr th {\n",
       "        vertical-align: top;\n",
       "    }\n",
       "\n",
       "    .dataframe thead th {\n",
       "        text-align: right;\n",
       "    }\n",
       "</style>\n",
       "<table border=\"1\" class=\"dataframe\">\n",
       "  <thead>\n",
       "    <tr style=\"text-align: right;\">\n",
       "      <th></th>\n",
       "      <th>machine_name</th>\n",
       "      <th>sensor_type</th>\n",
       "      <th>date_measurement_f</th>\n",
       "      <th>list</th>\n",
       "      <th>number_of_observations</th>\n",
       "    </tr>\n",
       "  </thead>\n",
       "  <tbody>\n",
       "    <tr>\n",
       "      <th>0</th>\n",
       "      <td>RBG1</td>\n",
       "      <td>drive_gear_V_eff</td>\n",
       "      <td>2016-09-02</td>\n",
       "      <td>[1.2463, 1.6163999999999998, None, None, None,...</td>\n",
       "      <td>2</td>\n",
       "    </tr>\n",
       "    <tr>\n",
       "      <th>1</th>\n",
       "      <td>RBG1</td>\n",
       "      <td>drive_gear_V_eff</td>\n",
       "      <td>2016-09-06</td>\n",
       "      <td>[1.7045000000000001, 1.6939000000000002, 1.863...</td>\n",
       "      <td>5</td>\n",
       "    </tr>\n",
       "    <tr>\n",
       "      <th>2</th>\n",
       "      <td>RBG1</td>\n",
       "      <td>drive_gear_V_eff</td>\n",
       "      <td>2016-09-07</td>\n",
       "      <td>[1.767, 1.7340000000000002, 1.7306, 1.8736, 1....</td>\n",
       "      <td>5</td>\n",
       "    </tr>\n",
       "    <tr>\n",
       "      <th>3</th>\n",
       "      <td>RBG1</td>\n",
       "      <td>drive_gear_V_eff</td>\n",
       "      <td>2016-09-08</td>\n",
       "      <td>[1.8276, 1.7398000000000002, 1.9094, 2.0120999...</td>\n",
       "      <td>4</td>\n",
       "    </tr>\n",
       "    <tr>\n",
       "      <th>4</th>\n",
       "      <td>RBG1</td>\n",
       "      <td>drive_gear_V_eff</td>\n",
       "      <td>2016-09-09</td>\n",
       "      <td>[2.006, 1.9085, 1.8524, 1.8190000000000002, 1....</td>\n",
       "      <td>7</td>\n",
       "    </tr>\n",
       "  </tbody>\n",
       "</table>\n",
       "</div>"
      ],
      "text/plain": [
       "  machine_name       sensor_type date_measurement_f  \\\n",
       "0         RBG1  drive_gear_V_eff         2016-09-02   \n",
       "1         RBG1  drive_gear_V_eff         2016-09-06   \n",
       "2         RBG1  drive_gear_V_eff         2016-09-07   \n",
       "3         RBG1  drive_gear_V_eff         2016-09-08   \n",
       "4         RBG1  drive_gear_V_eff         2016-09-09   \n",
       "\n",
       "                                                list  number_of_observations  \n",
       "0  [1.2463, 1.6163999999999998, None, None, None,...                       2  \n",
       "1  [1.7045000000000001, 1.6939000000000002, 1.863...                       5  \n",
       "2  [1.767, 1.7340000000000002, 1.7306, 1.8736, 1....                       5  \n",
       "3  [1.8276, 1.7398000000000002, 1.9094, 2.0120999...                       4  \n",
       "4  [2.006, 1.9085, 1.8524, 1.8190000000000002, 1....                       7  "
      ]
     },
     "execution_count": 385,
     "metadata": {},
     "output_type": "execute_result"
    }
   ],
   "source": [
    "table3.head()"
   ]
  },
  {
   "cell_type": "code",
   "execution_count": 386,
   "metadata": {},
   "outputs": [],
   "source": [
    "for index in range(8):\n",
    "    table3[str(index+1)] = table3.list.apply(lambda x: pd.Series(x[index]))"
   ]
  },
  {
   "cell_type": "code",
   "execution_count": 387,
   "metadata": {},
   "outputs": [
    {
     "data": {
      "text/html": [
       "<div>\n",
       "<style scoped>\n",
       "    .dataframe tbody tr th:only-of-type {\n",
       "        vertical-align: middle;\n",
       "    }\n",
       "\n",
       "    .dataframe tbody tr th {\n",
       "        vertical-align: top;\n",
       "    }\n",
       "\n",
       "    .dataframe thead th {\n",
       "        text-align: right;\n",
       "    }\n",
       "</style>\n",
       "<table border=\"1\" class=\"dataframe\">\n",
       "  <thead>\n",
       "    <tr style=\"text-align: right;\">\n",
       "      <th></th>\n",
       "      <th>machine_name</th>\n",
       "      <th>sensor_type</th>\n",
       "      <th>date_measurement_f</th>\n",
       "      <th>list</th>\n",
       "      <th>number_of_observations</th>\n",
       "      <th>1</th>\n",
       "      <th>2</th>\n",
       "      <th>3</th>\n",
       "      <th>4</th>\n",
       "      <th>5</th>\n",
       "      <th>6</th>\n",
       "      <th>7</th>\n",
       "      <th>8</th>\n",
       "    </tr>\n",
       "  </thead>\n",
       "  <tbody>\n",
       "    <tr>\n",
       "      <th>0</th>\n",
       "      <td>RBG1</td>\n",
       "      <td>drive_gear_V_eff</td>\n",
       "      <td>2016-09-02</td>\n",
       "      <td>[1.2463, 1.6163999999999998, None, None, None,...</td>\n",
       "      <td>2</td>\n",
       "      <td>1.2463</td>\n",
       "      <td>1.6164</td>\n",
       "      <td>NaN</td>\n",
       "      <td>NaN</td>\n",
       "      <td>NaN</td>\n",
       "      <td>NaN</td>\n",
       "      <td>NaN</td>\n",
       "      <td>NaN</td>\n",
       "    </tr>\n",
       "    <tr>\n",
       "      <th>1</th>\n",
       "      <td>RBG1</td>\n",
       "      <td>drive_gear_V_eff</td>\n",
       "      <td>2016-09-06</td>\n",
       "      <td>[1.7045000000000001, 1.6939000000000002, 1.863...</td>\n",
       "      <td>5</td>\n",
       "      <td>1.7045</td>\n",
       "      <td>1.6939</td>\n",
       "      <td>1.8634</td>\n",
       "      <td>1.9335</td>\n",
       "      <td>1.8229</td>\n",
       "      <td>NaN</td>\n",
       "      <td>NaN</td>\n",
       "      <td>NaN</td>\n",
       "    </tr>\n",
       "    <tr>\n",
       "      <th>2</th>\n",
       "      <td>RBG1</td>\n",
       "      <td>drive_gear_V_eff</td>\n",
       "      <td>2016-09-07</td>\n",
       "      <td>[1.767, 1.7340000000000002, 1.7306, 1.8736, 1....</td>\n",
       "      <td>5</td>\n",
       "      <td>1.7670</td>\n",
       "      <td>1.7340</td>\n",
       "      <td>1.7306</td>\n",
       "      <td>1.8736</td>\n",
       "      <td>1.8497</td>\n",
       "      <td>NaN</td>\n",
       "      <td>NaN</td>\n",
       "      <td>NaN</td>\n",
       "    </tr>\n",
       "    <tr>\n",
       "      <th>3</th>\n",
       "      <td>RBG1</td>\n",
       "      <td>drive_gear_V_eff</td>\n",
       "      <td>2016-09-08</td>\n",
       "      <td>[1.8276, 1.7398000000000002, 1.9094, 2.0120999...</td>\n",
       "      <td>4</td>\n",
       "      <td>1.8276</td>\n",
       "      <td>1.7398</td>\n",
       "      <td>1.9094</td>\n",
       "      <td>2.0121</td>\n",
       "      <td>NaN</td>\n",
       "      <td>NaN</td>\n",
       "      <td>NaN</td>\n",
       "      <td>NaN</td>\n",
       "    </tr>\n",
       "    <tr>\n",
       "      <th>4</th>\n",
       "      <td>RBG1</td>\n",
       "      <td>drive_gear_V_eff</td>\n",
       "      <td>2016-09-09</td>\n",
       "      <td>[2.006, 1.9085, 1.8524, 1.8190000000000002, 1....</td>\n",
       "      <td>7</td>\n",
       "      <td>2.0060</td>\n",
       "      <td>1.9085</td>\n",
       "      <td>1.8524</td>\n",
       "      <td>1.8190</td>\n",
       "      <td>1.8282</td>\n",
       "      <td>1.8688</td>\n",
       "      <td>1.8224</td>\n",
       "      <td>NaN</td>\n",
       "    </tr>\n",
       "  </tbody>\n",
       "</table>\n",
       "</div>"
      ],
      "text/plain": [
       "  machine_name       sensor_type date_measurement_f  \\\n",
       "0         RBG1  drive_gear_V_eff         2016-09-02   \n",
       "1         RBG1  drive_gear_V_eff         2016-09-06   \n",
       "2         RBG1  drive_gear_V_eff         2016-09-07   \n",
       "3         RBG1  drive_gear_V_eff         2016-09-08   \n",
       "4         RBG1  drive_gear_V_eff         2016-09-09   \n",
       "\n",
       "                                                list  number_of_observations  \\\n",
       "0  [1.2463, 1.6163999999999998, None, None, None,...                       2   \n",
       "1  [1.7045000000000001, 1.6939000000000002, 1.863...                       5   \n",
       "2  [1.767, 1.7340000000000002, 1.7306, 1.8736, 1....                       5   \n",
       "3  [1.8276, 1.7398000000000002, 1.9094, 2.0120999...                       4   \n",
       "4  [2.006, 1.9085, 1.8524, 1.8190000000000002, 1....                       7   \n",
       "\n",
       "        1       2       3       4       5       6       7   8  \n",
       "0  1.2463  1.6164     NaN     NaN     NaN     NaN     NaN NaN  \n",
       "1  1.7045  1.6939  1.8634  1.9335  1.8229     NaN     NaN NaN  \n",
       "2  1.7670  1.7340  1.7306  1.8736  1.8497     NaN     NaN NaN  \n",
       "3  1.8276  1.7398  1.9094  2.0121     NaN     NaN     NaN NaN  \n",
       "4  2.0060  1.9085  1.8524  1.8190  1.8282  1.8688  1.8224 NaN  "
      ]
     },
     "execution_count": 387,
     "metadata": {},
     "output_type": "execute_result"
    }
   ],
   "source": [
    "table3.head()"
   ]
  },
  {
   "cell_type": "code",
   "execution_count": 388,
   "metadata": {},
   "outputs": [],
   "source": [
    "table3.drop('list', axis=True, inplace=True)"
   ]
  },
  {
   "cell_type": "code",
   "execution_count": 389,
   "metadata": {},
   "outputs": [
    {
     "data": {
      "text/html": [
       "<div>\n",
       "<style scoped>\n",
       "    .dataframe tbody tr th:only-of-type {\n",
       "        vertical-align: middle;\n",
       "    }\n",
       "\n",
       "    .dataframe tbody tr th {\n",
       "        vertical-align: top;\n",
       "    }\n",
       "\n",
       "    .dataframe thead th {\n",
       "        text-align: right;\n",
       "    }\n",
       "</style>\n",
       "<table border=\"1\" class=\"dataframe\">\n",
       "  <thead>\n",
       "    <tr style=\"text-align: right;\">\n",
       "      <th></th>\n",
       "      <th>machine_name</th>\n",
       "      <th>sensor_type</th>\n",
       "      <th>date_measurement_f</th>\n",
       "      <th>number_of_observations</th>\n",
       "      <th>1</th>\n",
       "      <th>2</th>\n",
       "      <th>3</th>\n",
       "      <th>4</th>\n",
       "      <th>5</th>\n",
       "      <th>6</th>\n",
       "      <th>7</th>\n",
       "      <th>8</th>\n",
       "    </tr>\n",
       "  </thead>\n",
       "  <tbody>\n",
       "    <tr>\n",
       "      <th>0</th>\n",
       "      <td>RBG1</td>\n",
       "      <td>drive_gear_V_eff</td>\n",
       "      <td>2016-09-02</td>\n",
       "      <td>2</td>\n",
       "      <td>1.2463</td>\n",
       "      <td>1.6164</td>\n",
       "      <td>NaN</td>\n",
       "      <td>NaN</td>\n",
       "      <td>NaN</td>\n",
       "      <td>NaN</td>\n",
       "      <td>NaN</td>\n",
       "      <td>NaN</td>\n",
       "    </tr>\n",
       "    <tr>\n",
       "      <th>1</th>\n",
       "      <td>RBG1</td>\n",
       "      <td>drive_gear_V_eff</td>\n",
       "      <td>2016-09-06</td>\n",
       "      <td>5</td>\n",
       "      <td>1.7045</td>\n",
       "      <td>1.6939</td>\n",
       "      <td>1.8634</td>\n",
       "      <td>1.9335</td>\n",
       "      <td>1.8229</td>\n",
       "      <td>NaN</td>\n",
       "      <td>NaN</td>\n",
       "      <td>NaN</td>\n",
       "    </tr>\n",
       "    <tr>\n",
       "      <th>2</th>\n",
       "      <td>RBG1</td>\n",
       "      <td>drive_gear_V_eff</td>\n",
       "      <td>2016-09-07</td>\n",
       "      <td>5</td>\n",
       "      <td>1.7670</td>\n",
       "      <td>1.7340</td>\n",
       "      <td>1.7306</td>\n",
       "      <td>1.8736</td>\n",
       "      <td>1.8497</td>\n",
       "      <td>NaN</td>\n",
       "      <td>NaN</td>\n",
       "      <td>NaN</td>\n",
       "    </tr>\n",
       "    <tr>\n",
       "      <th>3</th>\n",
       "      <td>RBG1</td>\n",
       "      <td>drive_gear_V_eff</td>\n",
       "      <td>2016-09-08</td>\n",
       "      <td>4</td>\n",
       "      <td>1.8276</td>\n",
       "      <td>1.7398</td>\n",
       "      <td>1.9094</td>\n",
       "      <td>2.0121</td>\n",
       "      <td>NaN</td>\n",
       "      <td>NaN</td>\n",
       "      <td>NaN</td>\n",
       "      <td>NaN</td>\n",
       "    </tr>\n",
       "    <tr>\n",
       "      <th>4</th>\n",
       "      <td>RBG1</td>\n",
       "      <td>drive_gear_V_eff</td>\n",
       "      <td>2016-09-09</td>\n",
       "      <td>7</td>\n",
       "      <td>2.0060</td>\n",
       "      <td>1.9085</td>\n",
       "      <td>1.8524</td>\n",
       "      <td>1.8190</td>\n",
       "      <td>1.8282</td>\n",
       "      <td>1.8688</td>\n",
       "      <td>1.8224</td>\n",
       "      <td>NaN</td>\n",
       "    </tr>\n",
       "  </tbody>\n",
       "</table>\n",
       "</div>"
      ],
      "text/plain": [
       "  machine_name       sensor_type date_measurement_f  number_of_observations  \\\n",
       "0         RBG1  drive_gear_V_eff         2016-09-02                       2   \n",
       "1         RBG1  drive_gear_V_eff         2016-09-06                       5   \n",
       "2         RBG1  drive_gear_V_eff         2016-09-07                       5   \n",
       "3         RBG1  drive_gear_V_eff         2016-09-08                       4   \n",
       "4         RBG1  drive_gear_V_eff         2016-09-09                       7   \n",
       "\n",
       "        1       2       3       4       5       6       7   8  \n",
       "0  1.2463  1.6164     NaN     NaN     NaN     NaN     NaN NaN  \n",
       "1  1.7045  1.6939  1.8634  1.9335  1.8229     NaN     NaN NaN  \n",
       "2  1.7670  1.7340  1.7306  1.8736  1.8497     NaN     NaN NaN  \n",
       "3  1.8276  1.7398  1.9094  2.0121     NaN     NaN     NaN NaN  \n",
       "4  2.0060  1.9085  1.8524  1.8190  1.8282  1.8688  1.8224 NaN  "
      ]
     },
     "execution_count": 389,
     "metadata": {},
     "output_type": "execute_result"
    }
   ],
   "source": [
    "table3.head()"
   ]
  },
  {
   "cell_type": "code",
   "execution_count": 390,
   "metadata": {},
   "outputs": [],
   "source": [
    "table3.to_csv(\"..//data//pretty_data.csv\", index=False)"
   ]
  },
  {
   "cell_type": "code",
   "execution_count": 391,
   "metadata": {},
   "outputs": [
    {
     "data": {
      "text/plain": [
       "(17212, 12)"
      ]
     },
     "execution_count": 391,
     "metadata": {},
     "output_type": "execute_result"
    }
   ],
   "source": [
    "table3.shape"
   ]
  },
  {
   "cell_type": "code",
   "execution_count": 392,
   "metadata": {},
   "outputs": [
    {
     "data": {
      "text/plain": [
       "['RBG7', 'RBG1', 'RBG2', 'RBG3', 'RBG4', 'RBG6', 'RBG5']"
      ]
     },
     "execution_count": 392,
     "metadata": {},
     "output_type": "execute_result"
    }
   ],
   "source": [
    "df.machine_name.value_counts().index.tolist()"
   ]
  },
  {
   "cell_type": "code",
   "execution_count": 393,
   "metadata": {},
   "outputs": [],
   "source": [
    "table3[\"date_measurement_f\"] = pd.to_datetime(table3[\"date_measurement_f\"])"
   ]
  },
  {
   "cell_type": "code",
   "execution_count": 394,
   "metadata": {},
   "outputs": [
    {
     "name": "stdout",
     "output_type": "stream",
     "text": [
      "(5988, 12)\n",
      "(3960, 12)\n",
      "(1440, 12)\n",
      "(1428, 12)\n",
      "(1416, 12)\n",
      "(1492, 12)\n",
      "(1488, 12)\n"
     ]
    },
    {
     "data": {
      "image/png": "[encoded data removed]",
      "text/plain": [
       "<Figure size 432x288 with 1 Axes>"
      ]
     },
     "metadata": {},
     "output_type": "display_data"
    }
   ],
   "source": [
    "for machine in df.machine_name.value_counts().index.tolist():\n",
    "    dfff = table3[table3['machine_name'] == machine]\n",
    "    print (dfff.shape)\n",
    "    plt.plot(dfff['date_measurement_f'], dfff['number_of_observations'])"
   ]
  },
  {
   "cell_type": "code",
   "execution_count": 395,
   "metadata": {},
   "outputs": [
    {
     "name": "stdout",
     "output_type": "stream",
     "text": [
      "<class 'pandas.core.frame.DataFrame'>\n",
      "RangeIndex: 17212 entries, 0 to 17211\n",
      "Data columns (total 12 columns):\n",
      "machine_name              17212 non-null object\n",
      "sensor_type               17212 non-null object\n",
      "date_measurement_f        17212 non-null datetime64[ns]\n",
      "number_of_observations    17212 non-null int64\n",
      "1                         17212 non-null float64\n",
      "2                         16072 non-null float64\n",
      "3                         14246 non-null float64\n",
      "4                         3180 non-null float64\n",
      "5                         719 non-null float64\n",
      "6                         148 non-null float64\n",
      "7                         60 non-null float64\n",
      "8                         36 non-null float64\n",
      "dtypes: datetime64[ns](1), float64(8), int64(1), object(2)\n",
      "memory usage: 1.6+ MB\n"
     ]
    }
   ],
   "source": [
    "table3.info()"
   ]
  },
  {
   "cell_type": "code",
   "execution_count": 396,
   "metadata": {},
   "outputs": [
    {
     "data": {
      "text/plain": [
       "[<matplotlib.lines.Line2D at 0x6d11d7b8>]"
      ]
     },
     "execution_count": 396,
     "metadata": {},
     "output_type": "execute_result"
    },
    {
     "data": {
      "image/png": "[encoded data removed]",
      "text/plain": [
       "<Figure size 1080x1080 with 1 Axes>"
      ]
     },
     "metadata": {},
     "output_type": "display_data"
    }
   ],
   "source": [
    "plt.figure(figsize=(15,15))\n",
    "dfff = table3[table3['machine_name'] == 'RBG7']\n",
    "plt.plot(dfff['date_measurement_f'], dfff['number_of_observations'])"
   ]
  },
  {
   "cell_type": "code",
   "execution_count": 397,
   "metadata": {},
   "outputs": [],
   "source": [
    "def plot_distribution(machine):\n",
    "    dfff = table3[table3['machine_name'] == machine]\n",
    "    f1 = sns.distplot(dfff.number_of_observations, label=machine)"
   ]
  },
  {
   "cell_type": "markdown",
   "metadata": {},
   "source": [
    "# Plot distribution of machines\n",
    "['RBG7', 'RBG1', 'RBG2', 'RBG3', 'RBG4', 'RBG6', 'RBG5']"
   ]
  },
  {
   "cell_type": "code",
   "execution_count": 398,
   "metadata": {},
   "outputs": [
    {
     "name": "stderr",
     "output_type": "stream",
     "text": [
      "C:\\Program Files\\Anaconda2\\envs\\py36\\lib\\site-packages\\matplotlib\\axes\\_axes.py:6462: UserWarning: The 'normed' kwarg is deprecated, and has been replaced by the 'density' kwarg.\n",
      "  warnings.warn(\"The 'normed' kwarg is deprecated, and has been \"\n"
     ]
    },
    {
     "data": {
      "image/png": "[encoded data removed]",
      "text/plain": [
       "<Figure size 432x288 with 1 Axes>"
      ]
     },
     "metadata": {},
     "output_type": "display_data"
    }
   ],
   "source": [
    "plot_distribution('RBG1')"
   ]
  },
  {
   "cell_type": "code",
   "execution_count": 399,
   "metadata": {},
   "outputs": [
    {
     "name": "stderr",
     "output_type": "stream",
     "text": [
      "C:\\Program Files\\Anaconda2\\envs\\py36\\lib\\site-packages\\matplotlib\\axes\\_axes.py:6462: UserWarning: The 'normed' kwarg is deprecated, and has been replaced by the 'density' kwarg.\n",
      "  warnings.warn(\"The 'normed' kwarg is deprecated, and has been \"\n"
     ]
    },
    {
     "data": {
      "image/png": "[encoded data removed]",
      "text/plain": [
       "<Figure size 432x288 with 1 Axes>"
      ]
     },
     "metadata": {},
     "output_type": "display_data"
    }
   ],
   "source": [
    "plot_distribution('RBG2')"
   ]
  },
  {
   "cell_type": "code",
   "execution_count": 400,
   "metadata": {},
   "outputs": [
    {
     "name": "stderr",
     "output_type": "stream",
     "text": [
      "C:\\Program Files\\Anaconda2\\envs\\py36\\lib\\site-packages\\matplotlib\\axes\\_axes.py:6462: UserWarning: The 'normed' kwarg is deprecated, and has been replaced by the 'density' kwarg.\n",
      "  warnings.warn(\"The 'normed' kwarg is deprecated, and has been \"\n"
     ]
    },
    {
     "data": {
      "image/png": "[encoded data removed]",
      "text/plain": [
       "<Figure size 432x288 with 1 Axes>"
      ]
     },
     "metadata": {},
     "output_type": "display_data"
    }
   ],
   "source": [
    "plot_distribution('RBG3')"
   ]
  },
  {
   "cell_type": "code",
   "execution_count": 401,
   "metadata": {},
   "outputs": [
    {
     "name": "stderr",
     "output_type": "stream",
     "text": [
      "C:\\Program Files\\Anaconda2\\envs\\py36\\lib\\site-packages\\matplotlib\\axes\\_axes.py:6462: UserWarning: The 'normed' kwarg is deprecated, and has been replaced by the 'density' kwarg.\n",
      "  warnings.warn(\"The 'normed' kwarg is deprecated, and has been \"\n"
     ]
    },
    {
     "data": {
      "image/png": "[encoded data removed]",
      "text/plain": [
       "<Figure size 432x288 with 1 Axes>"
      ]
     },
     "metadata": {},
     "output_type": "display_data"
    }
   ],
   "source": [
    "plot_distribution('RBG4')"
   ]
  },
  {
   "cell_type": "code",
   "execution_count": 402,
   "metadata": {},
   "outputs": [
    {
     "name": "stderr",
     "output_type": "stream",
     "text": [
      "C:\\Program Files\\Anaconda2\\envs\\py36\\lib\\site-packages\\matplotlib\\axes\\_axes.py:6462: UserWarning: The 'normed' kwarg is deprecated, and has been replaced by the 'density' kwarg.\n",
      "  warnings.warn(\"The 'normed' kwarg is deprecated, and has been \"\n"
     ]
    },
    {
     "data": {
      "image/png": "[encoded data removed]",
      "text/plain": [
       "<Figure size 432x288 with 1 Axes>"
      ]
     },
     "metadata": {},
     "output_type": "display_data"
    }
   ],
   "source": [
    "plot_distribution('RBG5')"
   ]
  },
  {
   "cell_type": "code",
   "execution_count": 403,
   "metadata": {},
   "outputs": [
    {
     "name": "stderr",
     "output_type": "stream",
     "text": [
      "C:\\Program Files\\Anaconda2\\envs\\py36\\lib\\site-packages\\matplotlib\\axes\\_axes.py:6462: UserWarning: The 'normed' kwarg is deprecated, and has been replaced by the 'density' kwarg.\n",
      "  warnings.warn(\"The 'normed' kwarg is deprecated, and has been \"\n"
     ]
    },
    {
     "data": {
      "image/png": "[encoded data removed]",
      "text/plain": [
       "<Figure size 432x288 with 1 Axes>"
      ]
     },
     "metadata": {},
     "output_type": "display_data"
    }
   ],
   "source": [
    "plot_distribution('RBG6')"
   ]
  },
  {
   "cell_type": "code",
   "execution_count": 404,
   "metadata": {},
   "outputs": [
    {
     "name": "stderr",
     "output_type": "stream",
     "text": [
      "C:\\Program Files\\Anaconda2\\envs\\py36\\lib\\site-packages\\matplotlib\\axes\\_axes.py:6462: UserWarning: The 'normed' kwarg is deprecated, and has been replaced by the 'density' kwarg.\n",
      "  warnings.warn(\"The 'normed' kwarg is deprecated, and has been \"\n"
     ]
    },
    {
     "data": {
      "image/png": "[encoded data removed]",
      "text/plain": [
       "<Figure size 432x288 with 1 Axes>"
      ]
     },
     "metadata": {},
     "output_type": "display_data"
    }
   ],
   "source": [
    "plot_distribution('RBG7')"
   ]
  },
  {
   "cell_type": "code",
   "execution_count": 405,
   "metadata": {},
   "outputs": [
    {
     "data": {
      "text/html": [
       "<div>\n",
       "<style scoped>\n",
       "    .dataframe tbody tr th:only-of-type {\n",
       "        vertical-align: middle;\n",
       "    }\n",
       "\n",
       "    .dataframe tbody tr th {\n",
       "        vertical-align: top;\n",
       "    }\n",
       "\n",
       "    .dataframe thead th {\n",
       "        text-align: right;\n",
       "    }\n",
       "</style>\n",
       "<table border=\"1\" class=\"dataframe\">\n",
       "  <thead>\n",
       "    <tr style=\"text-align: right;\">\n",
       "      <th></th>\n",
       "      <th>machine_name</th>\n",
       "      <th>sensor_type</th>\n",
       "      <th>date_measurement_f</th>\n",
       "      <th>number_of_observations</th>\n",
       "      <th>1</th>\n",
       "      <th>2</th>\n",
       "      <th>3</th>\n",
       "      <th>4</th>\n",
       "      <th>5</th>\n",
       "      <th>6</th>\n",
       "      <th>7</th>\n",
       "      <th>8</th>\n",
       "    </tr>\n",
       "  </thead>\n",
       "  <tbody>\n",
       "    <tr>\n",
       "      <th>0</th>\n",
       "      <td>RBG1</td>\n",
       "      <td>drive_gear_V_eff</td>\n",
       "      <td>2016-09-02</td>\n",
       "      <td>2</td>\n",
       "      <td>1.2463</td>\n",
       "      <td>1.6164</td>\n",
       "      <td>NaN</td>\n",
       "      <td>NaN</td>\n",
       "      <td>NaN</td>\n",
       "      <td>NaN</td>\n",
       "      <td>NaN</td>\n",
       "      <td>NaN</td>\n",
       "    </tr>\n",
       "    <tr>\n",
       "      <th>1</th>\n",
       "      <td>RBG1</td>\n",
       "      <td>drive_gear_V_eff</td>\n",
       "      <td>2016-09-06</td>\n",
       "      <td>5</td>\n",
       "      <td>1.7045</td>\n",
       "      <td>1.6939</td>\n",
       "      <td>1.8634</td>\n",
       "      <td>1.9335</td>\n",
       "      <td>1.8229</td>\n",
       "      <td>NaN</td>\n",
       "      <td>NaN</td>\n",
       "      <td>NaN</td>\n",
       "    </tr>\n",
       "    <tr>\n",
       "      <th>2</th>\n",
       "      <td>RBG1</td>\n",
       "      <td>drive_gear_V_eff</td>\n",
       "      <td>2016-09-07</td>\n",
       "      <td>5</td>\n",
       "      <td>1.7670</td>\n",
       "      <td>1.7340</td>\n",
       "      <td>1.7306</td>\n",
       "      <td>1.8736</td>\n",
       "      <td>1.8497</td>\n",
       "      <td>NaN</td>\n",
       "      <td>NaN</td>\n",
       "      <td>NaN</td>\n",
       "    </tr>\n",
       "    <tr>\n",
       "      <th>3</th>\n",
       "      <td>RBG1</td>\n",
       "      <td>drive_gear_V_eff</td>\n",
       "      <td>2016-09-08</td>\n",
       "      <td>4</td>\n",
       "      <td>1.8276</td>\n",
       "      <td>1.7398</td>\n",
       "      <td>1.9094</td>\n",
       "      <td>2.0121</td>\n",
       "      <td>NaN</td>\n",
       "      <td>NaN</td>\n",
       "      <td>NaN</td>\n",
       "      <td>NaN</td>\n",
       "    </tr>\n",
       "    <tr>\n",
       "      <th>4</th>\n",
       "      <td>RBG1</td>\n",
       "      <td>drive_gear_V_eff</td>\n",
       "      <td>2016-09-09</td>\n",
       "      <td>7</td>\n",
       "      <td>2.0060</td>\n",
       "      <td>1.9085</td>\n",
       "      <td>1.8524</td>\n",
       "      <td>1.8190</td>\n",
       "      <td>1.8282</td>\n",
       "      <td>1.8688</td>\n",
       "      <td>1.8224</td>\n",
       "      <td>NaN</td>\n",
       "    </tr>\n",
       "  </tbody>\n",
       "</table>\n",
       "</div>"
      ],
      "text/plain": [
       "  machine_name       sensor_type date_measurement_f  number_of_observations  \\\n",
       "0         RBG1  drive_gear_V_eff         2016-09-02                       2   \n",
       "1         RBG1  drive_gear_V_eff         2016-09-06                       5   \n",
       "2         RBG1  drive_gear_V_eff         2016-09-07                       5   \n",
       "3         RBG1  drive_gear_V_eff         2016-09-08                       4   \n",
       "4         RBG1  drive_gear_V_eff         2016-09-09                       7   \n",
       "\n",
       "        1       2       3       4       5       6       7   8  \n",
       "0  1.2463  1.6164     NaN     NaN     NaN     NaN     NaN NaN  \n",
       "1  1.7045  1.6939  1.8634  1.9335  1.8229     NaN     NaN NaN  \n",
       "2  1.7670  1.7340  1.7306  1.8736  1.8497     NaN     NaN NaN  \n",
       "3  1.8276  1.7398  1.9094  2.0121     NaN     NaN     NaN NaN  \n",
       "4  2.0060  1.9085  1.8524  1.8190  1.8282  1.8688  1.8224 NaN  "
      ]
     },
     "execution_count": 405,
     "metadata": {},
     "output_type": "execute_result"
    }
   ],
   "source": [
    "table3.head()"
   ]
  },
  {
   "cell_type": "code",
   "execution_count": 406,
   "metadata": {},
   "outputs": [
    {
     "data": {
      "text/html": [
       "<div>\n",
       "<style scoped>\n",
       "    .dataframe tbody tr th:only-of-type {\n",
       "        vertical-align: middle;\n",
       "    }\n",
       "\n",
       "    .dataframe tbody tr th {\n",
       "        vertical-align: top;\n",
       "    }\n",
       "\n",
       "    .dataframe thead tr th {\n",
       "        text-align: left;\n",
       "    }\n",
       "\n",
       "    .dataframe thead tr:last-of-type th {\n",
       "        text-align: right;\n",
       "    }\n",
       "</style>\n",
       "<table border=\"1\" class=\"dataframe\">\n",
       "  <thead>\n",
       "    <tr>\n",
       "      <th></th>\n",
       "      <th></th>\n",
       "      <th colspan=\"2\" halign=\"left\">number_of_observations</th>\n",
       "    </tr>\n",
       "    <tr>\n",
       "      <th></th>\n",
       "      <th></th>\n",
       "      <th>mean</th>\n",
       "      <th>count</th>\n",
       "    </tr>\n",
       "    <tr>\n",
       "      <th>machine_name</th>\n",
       "      <th>sensor_type</th>\n",
       "      <th></th>\n",
       "      <th></th>\n",
       "    </tr>\n",
       "  </thead>\n",
       "  <tbody>\n",
       "    <tr>\n",
       "      <th rowspan=\"12\" valign=\"top\">RBG1</th>\n",
       "      <th>drive_gear_V_eff</th>\n",
       "      <td>3.100000</td>\n",
       "      <td>330</td>\n",
       "    </tr>\n",
       "    <tr>\n",
       "      <th>drive_gear_a_max</th>\n",
       "      <td>3.100000</td>\n",
       "      <td>330</td>\n",
       "    </tr>\n",
       "    <tr>\n",
       "      <th>drive_motor_V_eff</th>\n",
       "      <td>3.100000</td>\n",
       "      <td>330</td>\n",
       "    </tr>\n",
       "    <tr>\n",
       "      <th>drive_motor_a_max</th>\n",
       "      <td>3.100000</td>\n",
       "      <td>330</td>\n",
       "    </tr>\n",
       "    <tr>\n",
       "      <th>drive_wheel_V_eff</th>\n",
       "      <td>3.100000</td>\n",
       "      <td>330</td>\n",
       "    </tr>\n",
       "    <tr>\n",
       "      <th>drive_wheel_a_max</th>\n",
       "      <td>3.100000</td>\n",
       "      <td>330</td>\n",
       "    </tr>\n",
       "    <tr>\n",
       "      <th>idle_wheel_V_eff</th>\n",
       "      <td>3.100000</td>\n",
       "      <td>330</td>\n",
       "    </tr>\n",
       "    <tr>\n",
       "      <th>idle_wheel_a_max</th>\n",
       "      <td>3.100000</td>\n",
       "      <td>330</td>\n",
       "    </tr>\n",
       "    <tr>\n",
       "      <th>lifting_gear_V_eff</th>\n",
       "      <td>3.115152</td>\n",
       "      <td>330</td>\n",
       "    </tr>\n",
       "    <tr>\n",
       "      <th>lifting_gear_a_max</th>\n",
       "      <td>3.115152</td>\n",
       "      <td>330</td>\n",
       "    </tr>\n",
       "    <tr>\n",
       "      <th>lifting_motor_V_eff</th>\n",
       "      <td>3.115152</td>\n",
       "      <td>330</td>\n",
       "    </tr>\n",
       "    <tr>\n",
       "      <th>lifting_motor_a_max</th>\n",
       "      <td>3.115152</td>\n",
       "      <td>330</td>\n",
       "    </tr>\n",
       "    <tr>\n",
       "      <th rowspan=\"12\" valign=\"top\">RBG2</th>\n",
       "      <th>drive_gear_V_eff</th>\n",
       "      <td>3.150000</td>\n",
       "      <td>120</td>\n",
       "    </tr>\n",
       "    <tr>\n",
       "      <th>drive_gear_a_max</th>\n",
       "      <td>3.150000</td>\n",
       "      <td>120</td>\n",
       "    </tr>\n",
       "    <tr>\n",
       "      <th>drive_motor_V_eff</th>\n",
       "      <td>3.150000</td>\n",
       "      <td>120</td>\n",
       "    </tr>\n",
       "    <tr>\n",
       "      <th>drive_motor_a_max</th>\n",
       "      <td>3.150000</td>\n",
       "      <td>120</td>\n",
       "    </tr>\n",
       "    <tr>\n",
       "      <th>drive_wheel_V_eff</th>\n",
       "      <td>3.150000</td>\n",
       "      <td>120</td>\n",
       "    </tr>\n",
       "    <tr>\n",
       "      <th>drive_wheel_a_max</th>\n",
       "      <td>3.150000</td>\n",
       "      <td>120</td>\n",
       "    </tr>\n",
       "    <tr>\n",
       "      <th>idle_wheel_V_eff</th>\n",
       "      <td>3.150000</td>\n",
       "      <td>120</td>\n",
       "    </tr>\n",
       "    <tr>\n",
       "      <th>idle_wheel_a_max</th>\n",
       "      <td>3.150000</td>\n",
       "      <td>120</td>\n",
       "    </tr>\n",
       "    <tr>\n",
       "      <th>lifting_gear_V_eff</th>\n",
       "      <td>3.150000</td>\n",
       "      <td>120</td>\n",
       "    </tr>\n",
       "    <tr>\n",
       "      <th>lifting_gear_a_max</th>\n",
       "      <td>3.150000</td>\n",
       "      <td>120</td>\n",
       "    </tr>\n",
       "    <tr>\n",
       "      <th>lifting_motor_V_eff</th>\n",
       "      <td>3.150000</td>\n",
       "      <td>120</td>\n",
       "    </tr>\n",
       "    <tr>\n",
       "      <th>lifting_motor_a_max</th>\n",
       "      <td>3.150000</td>\n",
       "      <td>120</td>\n",
       "    </tr>\n",
       "    <tr>\n",
       "      <th rowspan=\"6\" valign=\"top\">RBG3</th>\n",
       "      <th>drive_gear_V_eff</th>\n",
       "      <td>3.168067</td>\n",
       "      <td>119</td>\n",
       "    </tr>\n",
       "    <tr>\n",
       "      <th>drive_gear_a_max</th>\n",
       "      <td>3.168067</td>\n",
       "      <td>119</td>\n",
       "    </tr>\n",
       "    <tr>\n",
       "      <th>drive_motor_V_eff</th>\n",
       "      <td>3.168067</td>\n",
       "      <td>119</td>\n",
       "    </tr>\n",
       "    <tr>\n",
       "      <th>drive_motor_a_max</th>\n",
       "      <td>3.168067</td>\n",
       "      <td>119</td>\n",
       "    </tr>\n",
       "    <tr>\n",
       "      <th>drive_wheel_V_eff</th>\n",
       "      <td>3.168067</td>\n",
       "      <td>119</td>\n",
       "    </tr>\n",
       "    <tr>\n",
       "      <th>drive_wheel_a_max</th>\n",
       "      <td>3.168067</td>\n",
       "      <td>119</td>\n",
       "    </tr>\n",
       "    <tr>\n",
       "      <th>...</th>\n",
       "      <th>...</th>\n",
       "      <td>...</td>\n",
       "      <td>...</td>\n",
       "    </tr>\n",
       "    <tr>\n",
       "      <th rowspan=\"6\" valign=\"top\">RBG5</th>\n",
       "      <th>idle_wheel_V_eff</th>\n",
       "      <td>3.048387</td>\n",
       "      <td>124</td>\n",
       "    </tr>\n",
       "    <tr>\n",
       "      <th>idle_wheel_a_max</th>\n",
       "      <td>3.048387</td>\n",
       "      <td>124</td>\n",
       "    </tr>\n",
       "    <tr>\n",
       "      <th>lifting_gear_V_eff</th>\n",
       "      <td>3.048387</td>\n",
       "      <td>124</td>\n",
       "    </tr>\n",
       "    <tr>\n",
       "      <th>lifting_gear_a_max</th>\n",
       "      <td>3.048387</td>\n",
       "      <td>124</td>\n",
       "    </tr>\n",
       "    <tr>\n",
       "      <th>lifting_motor_V_eff</th>\n",
       "      <td>3.048387</td>\n",
       "      <td>124</td>\n",
       "    </tr>\n",
       "    <tr>\n",
       "      <th>lifting_motor_a_max</th>\n",
       "      <td>3.048387</td>\n",
       "      <td>124</td>\n",
       "    </tr>\n",
       "    <tr>\n",
       "      <th rowspan=\"12\" valign=\"top\">RBG6</th>\n",
       "      <th>drive_gear_V_eff</th>\n",
       "      <td>3.129032</td>\n",
       "      <td>124</td>\n",
       "    </tr>\n",
       "    <tr>\n",
       "      <th>drive_gear_a_max</th>\n",
       "      <td>3.129032</td>\n",
       "      <td>124</td>\n",
       "    </tr>\n",
       "    <tr>\n",
       "      <th>drive_motor_V_eff</th>\n",
       "      <td>3.129032</td>\n",
       "      <td>124</td>\n",
       "    </tr>\n",
       "    <tr>\n",
       "      <th>drive_motor_a_max</th>\n",
       "      <td>3.129032</td>\n",
       "      <td>124</td>\n",
       "    </tr>\n",
       "    <tr>\n",
       "      <th>drive_wheel_V_eff</th>\n",
       "      <td>3.129032</td>\n",
       "      <td>124</td>\n",
       "    </tr>\n",
       "    <tr>\n",
       "      <th>drive_wheel_a_max</th>\n",
       "      <td>3.129032</td>\n",
       "      <td>124</td>\n",
       "    </tr>\n",
       "    <tr>\n",
       "      <th>idle_wheel_V_eff</th>\n",
       "      <td>3.129032</td>\n",
       "      <td>124</td>\n",
       "    </tr>\n",
       "    <tr>\n",
       "      <th>idle_wheel_a_max</th>\n",
       "      <td>3.129032</td>\n",
       "      <td>124</td>\n",
       "    </tr>\n",
       "    <tr>\n",
       "      <th>lifting_gear_V_eff</th>\n",
       "      <td>3.112000</td>\n",
       "      <td>125</td>\n",
       "    </tr>\n",
       "    <tr>\n",
       "      <th>lifting_gear_a_max</th>\n",
       "      <td>3.112000</td>\n",
       "      <td>125</td>\n",
       "    </tr>\n",
       "    <tr>\n",
       "      <th>lifting_motor_V_eff</th>\n",
       "      <td>3.112000</td>\n",
       "      <td>125</td>\n",
       "    </tr>\n",
       "    <tr>\n",
       "      <th>lifting_motor_a_max</th>\n",
       "      <td>3.112000</td>\n",
       "      <td>125</td>\n",
       "    </tr>\n",
       "    <tr>\n",
       "      <th rowspan=\"12\" valign=\"top\">RBG7</th>\n",
       "      <th>drive_gear_V_eff</th>\n",
       "      <td>2.803607</td>\n",
       "      <td>499</td>\n",
       "    </tr>\n",
       "    <tr>\n",
       "      <th>drive_gear_a_max</th>\n",
       "      <td>2.805611</td>\n",
       "      <td>499</td>\n",
       "    </tr>\n",
       "    <tr>\n",
       "      <th>drive_motor_V_eff</th>\n",
       "      <td>2.805611</td>\n",
       "      <td>499</td>\n",
       "    </tr>\n",
       "    <tr>\n",
       "      <th>drive_motor_a_max</th>\n",
       "      <td>2.805611</td>\n",
       "      <td>499</td>\n",
       "    </tr>\n",
       "    <tr>\n",
       "      <th>drive_wheel_V_eff</th>\n",
       "      <td>2.805611</td>\n",
       "      <td>499</td>\n",
       "    </tr>\n",
       "    <tr>\n",
       "      <th>drive_wheel_a_max</th>\n",
       "      <td>2.805611</td>\n",
       "      <td>499</td>\n",
       "    </tr>\n",
       "    <tr>\n",
       "      <th>idle_wheel_V_eff</th>\n",
       "      <td>2.803607</td>\n",
       "      <td>499</td>\n",
       "    </tr>\n",
       "    <tr>\n",
       "      <th>idle_wheel_a_max</th>\n",
       "      <td>2.805611</td>\n",
       "      <td>499</td>\n",
       "    </tr>\n",
       "    <tr>\n",
       "      <th>lifting_gear_V_eff</th>\n",
       "      <td>2.803607</td>\n",
       "      <td>499</td>\n",
       "    </tr>\n",
       "    <tr>\n",
       "      <th>lifting_gear_a_max</th>\n",
       "      <td>2.803607</td>\n",
       "      <td>499</td>\n",
       "    </tr>\n",
       "    <tr>\n",
       "      <th>lifting_motor_V_eff</th>\n",
       "      <td>2.801603</td>\n",
       "      <td>499</td>\n",
       "    </tr>\n",
       "    <tr>\n",
       "      <th>lifting_motor_a_max</th>\n",
       "      <td>2.803607</td>\n",
       "      <td>499</td>\n",
       "    </tr>\n",
       "  </tbody>\n",
       "</table>\n",
       "<p>84 rows × 2 columns</p>\n",
       "</div>"
      ],
      "text/plain": [
       "                                 number_of_observations      \n",
       "                                                   mean count\n",
       "machine_name sensor_type                                     \n",
       "RBG1         drive_gear_V_eff                  3.100000   330\n",
       "             drive_gear_a_max                  3.100000   330\n",
       "             drive_motor_V_eff                 3.100000   330\n",
       "             drive_motor_a_max                 3.100000   330\n",
       "             drive_wheel_V_eff                 3.100000   330\n",
       "             drive_wheel_a_max                 3.100000   330\n",
       "             idle_wheel_V_eff                  3.100000   330\n",
       "             idle_wheel_a_max                  3.100000   330\n",
       "             lifting_gear_V_eff                3.115152   330\n",
       "             lifting_gear_a_max                3.115152   330\n",
       "             lifting_motor_V_eff               3.115152   330\n",
       "             lifting_motor_a_max               3.115152   330\n",
       "RBG2         drive_gear_V_eff                  3.150000   120\n",
       "             drive_gear_a_max                  3.150000   120\n",
       "             drive_motor_V_eff                 3.150000   120\n",
       "             drive_motor_a_max                 3.150000   120\n",
       "             drive_wheel_V_eff                 3.150000   120\n",
       "             drive_wheel_a_max                 3.150000   120\n",
       "             idle_wheel_V_eff                  3.150000   120\n",
       "             idle_wheel_a_max                  3.150000   120\n",
       "             lifting_gear_V_eff                3.150000   120\n",
       "             lifting_gear_a_max                3.150000   120\n",
       "             lifting_motor_V_eff               3.150000   120\n",
       "             lifting_motor_a_max               3.150000   120\n",
       "RBG3         drive_gear_V_eff                  3.168067   119\n",
       "             drive_gear_a_max                  3.168067   119\n",
       "             drive_motor_V_eff                 3.168067   119\n",
       "             drive_motor_a_max                 3.168067   119\n",
       "             drive_wheel_V_eff                 3.168067   119\n",
       "             drive_wheel_a_max                 3.168067   119\n",
       "...                                                 ...   ...\n",
       "RBG5         idle_wheel_V_eff                  3.048387   124\n",
       "             idle_wheel_a_max                  3.048387   124\n",
       "             lifting_gear_V_eff                3.048387   124\n",
       "             lifting_gear_a_max                3.048387   124\n",
       "             lifting_motor_V_eff               3.048387   124\n",
       "             lifting_motor_a_max               3.048387   124\n",
       "RBG6         drive_gear_V_eff                  3.129032   124\n",
       "             drive_gear_a_max                  3.129032   124\n",
       "             drive_motor_V_eff                 3.129032   124\n",
       "             drive_motor_a_max                 3.129032   124\n",
       "             drive_wheel_V_eff                 3.129032   124\n",
       "             drive_wheel_a_max                 3.129032   124\n",
       "             idle_wheel_V_eff                  3.129032   124\n",
       "             idle_wheel_a_max                  3.129032   124\n",
       "             lifting_gear_V_eff                3.112000   125\n",
       "             lifting_gear_a_max                3.112000   125\n",
       "             lifting_motor_V_eff               3.112000   125\n",
       "             lifting_motor_a_max               3.112000   125\n",
       "RBG7         drive_gear_V_eff                  2.803607   499\n",
       "             drive_gear_a_max                  2.805611   499\n",
       "             drive_motor_V_eff                 2.805611   499\n",
       "             drive_motor_a_max                 2.805611   499\n",
       "             drive_wheel_V_eff                 2.805611   499\n",
       "             drive_wheel_a_max                 2.805611   499\n",
       "             idle_wheel_V_eff                  2.803607   499\n",
       "             idle_wheel_a_max                  2.805611   499\n",
       "             lifting_gear_V_eff                2.803607   499\n",
       "             lifting_gear_a_max                2.803607   499\n",
       "             lifting_motor_V_eff               2.801603   499\n",
       "             lifting_motor_a_max               2.803607   499\n",
       "\n",
       "[84 rows x 2 columns]"
      ]
     },
     "execution_count": 406,
     "metadata": {},
     "output_type": "execute_result"
    }
   ],
   "source": [
    "table3.groupby(['machine_name', 'sensor_type']).agg({'number_of_observations' : ['mean', 'count']})"
   ]
  },
  {
   "cell_type": "code",
   "execution_count": 407,
   "metadata": {},
   "outputs": [
    {
     "data": {
      "text/plain": [
       "array([ 9, 10, 11, 12,  1,  2,  3,  4,  5,  6,  7,  8], dtype=int64)"
      ]
     },
     "execution_count": 407,
     "metadata": {},
     "output_type": "execute_result"
    }
   ],
   "source": [
    "dfff['date_measurement_f'].apply(lambda x: x.month).unique()"
   ]
  },
  {
   "cell_type": "code",
   "execution_count": 408,
   "metadata": {},
   "outputs": [
    {
     "data": {
      "text/plain": [
       "RBG7    499.000000\n",
       "RBG1    330.000000\n",
       "RBG6    124.333333\n",
       "RBG5    124.000000\n",
       "RBG2    120.000000\n",
       "RBG3    119.000000\n",
       "RBG4    118.000000\n",
       "Name: machine_name, dtype: float64"
      ]
     },
     "execution_count": 408,
     "metadata": {},
     "output_type": "execute_result"
    }
   ],
   "source": [
    "table3.machine_name.value_counts() / 12"
   ]
  },
  {
   "cell_type": "code",
   "execution_count": 409,
   "metadata": {},
   "outputs": [],
   "source": [
    "machine6 = table3[table3['machine_name'] == 'RBG6']"
   ]
  },
  {
   "cell_type": "code",
   "execution_count": 410,
   "metadata": {},
   "outputs": [],
   "source": [
    "idx = pd.period_range(min(table3.date_measurement_f), max(table3.date_measurement_f))\n",
    "#results.reindex(idx, fill_value=0)"
   ]
  },
  {
   "cell_type": "code",
   "execution_count": 411,
   "metadata": {},
   "outputs": [
    {
     "data": {
      "text/plain": [
       "PeriodIndex(['2016-09-02', '2016-09-03', '2016-09-04', '2016-09-05',\n",
       "             '2016-09-06', '2016-09-07', '2016-09-08', '2016-09-09',\n",
       "             '2016-09-10', '2016-09-11',\n",
       "             ...\n",
       "             '2018-07-15', '2018-07-16', '2018-07-17', '2018-07-18',\n",
       "             '2018-07-19', '2018-07-20', '2018-07-21', '2018-07-22',\n",
       "             '2018-07-23', '2018-07-24'],\n",
       "            dtype='period[D]', length=691, freq='D')"
      ]
     },
     "execution_count": 411,
     "metadata": {},
     "output_type": "execute_result"
    }
   ],
   "source": [
    "idx"
   ]
  },
  {
   "cell_type": "code",
   "execution_count": 412,
   "metadata": {},
   "outputs": [
    {
     "data": {
      "text/plain": [
       "array(['2018-03-19T00:00:00.000000000', '2018-03-20T00:00:00.000000000',\n",
       "       '2018-03-21T00:00:00.000000000', '2018-03-22T00:00:00.000000000',\n",
       "       '2018-03-23T00:00:00.000000000', '2018-03-24T00:00:00.000000000',\n",
       "       '2018-03-25T00:00:00.000000000', '2018-03-26T00:00:00.000000000',\n",
       "       '2018-03-27T00:00:00.000000000', '2018-03-28T00:00:00.000000000',\n",
       "       '2018-03-29T00:00:00.000000000', '2018-04-02T00:00:00.000000000',\n",
       "       '2018-04-03T00:00:00.000000000', '2018-04-04T00:00:00.000000000',\n",
       "       '2018-04-05T00:00:00.000000000', '2018-04-06T00:00:00.000000000',\n",
       "       '2018-04-07T00:00:00.000000000', '2018-04-08T00:00:00.000000000',\n",
       "       '2018-04-09T00:00:00.000000000', '2018-04-10T00:00:00.000000000',\n",
       "       '2018-04-11T00:00:00.000000000', '2018-04-12T00:00:00.000000000',\n",
       "       '2018-04-13T00:00:00.000000000', '2018-04-14T00:00:00.000000000',\n",
       "       '2018-04-15T00:00:00.000000000', '2018-04-16T00:00:00.000000000',\n",
       "       '2018-04-17T00:00:00.000000000', '2018-04-18T00:00:00.000000000',\n",
       "       '2018-04-19T00:00:00.000000000', '2018-04-20T00:00:00.000000000',\n",
       "       '2018-04-21T00:00:00.000000000', '2018-04-22T00:00:00.000000000',\n",
       "       '2018-04-23T00:00:00.000000000', '2018-04-24T00:00:00.000000000',\n",
       "       '2018-04-25T00:00:00.000000000', '2018-04-26T00:00:00.000000000',\n",
       "       '2018-04-27T00:00:00.000000000', '2018-04-28T00:00:00.000000000',\n",
       "       '2018-04-29T00:00:00.000000000', '2018-04-30T00:00:00.000000000',\n",
       "       '2018-05-01T00:00:00.000000000', '2018-05-02T00:00:00.000000000',\n",
       "       '2018-05-03T00:00:00.000000000', '2018-05-04T00:00:00.000000000',\n",
       "       '2018-05-05T00:00:00.000000000', '2018-05-06T00:00:00.000000000',\n",
       "       '2018-05-07T00:00:00.000000000', '2018-05-08T00:00:00.000000000',\n",
       "       '2018-05-09T00:00:00.000000000', '2018-05-10T00:00:00.000000000',\n",
       "       '2018-05-11T00:00:00.000000000', '2018-05-12T00:00:00.000000000',\n",
       "       '2018-05-13T00:00:00.000000000', '2018-05-14T00:00:00.000000000',\n",
       "       '2018-05-15T00:00:00.000000000', '2018-05-16T00:00:00.000000000',\n",
       "       '2018-05-17T00:00:00.000000000', '2018-05-18T00:00:00.000000000',\n",
       "       '2018-05-19T00:00:00.000000000', '2018-05-20T00:00:00.000000000',\n",
       "       '2018-05-21T00:00:00.000000000', '2018-05-22T00:00:00.000000000',\n",
       "       '2018-05-23T00:00:00.000000000', '2018-05-24T00:00:00.000000000',\n",
       "       '2018-05-25T00:00:00.000000000', '2018-05-26T00:00:00.000000000',\n",
       "       '2018-05-27T00:00:00.000000000', '2018-05-28T00:00:00.000000000',\n",
       "       '2018-05-29T00:00:00.000000000', '2018-05-30T00:00:00.000000000',\n",
       "       '2018-05-31T00:00:00.000000000', '2018-06-01T00:00:00.000000000',\n",
       "       '2018-06-02T00:00:00.000000000', '2018-06-03T00:00:00.000000000',\n",
       "       '2018-06-04T00:00:00.000000000', '2018-06-05T00:00:00.000000000',\n",
       "       '2018-06-06T00:00:00.000000000', '2018-06-07T00:00:00.000000000',\n",
       "       '2018-06-08T00:00:00.000000000', '2018-06-09T00:00:00.000000000',\n",
       "       '2018-06-10T00:00:00.000000000', '2018-06-11T00:00:00.000000000',\n",
       "       '2018-06-12T00:00:00.000000000', '2018-06-13T00:00:00.000000000',\n",
       "       '2018-06-14T00:00:00.000000000', '2018-06-15T00:00:00.000000000',\n",
       "       '2018-06-16T00:00:00.000000000', '2018-06-17T00:00:00.000000000',\n",
       "       '2018-06-18T00:00:00.000000000', '2018-06-19T00:00:00.000000000',\n",
       "       '2018-06-20T00:00:00.000000000', '2018-06-21T00:00:00.000000000',\n",
       "       '2018-06-22T00:00:00.000000000', '2018-06-23T00:00:00.000000000',\n",
       "       '2018-06-24T00:00:00.000000000', '2018-06-25T00:00:00.000000000',\n",
       "       '2018-06-26T00:00:00.000000000', '2018-06-27T00:00:00.000000000',\n",
       "       '2018-06-28T00:00:00.000000000', '2018-06-29T00:00:00.000000000',\n",
       "       '2018-06-30T00:00:00.000000000', '2018-07-01T00:00:00.000000000',\n",
       "       '2018-07-02T00:00:00.000000000', '2018-07-03T00:00:00.000000000',\n",
       "       '2018-07-04T00:00:00.000000000', '2018-07-05T00:00:00.000000000',\n",
       "       '2018-07-06T00:00:00.000000000', '2018-07-07T00:00:00.000000000',\n",
       "       '2018-07-08T00:00:00.000000000', '2018-07-09T00:00:00.000000000',\n",
       "       '2018-07-10T00:00:00.000000000', '2018-07-11T00:00:00.000000000',\n",
       "       '2018-07-12T00:00:00.000000000', '2018-07-13T00:00:00.000000000',\n",
       "       '2018-07-14T00:00:00.000000000', '2018-07-15T00:00:00.000000000',\n",
       "       '2018-07-16T00:00:00.000000000', '2018-07-17T00:00:00.000000000',\n",
       "       '2018-07-18T00:00:00.000000000', '2018-07-19T00:00:00.000000000',\n",
       "       '2018-07-20T00:00:00.000000000', '2018-07-21T00:00:00.000000000',\n",
       "       '2018-07-22T00:00:00.000000000', '2018-07-23T00:00:00.000000000',\n",
       "       '2018-07-24T00:00:00.000000000'], dtype='datetime64[ns]')"
      ]
     },
     "execution_count": 412,
     "metadata": {},
     "output_type": "execute_result"
    }
   ],
   "source": [
    "machine6.sort_values('date_measurement_f')['date_measurement_f'].unique()"
   ]
  },
  {
   "cell_type": "code",
   "execution_count": 413,
   "metadata": {},
   "outputs": [
    {
     "data": {
      "text/html": [
       "<div>\n",
       "<style scoped>\n",
       "    .dataframe tbody tr th:only-of-type {\n",
       "        vertical-align: middle;\n",
       "    }\n",
       "\n",
       "    .dataframe tbody tr th {\n",
       "        vertical-align: top;\n",
       "    }\n",
       "\n",
       "    .dataframe thead th {\n",
       "        text-align: right;\n",
       "    }\n",
       "</style>\n",
       "<table border=\"1\" class=\"dataframe\">\n",
       "  <thead>\n",
       "    <tr style=\"text-align: right;\">\n",
       "      <th></th>\n",
       "      <th>machine_name</th>\n",
       "      <th>sensor_type</th>\n",
       "      <th>date_measurement_f</th>\n",
       "      <th>number_of_observations</th>\n",
       "      <th>1</th>\n",
       "      <th>2</th>\n",
       "      <th>3</th>\n",
       "      <th>4</th>\n",
       "      <th>5</th>\n",
       "      <th>6</th>\n",
       "      <th>7</th>\n",
       "      <th>8</th>\n",
       "    </tr>\n",
       "  </thead>\n",
       "  <tbody>\n",
       "    <tr>\n",
       "      <th>0</th>\n",
       "      <td>RBG1</td>\n",
       "      <td>drive_gear_V_eff</td>\n",
       "      <td>2016-09-02</td>\n",
       "      <td>2</td>\n",
       "      <td>1.2463</td>\n",
       "      <td>1.6164</td>\n",
       "      <td>NaN</td>\n",
       "      <td>NaN</td>\n",
       "      <td>NaN</td>\n",
       "      <td>NaN</td>\n",
       "      <td>NaN</td>\n",
       "      <td>NaN</td>\n",
       "    </tr>\n",
       "    <tr>\n",
       "      <th>1</th>\n",
       "      <td>RBG1</td>\n",
       "      <td>drive_gear_V_eff</td>\n",
       "      <td>2016-09-06</td>\n",
       "      <td>5</td>\n",
       "      <td>1.7045</td>\n",
       "      <td>1.6939</td>\n",
       "      <td>1.8634</td>\n",
       "      <td>1.9335</td>\n",
       "      <td>1.8229</td>\n",
       "      <td>NaN</td>\n",
       "      <td>NaN</td>\n",
       "      <td>NaN</td>\n",
       "    </tr>\n",
       "    <tr>\n",
       "      <th>2</th>\n",
       "      <td>RBG1</td>\n",
       "      <td>drive_gear_V_eff</td>\n",
       "      <td>2016-09-07</td>\n",
       "      <td>5</td>\n",
       "      <td>1.7670</td>\n",
       "      <td>1.7340</td>\n",
       "      <td>1.7306</td>\n",
       "      <td>1.8736</td>\n",
       "      <td>1.8497</td>\n",
       "      <td>NaN</td>\n",
       "      <td>NaN</td>\n",
       "      <td>NaN</td>\n",
       "    </tr>\n",
       "    <tr>\n",
       "      <th>3</th>\n",
       "      <td>RBG1</td>\n",
       "      <td>drive_gear_V_eff</td>\n",
       "      <td>2016-09-08</td>\n",
       "      <td>4</td>\n",
       "      <td>1.8276</td>\n",
       "      <td>1.7398</td>\n",
       "      <td>1.9094</td>\n",
       "      <td>2.0121</td>\n",
       "      <td>NaN</td>\n",
       "      <td>NaN</td>\n",
       "      <td>NaN</td>\n",
       "      <td>NaN</td>\n",
       "    </tr>\n",
       "    <tr>\n",
       "      <th>4</th>\n",
       "      <td>RBG1</td>\n",
       "      <td>drive_gear_V_eff</td>\n",
       "      <td>2016-09-09</td>\n",
       "      <td>7</td>\n",
       "      <td>2.0060</td>\n",
       "      <td>1.9085</td>\n",
       "      <td>1.8524</td>\n",
       "      <td>1.8190</td>\n",
       "      <td>1.8282</td>\n",
       "      <td>1.8688</td>\n",
       "      <td>1.8224</td>\n",
       "      <td>NaN</td>\n",
       "    </tr>\n",
       "    <tr>\n",
       "      <th>5</th>\n",
       "      <td>RBG1</td>\n",
       "      <td>drive_gear_V_eff</td>\n",
       "      <td>2016-09-12</td>\n",
       "      <td>5</td>\n",
       "      <td>1.7476</td>\n",
       "      <td>1.8234</td>\n",
       "      <td>1.8106</td>\n",
       "      <td>1.7187</td>\n",
       "      <td>1.7042</td>\n",
       "      <td>NaN</td>\n",
       "      <td>NaN</td>\n",
       "      <td>NaN</td>\n",
       "    </tr>\n",
       "    <tr>\n",
       "      <th>6</th>\n",
       "      <td>RBG1</td>\n",
       "      <td>drive_gear_V_eff</td>\n",
       "      <td>2016-09-13</td>\n",
       "      <td>4</td>\n",
       "      <td>1.7660</td>\n",
       "      <td>2.0192</td>\n",
       "      <td>1.9510</td>\n",
       "      <td>1.8576</td>\n",
       "      <td>NaN</td>\n",
       "      <td>NaN</td>\n",
       "      <td>NaN</td>\n",
       "      <td>NaN</td>\n",
       "    </tr>\n",
       "    <tr>\n",
       "      <th>7</th>\n",
       "      <td>RBG1</td>\n",
       "      <td>drive_gear_V_eff</td>\n",
       "      <td>2016-09-14</td>\n",
       "      <td>4</td>\n",
       "      <td>1.8600</td>\n",
       "      <td>1.8873</td>\n",
       "      <td>1.9024</td>\n",
       "      <td>1.7723</td>\n",
       "      <td>NaN</td>\n",
       "      <td>NaN</td>\n",
       "      <td>NaN</td>\n",
       "      <td>NaN</td>\n",
       "    </tr>\n",
       "    <tr>\n",
       "      <th>8</th>\n",
       "      <td>RBG1</td>\n",
       "      <td>drive_gear_V_eff</td>\n",
       "      <td>2016-09-15</td>\n",
       "      <td>5</td>\n",
       "      <td>1.7655</td>\n",
       "      <td>1.6897</td>\n",
       "      <td>1.7683</td>\n",
       "      <td>1.8433</td>\n",
       "      <td>1.8098</td>\n",
       "      <td>NaN</td>\n",
       "      <td>NaN</td>\n",
       "      <td>NaN</td>\n",
       "    </tr>\n",
       "    <tr>\n",
       "      <th>9</th>\n",
       "      <td>RBG1</td>\n",
       "      <td>drive_gear_V_eff</td>\n",
       "      <td>2016-09-16</td>\n",
       "      <td>2</td>\n",
       "      <td>1.7089</td>\n",
       "      <td>1.8832</td>\n",
       "      <td>NaN</td>\n",
       "      <td>NaN</td>\n",
       "      <td>NaN</td>\n",
       "      <td>NaN</td>\n",
       "      <td>NaN</td>\n",
       "      <td>NaN</td>\n",
       "    </tr>\n",
       "  </tbody>\n",
       "</table>\n",
       "</div>"
      ],
      "text/plain": [
       "  machine_name       sensor_type date_measurement_f  number_of_observations  \\\n",
       "0         RBG1  drive_gear_V_eff         2016-09-02                       2   \n",
       "1         RBG1  drive_gear_V_eff         2016-09-06                       5   \n",
       "2         RBG1  drive_gear_V_eff         2016-09-07                       5   \n",
       "3         RBG1  drive_gear_V_eff         2016-09-08                       4   \n",
       "4         RBG1  drive_gear_V_eff         2016-09-09                       7   \n",
       "5         RBG1  drive_gear_V_eff         2016-09-12                       5   \n",
       "6         RBG1  drive_gear_V_eff         2016-09-13                       4   \n",
       "7         RBG1  drive_gear_V_eff         2016-09-14                       4   \n",
       "8         RBG1  drive_gear_V_eff         2016-09-15                       5   \n",
       "9         RBG1  drive_gear_V_eff         2016-09-16                       2   \n",
       "\n",
       "        1       2       3       4       5       6       7   8  \n",
       "0  1.2463  1.6164     NaN     NaN     NaN     NaN     NaN NaN  \n",
       "1  1.7045  1.6939  1.8634  1.9335  1.8229     NaN     NaN NaN  \n",
       "2  1.7670  1.7340  1.7306  1.8736  1.8497     NaN     NaN NaN  \n",
       "3  1.8276  1.7398  1.9094  2.0121     NaN     NaN     NaN NaN  \n",
       "4  2.0060  1.9085  1.8524  1.8190  1.8282  1.8688  1.8224 NaN  \n",
       "5  1.7476  1.8234  1.8106  1.7187  1.7042     NaN     NaN NaN  \n",
       "6  1.7660  2.0192  1.9510  1.8576     NaN     NaN     NaN NaN  \n",
       "7  1.8600  1.8873  1.9024  1.7723     NaN     NaN     NaN NaN  \n",
       "8  1.7655  1.6897  1.7683  1.8433  1.8098     NaN     NaN NaN  \n",
       "9  1.7089  1.8832     NaN     NaN     NaN     NaN     NaN NaN  "
      ]
     },
     "execution_count": 413,
     "metadata": {},
     "output_type": "execute_result"
    }
   ],
   "source": [
    "table3.head(10)"
   ]
  },
  {
   "cell_type": "code",
   "execution_count": 414,
   "metadata": {},
   "outputs": [
    {
     "name": "stdout",
     "output_type": "stream",
     "text": [
      "<class 'pandas.core.frame.DataFrame'>\n",
      "RangeIndex: 17212 entries, 0 to 17211\n",
      "Data columns (total 12 columns):\n",
      "machine_name              17212 non-null object\n",
      "sensor_type               17212 non-null object\n",
      "date_measurement_f        17212 non-null datetime64[ns]\n",
      "number_of_observations    17212 non-null int64\n",
      "1                         17212 non-null float64\n",
      "2                         16072 non-null float64\n",
      "3                         14246 non-null float64\n",
      "4                         3180 non-null float64\n",
      "5                         719 non-null float64\n",
      "6                         148 non-null float64\n",
      "7                         60 non-null float64\n",
      "8                         36 non-null float64\n",
      "dtypes: datetime64[ns](1), float64(8), int64(1), object(2)\n",
      "memory usage: 1.6+ MB\n"
     ]
    }
   ],
   "source": [
    "table3.info()"
   ]
  },
  {
   "cell_type": "code",
   "execution_count": 415,
   "metadata": {},
   "outputs": [],
   "source": [
    "table3['day_of_observation'] = table3['date_measurement_f'].apply(lambda x: x.day)"
   ]
  },
  {
   "cell_type": "code",
   "execution_count": 416,
   "metadata": {},
   "outputs": [
    {
     "data": {
      "text/html": [
       "<div>\n",
       "<style scoped>\n",
       "    .dataframe tbody tr th:only-of-type {\n",
       "        vertical-align: middle;\n",
       "    }\n",
       "\n",
       "    .dataframe tbody tr th {\n",
       "        vertical-align: top;\n",
       "    }\n",
       "\n",
       "    .dataframe thead th {\n",
       "        text-align: right;\n",
       "    }\n",
       "</style>\n",
       "<table border=\"1\" class=\"dataframe\">\n",
       "  <thead>\n",
       "    <tr style=\"text-align: right;\">\n",
       "      <th></th>\n",
       "      <th>machine_name</th>\n",
       "      <th>sensor_type</th>\n",
       "      <th>date_measurement_f</th>\n",
       "      <th>number_of_observations</th>\n",
       "      <th>1</th>\n",
       "      <th>2</th>\n",
       "      <th>3</th>\n",
       "      <th>4</th>\n",
       "      <th>5</th>\n",
       "      <th>6</th>\n",
       "      <th>7</th>\n",
       "      <th>8</th>\n",
       "      <th>day_of_observation</th>\n",
       "    </tr>\n",
       "  </thead>\n",
       "  <tbody>\n",
       "    <tr>\n",
       "      <th>0</th>\n",
       "      <td>RBG1</td>\n",
       "      <td>drive_gear_V_eff</td>\n",
       "      <td>2016-09-02</td>\n",
       "      <td>2</td>\n",
       "      <td>1.2463</td>\n",
       "      <td>1.6164</td>\n",
       "      <td>NaN</td>\n",
       "      <td>NaN</td>\n",
       "      <td>NaN</td>\n",
       "      <td>NaN</td>\n",
       "      <td>NaN</td>\n",
       "      <td>NaN</td>\n",
       "      <td>2</td>\n",
       "    </tr>\n",
       "    <tr>\n",
       "      <th>1</th>\n",
       "      <td>RBG1</td>\n",
       "      <td>drive_gear_V_eff</td>\n",
       "      <td>2016-09-06</td>\n",
       "      <td>5</td>\n",
       "      <td>1.7045</td>\n",
       "      <td>1.6939</td>\n",
       "      <td>1.8634</td>\n",
       "      <td>1.9335</td>\n",
       "      <td>1.8229</td>\n",
       "      <td>NaN</td>\n",
       "      <td>NaN</td>\n",
       "      <td>NaN</td>\n",
       "      <td>6</td>\n",
       "    </tr>\n",
       "    <tr>\n",
       "      <th>2</th>\n",
       "      <td>RBG1</td>\n",
       "      <td>drive_gear_V_eff</td>\n",
       "      <td>2016-09-07</td>\n",
       "      <td>5</td>\n",
       "      <td>1.7670</td>\n",
       "      <td>1.7340</td>\n",
       "      <td>1.7306</td>\n",
       "      <td>1.8736</td>\n",
       "      <td>1.8497</td>\n",
       "      <td>NaN</td>\n",
       "      <td>NaN</td>\n",
       "      <td>NaN</td>\n",
       "      <td>7</td>\n",
       "    </tr>\n",
       "    <tr>\n",
       "      <th>3</th>\n",
       "      <td>RBG1</td>\n",
       "      <td>drive_gear_V_eff</td>\n",
       "      <td>2016-09-08</td>\n",
       "      <td>4</td>\n",
       "      <td>1.8276</td>\n",
       "      <td>1.7398</td>\n",
       "      <td>1.9094</td>\n",
       "      <td>2.0121</td>\n",
       "      <td>NaN</td>\n",
       "      <td>NaN</td>\n",
       "      <td>NaN</td>\n",
       "      <td>NaN</td>\n",
       "      <td>8</td>\n",
       "    </tr>\n",
       "    <tr>\n",
       "      <th>4</th>\n",
       "      <td>RBG1</td>\n",
       "      <td>drive_gear_V_eff</td>\n",
       "      <td>2016-09-09</td>\n",
       "      <td>7</td>\n",
       "      <td>2.0060</td>\n",
       "      <td>1.9085</td>\n",
       "      <td>1.8524</td>\n",
       "      <td>1.8190</td>\n",
       "      <td>1.8282</td>\n",
       "      <td>1.8688</td>\n",
       "      <td>1.8224</td>\n",
       "      <td>NaN</td>\n",
       "      <td>9</td>\n",
       "    </tr>\n",
       "  </tbody>\n",
       "</table>\n",
       "</div>"
      ],
      "text/plain": [
       "  machine_name       sensor_type date_measurement_f  number_of_observations  \\\n",
       "0         RBG1  drive_gear_V_eff         2016-09-02                       2   \n",
       "1         RBG1  drive_gear_V_eff         2016-09-06                       5   \n",
       "2         RBG1  drive_gear_V_eff         2016-09-07                       5   \n",
       "3         RBG1  drive_gear_V_eff         2016-09-08                       4   \n",
       "4         RBG1  drive_gear_V_eff         2016-09-09                       7   \n",
       "\n",
       "        1       2       3       4       5       6       7   8  \\\n",
       "0  1.2463  1.6164     NaN     NaN     NaN     NaN     NaN NaN   \n",
       "1  1.7045  1.6939  1.8634  1.9335  1.8229     NaN     NaN NaN   \n",
       "2  1.7670  1.7340  1.7306  1.8736  1.8497     NaN     NaN NaN   \n",
       "3  1.8276  1.7398  1.9094  2.0121     NaN     NaN     NaN NaN   \n",
       "4  2.0060  1.9085  1.8524  1.8190  1.8282  1.8688  1.8224 NaN   \n",
       "\n",
       "   day_of_observation  \n",
       "0                   2  \n",
       "1                   6  \n",
       "2                   7  \n",
       "3                   8  \n",
       "4                   9  "
      ]
     },
     "execution_count": 416,
     "metadata": {},
     "output_type": "execute_result"
    }
   ],
   "source": [
    "table3.head()"
   ]
  },
  {
   "cell_type": "code",
   "execution_count": 417,
   "metadata": {},
   "outputs": [
    {
     "data": {
      "text/plain": [
       "Index(['machine_name', 'sensor_type', 'date_measurement_f',\n",
       "       'number_of_observations', '1', '2', '3', '4', '5', '6', '7', '8',\n",
       "       'day_of_observation'],\n",
       "      dtype='object')"
      ]
     },
     "execution_count": 417,
     "metadata": {},
     "output_type": "execute_result"
    }
   ],
   "source": [
    "table3.columns"
   ]
  },
  {
   "cell_type": "code",
   "execution_count": 418,
   "metadata": {},
   "outputs": [],
   "source": [
    "table3['max_measurement_of_day'] = table3[[ '1', '2', '3', '4', '5', '6', '7', '8']].max(axis=1)"
   ]
  },
  {
   "cell_type": "code",
   "execution_count": 419,
   "metadata": {},
   "outputs": [],
   "source": [
    "table3.drop([ '1', '2', '3', '4', '5', '6', '7', '8'], axis=1, inplace=True)"
   ]
  },
  {
   "cell_type": "code",
   "execution_count": 420,
   "metadata": {},
   "outputs": [
    {
     "data": {
      "text/html": [
       "<div>\n",
       "<style scoped>\n",
       "    .dataframe tbody tr th:only-of-type {\n",
       "        vertical-align: middle;\n",
       "    }\n",
       "\n",
       "    .dataframe tbody tr th {\n",
       "        vertical-align: top;\n",
       "    }\n",
       "\n",
       "    .dataframe thead th {\n",
       "        text-align: right;\n",
       "    }\n",
       "</style>\n",
       "<table border=\"1\" class=\"dataframe\">\n",
       "  <thead>\n",
       "    <tr style=\"text-align: right;\">\n",
       "      <th></th>\n",
       "      <th>machine_name</th>\n",
       "      <th>sensor_type</th>\n",
       "      <th>date_measurement_f</th>\n",
       "      <th>number_of_observations</th>\n",
       "      <th>day_of_observation</th>\n",
       "      <th>max_measurement_of_day</th>\n",
       "    </tr>\n",
       "  </thead>\n",
       "  <tbody>\n",
       "    <tr>\n",
       "      <th>0</th>\n",
       "      <td>RBG1</td>\n",
       "      <td>drive_gear_V_eff</td>\n",
       "      <td>2016-09-02</td>\n",
       "      <td>2</td>\n",
       "      <td>2</td>\n",
       "      <td>1.6164</td>\n",
       "    </tr>\n",
       "    <tr>\n",
       "      <th>1</th>\n",
       "      <td>RBG1</td>\n",
       "      <td>drive_gear_V_eff</td>\n",
       "      <td>2016-09-06</td>\n",
       "      <td>5</td>\n",
       "      <td>6</td>\n",
       "      <td>1.9335</td>\n",
       "    </tr>\n",
       "    <tr>\n",
       "      <th>2</th>\n",
       "      <td>RBG1</td>\n",
       "      <td>drive_gear_V_eff</td>\n",
       "      <td>2016-09-07</td>\n",
       "      <td>5</td>\n",
       "      <td>7</td>\n",
       "      <td>1.8736</td>\n",
       "    </tr>\n",
       "    <tr>\n",
       "      <th>3</th>\n",
       "      <td>RBG1</td>\n",
       "      <td>drive_gear_V_eff</td>\n",
       "      <td>2016-09-08</td>\n",
       "      <td>4</td>\n",
       "      <td>8</td>\n",
       "      <td>2.0121</td>\n",
       "    </tr>\n",
       "    <tr>\n",
       "      <th>4</th>\n",
       "      <td>RBG1</td>\n",
       "      <td>drive_gear_V_eff</td>\n",
       "      <td>2016-09-09</td>\n",
       "      <td>7</td>\n",
       "      <td>9</td>\n",
       "      <td>2.0060</td>\n",
       "    </tr>\n",
       "    <tr>\n",
       "      <th>5</th>\n",
       "      <td>RBG1</td>\n",
       "      <td>drive_gear_V_eff</td>\n",
       "      <td>2016-09-12</td>\n",
       "      <td>5</td>\n",
       "      <td>12</td>\n",
       "      <td>1.8234</td>\n",
       "    </tr>\n",
       "    <tr>\n",
       "      <th>6</th>\n",
       "      <td>RBG1</td>\n",
       "      <td>drive_gear_V_eff</td>\n",
       "      <td>2016-09-13</td>\n",
       "      <td>4</td>\n",
       "      <td>13</td>\n",
       "      <td>2.0192</td>\n",
       "    </tr>\n",
       "    <tr>\n",
       "      <th>7</th>\n",
       "      <td>RBG1</td>\n",
       "      <td>drive_gear_V_eff</td>\n",
       "      <td>2016-09-14</td>\n",
       "      <td>4</td>\n",
       "      <td>14</td>\n",
       "      <td>1.9024</td>\n",
       "    </tr>\n",
       "    <tr>\n",
       "      <th>8</th>\n",
       "      <td>RBG1</td>\n",
       "      <td>drive_gear_V_eff</td>\n",
       "      <td>2016-09-15</td>\n",
       "      <td>5</td>\n",
       "      <td>15</td>\n",
       "      <td>1.8433</td>\n",
       "    </tr>\n",
       "    <tr>\n",
       "      <th>9</th>\n",
       "      <td>RBG1</td>\n",
       "      <td>drive_gear_V_eff</td>\n",
       "      <td>2016-09-16</td>\n",
       "      <td>2</td>\n",
       "      <td>16</td>\n",
       "      <td>1.8832</td>\n",
       "    </tr>\n",
       "    <tr>\n",
       "      <th>10</th>\n",
       "      <td>RBG1</td>\n",
       "      <td>drive_gear_V_eff</td>\n",
       "      <td>2016-09-19</td>\n",
       "      <td>3</td>\n",
       "      <td>19</td>\n",
       "      <td>1.9611</td>\n",
       "    </tr>\n",
       "    <tr>\n",
       "      <th>11</th>\n",
       "      <td>RBG1</td>\n",
       "      <td>drive_gear_V_eff</td>\n",
       "      <td>2016-09-20</td>\n",
       "      <td>3</td>\n",
       "      <td>20</td>\n",
       "      <td>1.8299</td>\n",
       "    </tr>\n",
       "    <tr>\n",
       "      <th>12</th>\n",
       "      <td>RBG1</td>\n",
       "      <td>drive_gear_V_eff</td>\n",
       "      <td>2016-09-21</td>\n",
       "      <td>4</td>\n",
       "      <td>21</td>\n",
       "      <td>1.8486</td>\n",
       "    </tr>\n",
       "    <tr>\n",
       "      <th>13</th>\n",
       "      <td>RBG1</td>\n",
       "      <td>drive_gear_V_eff</td>\n",
       "      <td>2016-09-22</td>\n",
       "      <td>3</td>\n",
       "      <td>22</td>\n",
       "      <td>1.8324</td>\n",
       "    </tr>\n",
       "    <tr>\n",
       "      <th>14</th>\n",
       "      <td>RBG1</td>\n",
       "      <td>drive_gear_V_eff</td>\n",
       "      <td>2016-09-23</td>\n",
       "      <td>1</td>\n",
       "      <td>23</td>\n",
       "      <td>1.8241</td>\n",
       "    </tr>\n",
       "    <tr>\n",
       "      <th>15</th>\n",
       "      <td>RBG1</td>\n",
       "      <td>drive_gear_V_eff</td>\n",
       "      <td>2016-09-26</td>\n",
       "      <td>5</td>\n",
       "      <td>26</td>\n",
       "      <td>1.7985</td>\n",
       "    </tr>\n",
       "    <tr>\n",
       "      <th>16</th>\n",
       "      <td>RBG1</td>\n",
       "      <td>drive_gear_V_eff</td>\n",
       "      <td>2016-09-27</td>\n",
       "      <td>3</td>\n",
       "      <td>27</td>\n",
       "      <td>1.8414</td>\n",
       "    </tr>\n",
       "    <tr>\n",
       "      <th>17</th>\n",
       "      <td>RBG1</td>\n",
       "      <td>drive_gear_V_eff</td>\n",
       "      <td>2016-09-28</td>\n",
       "      <td>6</td>\n",
       "      <td>28</td>\n",
       "      <td>1.9807</td>\n",
       "    </tr>\n",
       "    <tr>\n",
       "      <th>18</th>\n",
       "      <td>RBG1</td>\n",
       "      <td>drive_gear_V_eff</td>\n",
       "      <td>2016-09-29</td>\n",
       "      <td>4</td>\n",
       "      <td>29</td>\n",
       "      <td>1.8898</td>\n",
       "    </tr>\n",
       "    <tr>\n",
       "      <th>19</th>\n",
       "      <td>RBG1</td>\n",
       "      <td>drive_gear_V_eff</td>\n",
       "      <td>2016-09-30</td>\n",
       "      <td>4</td>\n",
       "      <td>30</td>\n",
       "      <td>1.8501</td>\n",
       "    </tr>\n",
       "  </tbody>\n",
       "</table>\n",
       "</div>"
      ],
      "text/plain": [
       "   machine_name       sensor_type date_measurement_f  number_of_observations  \\\n",
       "0          RBG1  drive_gear_V_eff         2016-09-02                       2   \n",
       "1          RBG1  drive_gear_V_eff         2016-09-06                       5   \n",
       "2          RBG1  drive_gear_V_eff         2016-09-07                       5   \n",
       "3          RBG1  drive_gear_V_eff         2016-09-08                       4   \n",
       "4          RBG1  drive_gear_V_eff         2016-09-09                       7   \n",
       "5          RBG1  drive_gear_V_eff         2016-09-12                       5   \n",
       "6          RBG1  drive_gear_V_eff         2016-09-13                       4   \n",
       "7          RBG1  drive_gear_V_eff         2016-09-14                       4   \n",
       "8          RBG1  drive_gear_V_eff         2016-09-15                       5   \n",
       "9          RBG1  drive_gear_V_eff         2016-09-16                       2   \n",
       "10         RBG1  drive_gear_V_eff         2016-09-19                       3   \n",
       "11         RBG1  drive_gear_V_eff         2016-09-20                       3   \n",
       "12         RBG1  drive_gear_V_eff         2016-09-21                       4   \n",
       "13         RBG1  drive_gear_V_eff         2016-09-22                       3   \n",
       "14         RBG1  drive_gear_V_eff         2016-09-23                       1   \n",
       "15         RBG1  drive_gear_V_eff         2016-09-26                       5   \n",
       "16         RBG1  drive_gear_V_eff         2016-09-27                       3   \n",
       "17         RBG1  drive_gear_V_eff         2016-09-28                       6   \n",
       "18         RBG1  drive_gear_V_eff         2016-09-29                       4   \n",
       "19         RBG1  drive_gear_V_eff         2016-09-30                       4   \n",
       "\n",
       "    day_of_observation  max_measurement_of_day  \n",
       "0                    2                  1.6164  \n",
       "1                    6                  1.9335  \n",
       "2                    7                  1.8736  \n",
       "3                    8                  2.0121  \n",
       "4                    9                  2.0060  \n",
       "5                   12                  1.8234  \n",
       "6                   13                  2.0192  \n",
       "7                   14                  1.9024  \n",
       "8                   15                  1.8433  \n",
       "9                   16                  1.8832  \n",
       "10                  19                  1.9611  \n",
       "11                  20                  1.8299  \n",
       "12                  21                  1.8486  \n",
       "13                  22                  1.8324  \n",
       "14                  23                  1.8241  \n",
       "15                  26                  1.7985  \n",
       "16                  27                  1.8414  \n",
       "17                  28                  1.9807  \n",
       "18                  29                  1.8898  \n",
       "19                  30                  1.8501  "
      ]
     },
     "execution_count": 420,
     "metadata": {},
     "output_type": "execute_result"
    }
   ],
   "source": [
    "table3.head(20)"
   ]
  },
  {
   "cell_type": "markdown",
   "metadata": {},
   "source": [
    "# Targer dataframe is with 1434 rows"
   ]
  },
  {
   "cell_type": "code",
   "execution_count": 421,
   "metadata": {},
   "outputs": [
    {
     "data": {
      "text/plain": [
       "(17212, 6)"
      ]
     },
     "execution_count": 421,
     "metadata": {},
     "output_type": "execute_result"
    }
   ],
   "source": [
    "table3.shape"
   ]
  },
  {
   "cell_type": "code",
   "execution_count": 422,
   "metadata": {},
   "outputs": [],
   "source": [
    "table3['date_measurement_f'] = table3.date_measurement_f.astype(str)"
   ]
  },
  {
   "cell_type": "code",
   "execution_count": 423,
   "metadata": {},
   "outputs": [],
   "source": [
    "table3['new_index'] = table3[['machine_name', 'date_measurement_f']].apply(lambda x: ')'.join(x), axis=1)"
   ]
  },
  {
   "cell_type": "code",
   "execution_count": 424,
   "metadata": {},
   "outputs": [],
   "source": [
    "table4 = table3.pivot(index='new_index', columns='sensor_type', values='max_measurement_of_day')"
   ]
  },
  {
   "cell_type": "code",
   "execution_count": 425,
   "metadata": {},
   "outputs": [
    {
     "data": {
      "text/plain": [
       "Index(['drive_gear_V_eff', 'drive_gear_a_max', 'drive_motor_V_eff',\n",
       "       'drive_motor_a_max', 'drive_wheel_V_eff', 'drive_wheel_a_max',\n",
       "       'idle_wheel_V_eff', 'idle_wheel_a_max', 'lifting_gear_V_eff',\n",
       "       'lifting_gear_a_max', 'lifting_motor_V_eff', 'lifting_motor_a_max'],\n",
       "      dtype='object', name='sensor_type')"
      ]
     },
     "execution_count": 425,
     "metadata": {},
     "output_type": "execute_result"
    }
   ],
   "source": [
    "table4.columns"
   ]
  },
  {
   "cell_type": "code",
   "execution_count": 426,
   "metadata": {},
   "outputs": [],
   "source": [
    "table4.reset_index(inplace=True)"
   ]
  },
  {
   "cell_type": "code",
   "execution_count": 427,
   "metadata": {},
   "outputs": [
    {
     "data": {
      "text/plain": [
       "Index(['new_index', 'drive_gear_V_eff', 'drive_gear_a_max',\n",
       "       'drive_motor_V_eff', 'drive_motor_a_max', 'drive_wheel_V_eff',\n",
       "       'drive_wheel_a_max', 'idle_wheel_V_eff', 'idle_wheel_a_max',\n",
       "       'lifting_gear_V_eff', 'lifting_gear_a_max', 'lifting_motor_V_eff',\n",
       "       'lifting_motor_a_max'],\n",
       "      dtype='object', name='sensor_type')"
      ]
     },
     "execution_count": 427,
     "metadata": {},
     "output_type": "execute_result"
    }
   ],
   "source": [
    "table4.columns"
   ]
  },
  {
   "cell_type": "code",
   "execution_count": 428,
   "metadata": {},
   "outputs": [],
   "source": [
    "table5 = table4.new_index.apply(lambda x: pd.Series([i for i in x.split(')')]))\n",
    "\n",
    "table5.columns = ['machine_name', 'date_measurement_f']"
   ]
  },
  {
   "cell_type": "code",
   "execution_count": 429,
   "metadata": {},
   "outputs": [],
   "source": [
    "table5[['drive_gear_V_eff', 'drive_gear_a_max',\n",
    "       'drive_motor_V_eff', 'drive_motor_a_max', 'drive_wheel_V_eff',\n",
    "       'drive_wheel_a_max', 'idle_wheel_V_eff', 'idle_wheel_a_max',\n",
    "       'lifting_gear_V_eff', 'lifting_gear_a_max', 'lifting_motor_V_eff',\n",
    "       'lifting_motor_a_max']] = table4[['drive_gear_V_eff', 'drive_gear_a_max',\n",
    "       'drive_motor_V_eff', 'drive_motor_a_max', 'drive_wheel_V_eff',\n",
    "       'drive_wheel_a_max', 'idle_wheel_V_eff', 'idle_wheel_a_max',\n",
    "       'lifting_gear_V_eff', 'lifting_gear_a_max', 'lifting_motor_V_eff',\n",
    "       'lifting_motor_a_max']]"
   ]
  },
  {
   "cell_type": "code",
   "execution_count": 430,
   "metadata": {},
   "outputs": [
    {
     "data": {
      "text/html": [
       "<div>\n",
       "<style scoped>\n",
       "    .dataframe tbody tr th:only-of-type {\n",
       "        vertical-align: middle;\n",
       "    }\n",
       "\n",
       "    .dataframe tbody tr th {\n",
       "        vertical-align: top;\n",
       "    }\n",
       "\n",
       "    .dataframe thead th {\n",
       "        text-align: right;\n",
       "    }\n",
       "</style>\n",
       "<table border=\"1\" class=\"dataframe\">\n",
       "  <thead>\n",
       "    <tr style=\"text-align: right;\">\n",
       "      <th></th>\n",
       "      <th>machine_name</th>\n",
       "      <th>date_measurement_f</th>\n",
       "      <th>drive_gear_V_eff</th>\n",
       "      <th>drive_gear_a_max</th>\n",
       "      <th>drive_motor_V_eff</th>\n",
       "      <th>drive_motor_a_max</th>\n",
       "      <th>drive_wheel_V_eff</th>\n",
       "      <th>drive_wheel_a_max</th>\n",
       "      <th>idle_wheel_V_eff</th>\n",
       "      <th>idle_wheel_a_max</th>\n",
       "      <th>lifting_gear_V_eff</th>\n",
       "      <th>lifting_gear_a_max</th>\n",
       "      <th>lifting_motor_V_eff</th>\n",
       "      <th>lifting_motor_a_max</th>\n",
       "    </tr>\n",
       "  </thead>\n",
       "  <tbody>\n",
       "    <tr>\n",
       "      <th>0</th>\n",
       "      <td>RBG1</td>\n",
       "      <td>2016-09-02</td>\n",
       "      <td>1.6164</td>\n",
       "      <td>1334.4815</td>\n",
       "      <td>4.0606</td>\n",
       "      <td>1231.5055</td>\n",
       "      <td>2.9060</td>\n",
       "      <td>1317.3656</td>\n",
       "      <td>3.5010</td>\n",
       "      <td>1981.3614</td>\n",
       "      <td>1.3540</td>\n",
       "      <td>952.5795</td>\n",
       "      <td>2.2060</td>\n",
       "      <td>1340.0790</td>\n",
       "    </tr>\n",
       "    <tr>\n",
       "      <th>1</th>\n",
       "      <td>RBG1</td>\n",
       "      <td>2016-09-06</td>\n",
       "      <td>1.9335</td>\n",
       "      <td>1384.7760</td>\n",
       "      <td>4.4062</td>\n",
       "      <td>1243.5176</td>\n",
       "      <td>2.9780</td>\n",
       "      <td>1286.1320</td>\n",
       "      <td>3.7398</td>\n",
       "      <td>1970.8240</td>\n",
       "      <td>1.6070</td>\n",
       "      <td>3121.5405</td>\n",
       "      <td>2.4140</td>\n",
       "      <td>1707.4015</td>\n",
       "    </tr>\n",
       "    <tr>\n",
       "      <th>2</th>\n",
       "      <td>RBG1</td>\n",
       "      <td>2016-09-07</td>\n",
       "      <td>1.8736</td>\n",
       "      <td>1350.5540</td>\n",
       "      <td>4.4623</td>\n",
       "      <td>1215.5945</td>\n",
       "      <td>3.0620</td>\n",
       "      <td>1379.0340</td>\n",
       "      <td>3.7980</td>\n",
       "      <td>2020.1980</td>\n",
       "      <td>1.6230</td>\n",
       "      <td>2637.6520</td>\n",
       "      <td>2.4430</td>\n",
       "      <td>1694.7920</td>\n",
       "    </tr>\n",
       "    <tr>\n",
       "      <th>3</th>\n",
       "      <td>RBG1</td>\n",
       "      <td>2016-09-08</td>\n",
       "      <td>2.0121</td>\n",
       "      <td>1329.8515</td>\n",
       "      <td>4.4166</td>\n",
       "      <td>1216.1105</td>\n",
       "      <td>3.0260</td>\n",
       "      <td>1429.3394</td>\n",
       "      <td>3.6990</td>\n",
       "      <td>2060.6052</td>\n",
       "      <td>1.6630</td>\n",
       "      <td>2731.8062</td>\n",
       "      <td>2.4190</td>\n",
       "      <td>1604.5048</td>\n",
       "    </tr>\n",
       "    <tr>\n",
       "      <th>4</th>\n",
       "      <td>RBG1</td>\n",
       "      <td>2016-09-09</td>\n",
       "      <td>2.0060</td>\n",
       "      <td>1596.2396</td>\n",
       "      <td>4.4298</td>\n",
       "      <td>1479.9648</td>\n",
       "      <td>3.0766</td>\n",
       "      <td>1360.0664</td>\n",
       "      <td>3.7855</td>\n",
       "      <td>2125.6670</td>\n",
       "      <td>1.6440</td>\n",
       "      <td>2238.5361</td>\n",
       "      <td>2.4440</td>\n",
       "      <td>1464.9028</td>\n",
       "    </tr>\n",
       "    <tr>\n",
       "      <th>5</th>\n",
       "      <td>RBG1</td>\n",
       "      <td>2016-09-12</td>\n",
       "      <td>1.8234</td>\n",
       "      <td>1318.6004</td>\n",
       "      <td>4.4961</td>\n",
       "      <td>1235.7055</td>\n",
       "      <td>3.0400</td>\n",
       "      <td>1521.7410</td>\n",
       "      <td>3.7040</td>\n",
       "      <td>2137.2740</td>\n",
       "      <td>1.6100</td>\n",
       "      <td>2593.9425</td>\n",
       "      <td>2.4330</td>\n",
       "      <td>1435.4252</td>\n",
       "    </tr>\n",
       "    <tr>\n",
       "      <th>6</th>\n",
       "      <td>RBG1</td>\n",
       "      <td>2016-09-13</td>\n",
       "      <td>2.0192</td>\n",
       "      <td>1673.6005</td>\n",
       "      <td>4.4976</td>\n",
       "      <td>1276.9955</td>\n",
       "      <td>3.0760</td>\n",
       "      <td>1408.4899</td>\n",
       "      <td>3.7550</td>\n",
       "      <td>2092.6962</td>\n",
       "      <td>1.6343</td>\n",
       "      <td>1926.7993</td>\n",
       "      <td>2.4329</td>\n",
       "      <td>1660.7052</td>\n",
       "    </tr>\n",
       "    <tr>\n",
       "      <th>7</th>\n",
       "      <td>RBG1</td>\n",
       "      <td>2016-09-14</td>\n",
       "      <td>1.9024</td>\n",
       "      <td>1494.7375</td>\n",
       "      <td>4.5294</td>\n",
       "      <td>1438.2560</td>\n",
       "      <td>3.0950</td>\n",
       "      <td>1338.8034</td>\n",
       "      <td>3.7480</td>\n",
       "      <td>2100.6632</td>\n",
       "      <td>1.6190</td>\n",
       "      <td>2793.8320</td>\n",
       "      <td>2.4570</td>\n",
       "      <td>1540.3800</td>\n",
       "    </tr>\n",
       "    <tr>\n",
       "      <th>8</th>\n",
       "      <td>RBG1</td>\n",
       "      <td>2016-09-15</td>\n",
       "      <td>1.8433</td>\n",
       "      <td>1420.0085</td>\n",
       "      <td>4.4982</td>\n",
       "      <td>1249.2725</td>\n",
       "      <td>3.1200</td>\n",
       "      <td>1518.6265</td>\n",
       "      <td>3.7700</td>\n",
       "      <td>2113.6980</td>\n",
       "      <td>1.6260</td>\n",
       "      <td>2459.2225</td>\n",
       "      <td>2.4200</td>\n",
       "      <td>1810.4520</td>\n",
       "    </tr>\n",
       "    <tr>\n",
       "      <th>9</th>\n",
       "      <td>RBG1</td>\n",
       "      <td>2016-09-16</td>\n",
       "      <td>1.8832</td>\n",
       "      <td>1446.1900</td>\n",
       "      <td>4.4598</td>\n",
       "      <td>1229.0005</td>\n",
       "      <td>3.0830</td>\n",
       "      <td>1355.3282</td>\n",
       "      <td>3.7290</td>\n",
       "      <td>2070.2896</td>\n",
       "      <td>1.5750</td>\n",
       "      <td>2923.7250</td>\n",
       "      <td>2.4050</td>\n",
       "      <td>1661.5230</td>\n",
       "    </tr>\n",
       "    <tr>\n",
       "      <th>10</th>\n",
       "      <td>RBG1</td>\n",
       "      <td>2016-09-19</td>\n",
       "      <td>1.9611</td>\n",
       "      <td>1454.2710</td>\n",
       "      <td>4.4970</td>\n",
       "      <td>1418.8855</td>\n",
       "      <td>3.0900</td>\n",
       "      <td>1273.2375</td>\n",
       "      <td>3.7880</td>\n",
       "      <td>2145.1118</td>\n",
       "      <td>1.6130</td>\n",
       "      <td>2868.9145</td>\n",
       "      <td>2.3700</td>\n",
       "      <td>1711.5865</td>\n",
       "    </tr>\n",
       "    <tr>\n",
       "      <th>11</th>\n",
       "      <td>RBG1</td>\n",
       "      <td>2016-09-20</td>\n",
       "      <td>1.8299</td>\n",
       "      <td>1375.4475</td>\n",
       "      <td>4.4335</td>\n",
       "      <td>1277.9380</td>\n",
       "      <td>3.0470</td>\n",
       "      <td>1325.2958</td>\n",
       "      <td>3.6750</td>\n",
       "      <td>2139.0278</td>\n",
       "      <td>1.6540</td>\n",
       "      <td>2013.7795</td>\n",
       "      <td>2.3960</td>\n",
       "      <td>1808.8540</td>\n",
       "    </tr>\n",
       "    <tr>\n",
       "      <th>12</th>\n",
       "      <td>RBG1</td>\n",
       "      <td>2016-09-21</td>\n",
       "      <td>1.8486</td>\n",
       "      <td>1333.2518</td>\n",
       "      <td>4.4537</td>\n",
       "      <td>1200.5925</td>\n",
       "      <td>3.0450</td>\n",
       "      <td>1400.0804</td>\n",
       "      <td>3.6960</td>\n",
       "      <td>2147.5646</td>\n",
       "      <td>1.6260</td>\n",
       "      <td>3030.5230</td>\n",
       "      <td>2.4170</td>\n",
       "      <td>1640.8298</td>\n",
       "    </tr>\n",
       "    <tr>\n",
       "      <th>13</th>\n",
       "      <td>RBG1</td>\n",
       "      <td>2016-09-22</td>\n",
       "      <td>1.8324</td>\n",
       "      <td>1258.8068</td>\n",
       "      <td>4.4031</td>\n",
       "      <td>1123.9632</td>\n",
       "      <td>3.0580</td>\n",
       "      <td>1336.5956</td>\n",
       "      <td>3.7620</td>\n",
       "      <td>2159.4578</td>\n",
       "      <td>1.6080</td>\n",
       "      <td>2510.9510</td>\n",
       "      <td>2.3910</td>\n",
       "      <td>1662.9240</td>\n",
       "    </tr>\n",
       "    <tr>\n",
       "      <th>14</th>\n",
       "      <td>RBG1</td>\n",
       "      <td>2016-09-23</td>\n",
       "      <td>1.8241</td>\n",
       "      <td>1102.5920</td>\n",
       "      <td>4.3131</td>\n",
       "      <td>1076.4985</td>\n",
       "      <td>3.0050</td>\n",
       "      <td>1267.3550</td>\n",
       "      <td>3.6760</td>\n",
       "      <td>2081.7140</td>\n",
       "      <td>1.5680</td>\n",
       "      <td>2004.5810</td>\n",
       "      <td>2.3400</td>\n",
       "      <td>1319.5255</td>\n",
       "    </tr>\n",
       "    <tr>\n",
       "      <th>15</th>\n",
       "      <td>RBG1</td>\n",
       "      <td>2016-09-26</td>\n",
       "      <td>1.7985</td>\n",
       "      <td>1297.1350</td>\n",
       "      <td>4.4527</td>\n",
       "      <td>1197.8660</td>\n",
       "      <td>3.0440</td>\n",
       "      <td>1315.7441</td>\n",
       "      <td>3.7110</td>\n",
       "      <td>2116.5726</td>\n",
       "      <td>1.6610</td>\n",
       "      <td>2223.6305</td>\n",
       "      <td>2.4150</td>\n",
       "      <td>1592.3315</td>\n",
       "    </tr>\n",
       "    <tr>\n",
       "      <th>16</th>\n",
       "      <td>RBG1</td>\n",
       "      <td>2016-09-27</td>\n",
       "      <td>1.8414</td>\n",
       "      <td>1311.8338</td>\n",
       "      <td>4.4538</td>\n",
       "      <td>1278.7985</td>\n",
       "      <td>3.0980</td>\n",
       "      <td>1283.5520</td>\n",
       "      <td>3.7080</td>\n",
       "      <td>2130.6110</td>\n",
       "      <td>1.6050</td>\n",
       "      <td>2057.6885</td>\n",
       "      <td>2.3840</td>\n",
       "      <td>1489.4160</td>\n",
       "    </tr>\n",
       "    <tr>\n",
       "      <th>17</th>\n",
       "      <td>RBG1</td>\n",
       "      <td>2016-09-28</td>\n",
       "      <td>1.9807</td>\n",
       "      <td>1374.4980</td>\n",
       "      <td>4.6121</td>\n",
       "      <td>1369.4730</td>\n",
       "      <td>3.0840</td>\n",
       "      <td>1336.7958</td>\n",
       "      <td>3.7660</td>\n",
       "      <td>2173.7032</td>\n",
       "      <td>1.6560</td>\n",
       "      <td>3219.8020</td>\n",
       "      <td>2.4080</td>\n",
       "      <td>1565.7075</td>\n",
       "    </tr>\n",
       "    <tr>\n",
       "      <th>18</th>\n",
       "      <td>RBG1</td>\n",
       "      <td>2016-09-29</td>\n",
       "      <td>1.8898</td>\n",
       "      <td>1658.5124</td>\n",
       "      <td>4.6587</td>\n",
       "      <td>1433.3358</td>\n",
       "      <td>3.0340</td>\n",
       "      <td>1341.5925</td>\n",
       "      <td>3.7240</td>\n",
       "      <td>2130.8005</td>\n",
       "      <td>1.6010</td>\n",
       "      <td>2743.3422</td>\n",
       "      <td>2.4080</td>\n",
       "      <td>1635.3645</td>\n",
       "    </tr>\n",
       "    <tr>\n",
       "      <th>19</th>\n",
       "      <td>RBG1</td>\n",
       "      <td>2016-09-30</td>\n",
       "      <td>1.8501</td>\n",
       "      <td>1566.2182</td>\n",
       "      <td>4.6831</td>\n",
       "      <td>1429.1405</td>\n",
       "      <td>3.0190</td>\n",
       "      <td>1333.4525</td>\n",
       "      <td>3.6750</td>\n",
       "      <td>2188.0760</td>\n",
       "      <td>1.6370</td>\n",
       "      <td>2867.5660</td>\n",
       "      <td>2.3990</td>\n",
       "      <td>1817.1215</td>\n",
       "    </tr>\n",
       "  </tbody>\n",
       "</table>\n",
       "</div>"
      ],
      "text/plain": [
       "   machine_name date_measurement_f  drive_gear_V_eff  drive_gear_a_max  \\\n",
       "0          RBG1         2016-09-02            1.6164         1334.4815   \n",
       "1          RBG1         2016-09-06            1.9335         1384.7760   \n",
       "2          RBG1         2016-09-07            1.8736         1350.5540   \n",
       "3          RBG1         2016-09-08            2.0121         1329.8515   \n",
       "4          RBG1         2016-09-09            2.0060         1596.2396   \n",
       "5          RBG1         2016-09-12            1.8234         1318.6004   \n",
       "6          RBG1         2016-09-13            2.0192         1673.6005   \n",
       "7          RBG1         2016-09-14            1.9024         1494.7375   \n",
       "8          RBG1         2016-09-15            1.8433         1420.0085   \n",
       "9          RBG1         2016-09-16            1.8832         1446.1900   \n",
       "10         RBG1         2016-09-19            1.9611         1454.2710   \n",
       "11         RBG1         2016-09-20            1.8299         1375.4475   \n",
       "12         RBG1         2016-09-21            1.8486         1333.2518   \n",
       "13         RBG1         2016-09-22            1.8324         1258.8068   \n",
       "14         RBG1         2016-09-23            1.8241         1102.5920   \n",
       "15         RBG1         2016-09-26            1.7985         1297.1350   \n",
       "16         RBG1         2016-09-27            1.8414         1311.8338   \n",
       "17         RBG1         2016-09-28            1.9807         1374.4980   \n",
       "18         RBG1         2016-09-29            1.8898         1658.5124   \n",
       "19         RBG1         2016-09-30            1.8501         1566.2182   \n",
       "\n",
       "    drive_motor_V_eff  drive_motor_a_max  drive_wheel_V_eff  \\\n",
       "0              4.0606          1231.5055             2.9060   \n",
       "1              4.4062          1243.5176             2.9780   \n",
       "2              4.4623          1215.5945             3.0620   \n",
       "3              4.4166          1216.1105             3.0260   \n",
       "4              4.4298          1479.9648             3.0766   \n",
       "5              4.4961          1235.7055             3.0400   \n",
       "6              4.4976          1276.9955             3.0760   \n",
       "7              4.5294          1438.2560             3.0950   \n",
       "8              4.4982          1249.2725             3.1200   \n",
       "9              4.4598          1229.0005             3.0830   \n",
       "10             4.4970          1418.8855             3.0900   \n",
       "11             4.4335          1277.9380             3.0470   \n",
       "12             4.4537          1200.5925             3.0450   \n",
       "13             4.4031          1123.9632             3.0580   \n",
       "14             4.3131          1076.4985             3.0050   \n",
       "15             4.4527          1197.8660             3.0440   \n",
       "16             4.4538          1278.7985             3.0980   \n",
       "17             4.6121          1369.4730             3.0840   \n",
       "18             4.6587          1433.3358             3.0340   \n",
       "19             4.6831          1429.1405             3.0190   \n",
       "\n",
       "    drive_wheel_a_max  idle_wheel_V_eff  idle_wheel_a_max  lifting_gear_V_eff  \\\n",
       "0           1317.3656            3.5010         1981.3614              1.3540   \n",
       "1           1286.1320            3.7398         1970.8240              1.6070   \n",
       "2           1379.0340            3.7980         2020.1980              1.6230   \n",
       "3           1429.3394            3.6990         2060.6052              1.6630   \n",
       "4           1360.0664            3.7855         2125.6670              1.6440   \n",
       "5           1521.7410            3.7040         2137.2740              1.6100   \n",
       "6           1408.4899            3.7550         2092.6962              1.6343   \n",
       "7           1338.8034            3.7480         2100.6632              1.6190   \n",
       "8           1518.6265            3.7700         2113.6980              1.6260   \n",
       "9           1355.3282            3.7290         2070.2896              1.5750   \n",
       "10          1273.2375            3.7880         2145.1118              1.6130   \n",
       "11          1325.2958            3.6750         2139.0278              1.6540   \n",
       "12          1400.0804            3.6960         2147.5646              1.6260   \n",
       "13          1336.5956            3.7620         2159.4578              1.6080   \n",
       "14          1267.3550            3.6760         2081.7140              1.5680   \n",
       "15          1315.7441            3.7110         2116.5726              1.6610   \n",
       "16          1283.5520            3.7080         2130.6110              1.6050   \n",
       "17          1336.7958            3.7660         2173.7032              1.6560   \n",
       "18          1341.5925            3.7240         2130.8005              1.6010   \n",
       "19          1333.4525            3.6750         2188.0760              1.6370   \n",
       "\n",
       "    lifting_gear_a_max  lifting_motor_V_eff  lifting_motor_a_max  \n",
       "0             952.5795               2.2060            1340.0790  \n",
       "1            3121.5405               2.4140            1707.4015  \n",
       "2            2637.6520               2.4430            1694.7920  \n",
       "3            2731.8062               2.4190            1604.5048  \n",
       "4            2238.5361               2.4440            1464.9028  \n",
       "5            2593.9425               2.4330            1435.4252  \n",
       "6            1926.7993               2.4329            1660.7052  \n",
       "7            2793.8320               2.4570            1540.3800  \n",
       "8            2459.2225               2.4200            1810.4520  \n",
       "9            2923.7250               2.4050            1661.5230  \n",
       "10           2868.9145               2.3700            1711.5865  \n",
       "11           2013.7795               2.3960            1808.8540  \n",
       "12           3030.5230               2.4170            1640.8298  \n",
       "13           2510.9510               2.3910            1662.9240  \n",
       "14           2004.5810               2.3400            1319.5255  \n",
       "15           2223.6305               2.4150            1592.3315  \n",
       "16           2057.6885               2.3840            1489.4160  \n",
       "17           3219.8020               2.4080            1565.7075  \n",
       "18           2743.3422               2.4080            1635.3645  \n",
       "19           2867.5660               2.3990            1817.1215  "
      ]
     },
     "execution_count": 430,
     "metadata": {},
     "output_type": "execute_result"
    }
   ],
   "source": [
    "table5.head(20)"
   ]
  },
  {
   "cell_type": "code",
   "execution_count": 431,
   "metadata": {},
   "outputs": [],
   "source": [
    "# table5.to_csv('..//data//pretty_pretty_data.csv', index=False)"
   ]
  },
  {
   "cell_type": "code",
   "execution_count": 432,
   "metadata": {},
   "outputs": [
    {
     "data": {
      "text/html": [
       "<div>\n",
       "<style scoped>\n",
       "    .dataframe tbody tr th:only-of-type {\n",
       "        vertical-align: middle;\n",
       "    }\n",
       "\n",
       "    .dataframe tbody tr th {\n",
       "        vertical-align: top;\n",
       "    }\n",
       "\n",
       "    .dataframe thead th {\n",
       "        text-align: right;\n",
       "    }\n",
       "</style>\n",
       "<table border=\"1\" class=\"dataframe\">\n",
       "  <thead>\n",
       "    <tr style=\"text-align: right;\">\n",
       "      <th></th>\n",
       "      <th>drive_gear_V_eff</th>\n",
       "      <th>drive_gear_a_max</th>\n",
       "      <th>drive_motor_V_eff</th>\n",
       "      <th>drive_motor_a_max</th>\n",
       "      <th>drive_wheel_V_eff</th>\n",
       "      <th>drive_wheel_a_max</th>\n",
       "      <th>idle_wheel_V_eff</th>\n",
       "      <th>idle_wheel_a_max</th>\n",
       "      <th>lifting_gear_V_eff</th>\n",
       "      <th>lifting_gear_a_max</th>\n",
       "      <th>lifting_motor_V_eff</th>\n",
       "      <th>lifting_motor_a_max</th>\n",
       "    </tr>\n",
       "  </thead>\n",
       "  <tbody>\n",
       "    <tr>\n",
       "      <th>drive_gear_V_eff</th>\n",
       "      <td>1.000000</td>\n",
       "      <td>0.087460</td>\n",
       "      <td>0.400271</td>\n",
       "      <td>0.143653</td>\n",
       "      <td>0.265585</td>\n",
       "      <td>0.188027</td>\n",
       "      <td>0.622343</td>\n",
       "      <td>0.582663</td>\n",
       "      <td>0.396368</td>\n",
       "      <td>-0.275206</td>\n",
       "      <td>0.232270</td>\n",
       "      <td>-0.250739</td>\n",
       "    </tr>\n",
       "    <tr>\n",
       "      <th>drive_gear_a_max</th>\n",
       "      <td>0.087460</td>\n",
       "      <td>1.000000</td>\n",
       "      <td>0.402193</td>\n",
       "      <td>0.899683</td>\n",
       "      <td>-0.102623</td>\n",
       "      <td>0.040619</td>\n",
       "      <td>0.147795</td>\n",
       "      <td>-0.140832</td>\n",
       "      <td>-0.337278</td>\n",
       "      <td>0.047299</td>\n",
       "      <td>-0.450151</td>\n",
       "      <td>0.405804</td>\n",
       "    </tr>\n",
       "    <tr>\n",
       "      <th>drive_motor_V_eff</th>\n",
       "      <td>0.400271</td>\n",
       "      <td>0.402193</td>\n",
       "      <td>1.000000</td>\n",
       "      <td>0.410405</td>\n",
       "      <td>-0.117717</td>\n",
       "      <td>0.120071</td>\n",
       "      <td>0.483652</td>\n",
       "      <td>0.484615</td>\n",
       "      <td>0.009410</td>\n",
       "      <td>0.227978</td>\n",
       "      <td>-0.010249</td>\n",
       "      <td>0.175056</td>\n",
       "    </tr>\n",
       "    <tr>\n",
       "      <th>drive_motor_a_max</th>\n",
       "      <td>0.143653</td>\n",
       "      <td>0.899683</td>\n",
       "      <td>0.410405</td>\n",
       "      <td>1.000000</td>\n",
       "      <td>-0.142103</td>\n",
       "      <td>0.008105</td>\n",
       "      <td>0.119180</td>\n",
       "      <td>-0.073904</td>\n",
       "      <td>-0.336400</td>\n",
       "      <td>0.065473</td>\n",
       "      <td>-0.427644</td>\n",
       "      <td>0.393583</td>\n",
       "    </tr>\n",
       "    <tr>\n",
       "      <th>drive_wheel_V_eff</th>\n",
       "      <td>0.265585</td>\n",
       "      <td>-0.102623</td>\n",
       "      <td>-0.117717</td>\n",
       "      <td>-0.142103</td>\n",
       "      <td>1.000000</td>\n",
       "      <td>0.833170</td>\n",
       "      <td>0.580946</td>\n",
       "      <td>0.411016</td>\n",
       "      <td>0.753996</td>\n",
       "      <td>-0.670803</td>\n",
       "      <td>0.628785</td>\n",
       "      <td>-0.775891</td>\n",
       "    </tr>\n",
       "    <tr>\n",
       "      <th>drive_wheel_a_max</th>\n",
       "      <td>0.188027</td>\n",
       "      <td>0.040619</td>\n",
       "      <td>0.120071</td>\n",
       "      <td>0.008105</td>\n",
       "      <td>0.833170</td>\n",
       "      <td>1.000000</td>\n",
       "      <td>0.466225</td>\n",
       "      <td>0.377337</td>\n",
       "      <td>0.492569</td>\n",
       "      <td>-0.426253</td>\n",
       "      <td>0.401770</td>\n",
       "      <td>-0.559880</td>\n",
       "    </tr>\n",
       "    <tr>\n",
       "      <th>idle_wheel_V_eff</th>\n",
       "      <td>0.622343</td>\n",
       "      <td>0.147795</td>\n",
       "      <td>0.483652</td>\n",
       "      <td>0.119180</td>\n",
       "      <td>0.580946</td>\n",
       "      <td>0.466225</td>\n",
       "      <td>1.000000</td>\n",
       "      <td>0.770421</td>\n",
       "      <td>0.613120</td>\n",
       "      <td>-0.431999</td>\n",
       "      <td>0.494449</td>\n",
       "      <td>-0.397775</td>\n",
       "    </tr>\n",
       "    <tr>\n",
       "      <th>idle_wheel_a_max</th>\n",
       "      <td>0.582663</td>\n",
       "      <td>-0.140832</td>\n",
       "      <td>0.484615</td>\n",
       "      <td>-0.073904</td>\n",
       "      <td>0.411016</td>\n",
       "      <td>0.377337</td>\n",
       "      <td>0.770421</td>\n",
       "      <td>1.000000</td>\n",
       "      <td>0.603330</td>\n",
       "      <td>-0.148052</td>\n",
       "      <td>0.625310</td>\n",
       "      <td>-0.310044</td>\n",
       "    </tr>\n",
       "    <tr>\n",
       "      <th>lifting_gear_V_eff</th>\n",
       "      <td>0.396368</td>\n",
       "      <td>-0.337278</td>\n",
       "      <td>0.009410</td>\n",
       "      <td>-0.336400</td>\n",
       "      <td>0.753996</td>\n",
       "      <td>0.492569</td>\n",
       "      <td>0.613120</td>\n",
       "      <td>0.603330</td>\n",
       "      <td>1.000000</td>\n",
       "      <td>-0.517894</td>\n",
       "      <td>0.899336</td>\n",
       "      <td>-0.646706</td>\n",
       "    </tr>\n",
       "    <tr>\n",
       "      <th>lifting_gear_a_max</th>\n",
       "      <td>-0.275206</td>\n",
       "      <td>0.047299</td>\n",
       "      <td>0.227978</td>\n",
       "      <td>0.065473</td>\n",
       "      <td>-0.670803</td>\n",
       "      <td>-0.426253</td>\n",
       "      <td>-0.431999</td>\n",
       "      <td>-0.148052</td>\n",
       "      <td>-0.517894</td>\n",
       "      <td>1.000000</td>\n",
       "      <td>-0.268226</td>\n",
       "      <td>0.766851</td>\n",
       "    </tr>\n",
       "    <tr>\n",
       "      <th>lifting_motor_V_eff</th>\n",
       "      <td>0.232270</td>\n",
       "      <td>-0.450151</td>\n",
       "      <td>-0.010249</td>\n",
       "      <td>-0.427644</td>\n",
       "      <td>0.628785</td>\n",
       "      <td>0.401770</td>\n",
       "      <td>0.494449</td>\n",
       "      <td>0.625310</td>\n",
       "      <td>0.899336</td>\n",
       "      <td>-0.268226</td>\n",
       "      <td>1.000000</td>\n",
       "      <td>-0.457298</td>\n",
       "    </tr>\n",
       "    <tr>\n",
       "      <th>lifting_motor_a_max</th>\n",
       "      <td>-0.250739</td>\n",
       "      <td>0.405804</td>\n",
       "      <td>0.175056</td>\n",
       "      <td>0.393583</td>\n",
       "      <td>-0.775891</td>\n",
       "      <td>-0.559880</td>\n",
       "      <td>-0.397775</td>\n",
       "      <td>-0.310044</td>\n",
       "      <td>-0.646706</td>\n",
       "      <td>0.766851</td>\n",
       "      <td>-0.457298</td>\n",
       "      <td>1.000000</td>\n",
       "    </tr>\n",
       "  </tbody>\n",
       "</table>\n",
       "</div>"
      ],
      "text/plain": [
       "                     drive_gear_V_eff  drive_gear_a_max  drive_motor_V_eff  \\\n",
       "drive_gear_V_eff             1.000000          0.087460           0.400271   \n",
       "drive_gear_a_max             0.087460          1.000000           0.402193   \n",
       "drive_motor_V_eff            0.400271          0.402193           1.000000   \n",
       "drive_motor_a_max            0.143653          0.899683           0.410405   \n",
       "drive_wheel_V_eff            0.265585         -0.102623          -0.117717   \n",
       "drive_wheel_a_max            0.188027          0.040619           0.120071   \n",
       "idle_wheel_V_eff             0.622343          0.147795           0.483652   \n",
       "idle_wheel_a_max             0.582663         -0.140832           0.484615   \n",
       "lifting_gear_V_eff           0.396368         -0.337278           0.009410   \n",
       "lifting_gear_a_max          -0.275206          0.047299           0.227978   \n",
       "lifting_motor_V_eff          0.232270         -0.450151          -0.010249   \n",
       "lifting_motor_a_max         -0.250739          0.405804           0.175056   \n",
       "\n",
       "                     drive_motor_a_max  drive_wheel_V_eff  drive_wheel_a_max  \\\n",
       "drive_gear_V_eff              0.143653           0.265585           0.188027   \n",
       "drive_gear_a_max              0.899683          -0.102623           0.040619   \n",
       "drive_motor_V_eff             0.410405          -0.117717           0.120071   \n",
       "drive_motor_a_max             1.000000          -0.142103           0.008105   \n",
       "drive_wheel_V_eff            -0.142103           1.000000           0.833170   \n",
       "drive_wheel_a_max             0.008105           0.833170           1.000000   \n",
       "idle_wheel_V_eff              0.119180           0.580946           0.466225   \n",
       "idle_wheel_a_max             -0.073904           0.411016           0.377337   \n",
       "lifting_gear_V_eff           -0.336400           0.753996           0.492569   \n",
       "lifting_gear_a_max            0.065473          -0.670803          -0.426253   \n",
       "lifting_motor_V_eff          -0.427644           0.628785           0.401770   \n",
       "lifting_motor_a_max           0.393583          -0.775891          -0.559880   \n",
       "\n",
       "                     idle_wheel_V_eff  idle_wheel_a_max  lifting_gear_V_eff  \\\n",
       "drive_gear_V_eff             0.622343          0.582663            0.396368   \n",
       "drive_gear_a_max             0.147795         -0.140832           -0.337278   \n",
       "drive_motor_V_eff            0.483652          0.484615            0.009410   \n",
       "drive_motor_a_max            0.119180         -0.073904           -0.336400   \n",
       "drive_wheel_V_eff            0.580946          0.411016            0.753996   \n",
       "drive_wheel_a_max            0.466225          0.377337            0.492569   \n",
       "idle_wheel_V_eff             1.000000          0.770421            0.613120   \n",
       "idle_wheel_a_max             0.770421          1.000000            0.603330   \n",
       "lifting_gear_V_eff           0.613120          0.603330            1.000000   \n",
       "lifting_gear_a_max          -0.431999         -0.148052           -0.517894   \n",
       "lifting_motor_V_eff          0.494449          0.625310            0.899336   \n",
       "lifting_motor_a_max         -0.397775         -0.310044           -0.646706   \n",
       "\n",
       "                     lifting_gear_a_max  lifting_motor_V_eff  \\\n",
       "drive_gear_V_eff              -0.275206             0.232270   \n",
       "drive_gear_a_max               0.047299            -0.450151   \n",
       "drive_motor_V_eff              0.227978            -0.010249   \n",
       "drive_motor_a_max              0.065473            -0.427644   \n",
       "drive_wheel_V_eff             -0.670803             0.628785   \n",
       "drive_wheel_a_max             -0.426253             0.401770   \n",
       "idle_wheel_V_eff              -0.431999             0.494449   \n",
       "idle_wheel_a_max              -0.148052             0.625310   \n",
       "lifting_gear_V_eff            -0.517894             0.899336   \n",
       "lifting_gear_a_max             1.000000            -0.268226   \n",
       "lifting_motor_V_eff           -0.268226             1.000000   \n",
       "lifting_motor_a_max            0.766851            -0.457298   \n",
       "\n",
       "                     lifting_motor_a_max  \n",
       "drive_gear_V_eff               -0.250739  \n",
       "drive_gear_a_max                0.405804  \n",
       "drive_motor_V_eff               0.175056  \n",
       "drive_motor_a_max               0.393583  \n",
       "drive_wheel_V_eff              -0.775891  \n",
       "drive_wheel_a_max              -0.559880  \n",
       "idle_wheel_V_eff               -0.397775  \n",
       "idle_wheel_a_max               -0.310044  \n",
       "lifting_gear_V_eff             -0.646706  \n",
       "lifting_gear_a_max              0.766851  \n",
       "lifting_motor_V_eff            -0.457298  \n",
       "lifting_motor_a_max             1.000000  "
      ]
     },
     "execution_count": 432,
     "metadata": {},
     "output_type": "execute_result"
    }
   ],
   "source": [
    "table5.corr()"
   ]
  },
  {
   "cell_type": "code",
   "execution_count": 433,
   "metadata": {},
   "outputs": [],
   "source": [
    "def plot_corr(df,size=10, font_size=10):\n",
    "    '''Function plots a graphical correlation matrix for each pair of columns in the dataframe.\n",
    "\n",
    "    Input:\n",
    "        df: pandas DataFrame\n",
    "        size: vertical and horizontal size of the plot'''\n",
    "\n",
    "    corr = df.corr()\n",
    "    fig, ax = plt.subplots(figsize=(size, size))\n",
    "    ax.matshow(corr)\n",
    "    plt.xticks(range(len(corr.columns)), corr.columns, fontsize=font_size);\n",
    "    plt.yticks(range(len(corr.columns)), corr.columns, fontsize=font_size);"
   ]
  },
  {
   "cell_type": "code",
   "execution_count": 434,
   "metadata": {},
   "outputs": [
    {
     "data": {
      "image/png": "[encoded data removed]",
      "text/plain": [
       "<Figure size 2160x2160 with 1 Axes>"
      ]
     },
     "metadata": {},
     "output_type": "display_data"
    }
   ],
   "source": [
    "plot_corr(table5, size=30, font_size=15)"
   ]
  },
  {
   "cell_type": "code",
   "execution_count": 213,
   "metadata": {},
   "outputs": [
    {
     "name": "stdout",
     "output_type": "stream",
     "text": [
      "seaborn==0.9.0\n"
     ]
    },
    {
     "name": "stderr",
     "output_type": "stream",
     "text": [
      "You are using pip version 10.0.1, however version 18.0 is available.\n",
      "You should consider upgrading via the 'python -m pip install --upgrade pip' command.\n"
     ]
    }
   ],
   "source": [
    "! pip freeze | findstr sea"
   ]
  },
  {
   "cell_type": "code",
   "execution_count": 435,
   "metadata": {},
   "outputs": [
    {
     "data": {
      "text/plain": [
       "<matplotlib.axes._subplots.AxesSubplot at 0x70c87e10>"
      ]
     },
     "execution_count": 435,
     "metadata": {},
     "output_type": "execute_result"
    },
    {
     "data": {
      "image/png": "[encoded data removed]",
      "text/plain": [
       "<Figure size 1080x1080 with 2 Axes>"
      ]
     },
     "metadata": {},
     "output_type": "display_data"
    }
   ],
   "source": [
    "plt.figure(figsize=(15,15))\n",
    "sns.heatmap(table5.corr(), annot=True)"
   ]
  },
  {
   "cell_type": "code",
   "execution_count": 436,
   "metadata": {},
   "outputs": [
    {
     "data": {
      "text/html": [
       "<div>\n",
       "<style scoped>\n",
       "    .dataframe tbody tr th:only-of-type {\n",
       "        vertical-align: middle;\n",
       "    }\n",
       "\n",
       "    .dataframe tbody tr th {\n",
       "        vertical-align: top;\n",
       "    }\n",
       "\n",
       "    .dataframe thead th {\n",
       "        text-align: right;\n",
       "    }\n",
       "</style>\n",
       "<table border=\"1\" class=\"dataframe\">\n",
       "  <thead>\n",
       "    <tr style=\"text-align: right;\">\n",
       "      <th></th>\n",
       "      <th>machine_name</th>\n",
       "      <th>date_measurement_f</th>\n",
       "      <th>drive_gear_V_eff</th>\n",
       "      <th>drive_gear_a_max</th>\n",
       "      <th>drive_motor_V_eff</th>\n",
       "      <th>drive_motor_a_max</th>\n",
       "      <th>drive_wheel_V_eff</th>\n",
       "      <th>drive_wheel_a_max</th>\n",
       "      <th>idle_wheel_V_eff</th>\n",
       "      <th>idle_wheel_a_max</th>\n",
       "      <th>lifting_gear_V_eff</th>\n",
       "      <th>lifting_gear_a_max</th>\n",
       "      <th>lifting_motor_V_eff</th>\n",
       "      <th>lifting_motor_a_max</th>\n",
       "    </tr>\n",
       "  </thead>\n",
       "  <tbody>\n",
       "    <tr>\n",
       "      <th>0</th>\n",
       "      <td>RBG1</td>\n",
       "      <td>2016-09-02</td>\n",
       "      <td>1.6164</td>\n",
       "      <td>1334.4815</td>\n",
       "      <td>4.0606</td>\n",
       "      <td>1231.5055</td>\n",
       "      <td>2.9060</td>\n",
       "      <td>1317.3656</td>\n",
       "      <td>3.5010</td>\n",
       "      <td>1981.3614</td>\n",
       "      <td>1.354</td>\n",
       "      <td>952.5795</td>\n",
       "      <td>2.206</td>\n",
       "      <td>1340.0790</td>\n",
       "    </tr>\n",
       "    <tr>\n",
       "      <th>1</th>\n",
       "      <td>RBG1</td>\n",
       "      <td>2016-09-06</td>\n",
       "      <td>1.9335</td>\n",
       "      <td>1384.7760</td>\n",
       "      <td>4.4062</td>\n",
       "      <td>1243.5176</td>\n",
       "      <td>2.9780</td>\n",
       "      <td>1286.1320</td>\n",
       "      <td>3.7398</td>\n",
       "      <td>1970.8240</td>\n",
       "      <td>1.607</td>\n",
       "      <td>3121.5405</td>\n",
       "      <td>2.414</td>\n",
       "      <td>1707.4015</td>\n",
       "    </tr>\n",
       "    <tr>\n",
       "      <th>2</th>\n",
       "      <td>RBG1</td>\n",
       "      <td>2016-09-07</td>\n",
       "      <td>1.8736</td>\n",
       "      <td>1350.5540</td>\n",
       "      <td>4.4623</td>\n",
       "      <td>1215.5945</td>\n",
       "      <td>3.0620</td>\n",
       "      <td>1379.0340</td>\n",
       "      <td>3.7980</td>\n",
       "      <td>2020.1980</td>\n",
       "      <td>1.623</td>\n",
       "      <td>2637.6520</td>\n",
       "      <td>2.443</td>\n",
       "      <td>1694.7920</td>\n",
       "    </tr>\n",
       "    <tr>\n",
       "      <th>3</th>\n",
       "      <td>RBG1</td>\n",
       "      <td>2016-09-08</td>\n",
       "      <td>2.0121</td>\n",
       "      <td>1329.8515</td>\n",
       "      <td>4.4166</td>\n",
       "      <td>1216.1105</td>\n",
       "      <td>3.0260</td>\n",
       "      <td>1429.3394</td>\n",
       "      <td>3.6990</td>\n",
       "      <td>2060.6052</td>\n",
       "      <td>1.663</td>\n",
       "      <td>2731.8062</td>\n",
       "      <td>2.419</td>\n",
       "      <td>1604.5048</td>\n",
       "    </tr>\n",
       "    <tr>\n",
       "      <th>4</th>\n",
       "      <td>RBG1</td>\n",
       "      <td>2016-09-09</td>\n",
       "      <td>2.0060</td>\n",
       "      <td>1596.2396</td>\n",
       "      <td>4.4298</td>\n",
       "      <td>1479.9648</td>\n",
       "      <td>3.0766</td>\n",
       "      <td>1360.0664</td>\n",
       "      <td>3.7855</td>\n",
       "      <td>2125.6670</td>\n",
       "      <td>1.644</td>\n",
       "      <td>2238.5361</td>\n",
       "      <td>2.444</td>\n",
       "      <td>1464.9028</td>\n",
       "    </tr>\n",
       "  </tbody>\n",
       "</table>\n",
       "</div>"
      ],
      "text/plain": [
       "  machine_name date_measurement_f  drive_gear_V_eff  drive_gear_a_max  \\\n",
       "0         RBG1         2016-09-02            1.6164         1334.4815   \n",
       "1         RBG1         2016-09-06            1.9335         1384.7760   \n",
       "2         RBG1         2016-09-07            1.8736         1350.5540   \n",
       "3         RBG1         2016-09-08            2.0121         1329.8515   \n",
       "4         RBG1         2016-09-09            2.0060         1596.2396   \n",
       "\n",
       "   drive_motor_V_eff  drive_motor_a_max  drive_wheel_V_eff  drive_wheel_a_max  \\\n",
       "0             4.0606          1231.5055             2.9060          1317.3656   \n",
       "1             4.4062          1243.5176             2.9780          1286.1320   \n",
       "2             4.4623          1215.5945             3.0620          1379.0340   \n",
       "3             4.4166          1216.1105             3.0260          1429.3394   \n",
       "4             4.4298          1479.9648             3.0766          1360.0664   \n",
       "\n",
       "   idle_wheel_V_eff  idle_wheel_a_max  lifting_gear_V_eff  lifting_gear_a_max  \\\n",
       "0            3.5010         1981.3614               1.354            952.5795   \n",
       "1            3.7398         1970.8240               1.607           3121.5405   \n",
       "2            3.7980         2020.1980               1.623           2637.6520   \n",
       "3            3.6990         2060.6052               1.663           2731.8062   \n",
       "4            3.7855         2125.6670               1.644           2238.5361   \n",
       "\n",
       "   lifting_motor_V_eff  lifting_motor_a_max  \n",
       "0                2.206            1340.0790  \n",
       "1                2.414            1707.4015  \n",
       "2                2.443            1694.7920  \n",
       "3                2.419            1604.5048  \n",
       "4                2.444            1464.9028  "
      ]
     },
     "execution_count": 436,
     "metadata": {},
     "output_type": "execute_result"
    }
   ],
   "source": [
    "table5.head()"
   ]
  },
  {
   "cell_type": "code",
   "execution_count": 234,
   "metadata": {},
   "outputs": [
    {
     "name": "stdout",
     "output_type": "stream",
     "text": [
      "Requirement already satisfied: sklearn in c:\\program files\\anaconda2\\lib\\site-packages (0.0)\n",
      "Requirement already satisfied: scikit-learn in c:\\program files\\anaconda2\\lib\\site-packages (from sklearn) (0.19.1)\n"
     ]
    },
    {
     "name": "stderr",
     "output_type": "stream",
     "text": [
      "pyspark 2.3.1 requires py4j==0.10.7, which is not installed.\n",
      "jupyterlab-launcher 0.11.2 has requirement jsonschema>=2.6.0, but you'll have jsonschema 2.5.1 which is incompatible.\n",
      "You are using pip version 10.0.1, however version 18.0 is available.\n",
      "You should consider upgrading via the 'python -m pip install --upgrade pip' command.\n"
     ]
    }
   ],
   "source": [
    "!pip install sklearn"
   ]
  },
  {
   "cell_type": "code",
   "execution_count": 235,
   "metadata": {},
   "outputs": [],
   "source": [
    "from sklearn.cluster import KMeans"
   ]
  },
  {
   "cell_type": "code",
   "execution_count": null,
   "metadata": {},
   "outputs": [],
   "source": []
  },
  {
   "cell_type": "code",
   "execution_count": 437,
   "metadata": {},
   "outputs": [
    {
     "data": {
      "text/plain": [
       "Index(['machine_name', 'date_measurement_f', 'drive_gear_V_eff',\n",
       "       'drive_gear_a_max', 'drive_motor_V_eff', 'drive_motor_a_max',\n",
       "       'drive_wheel_V_eff', 'drive_wheel_a_max', 'idle_wheel_V_eff',\n",
       "       'idle_wheel_a_max', 'lifting_gear_V_eff', 'lifting_gear_a_max',\n",
       "       'lifting_motor_V_eff', 'lifting_motor_a_max'],\n",
       "      dtype='object')"
      ]
     },
     "execution_count": 437,
     "metadata": {},
     "output_type": "execute_result"
    }
   ],
   "source": [
    "table5.keys()"
   ]
  },
  {
   "cell_type": "code",
   "execution_count": 242,
   "metadata": {},
   "outputs": [],
   "source": [
    "from sklearn.cluster import KMeans\n",
    "from sklearn.preprocessing import StandardScaler"
   ]
  },
  {
   "cell_type": "code",
   "execution_count": 438,
   "metadata": {},
   "outputs": [],
   "source": [
    "table5.dropna(inplace=True)"
   ]
  },
  {
   "cell_type": "code",
   "execution_count": 439,
   "metadata": {},
   "outputs": [],
   "source": [
    "X_train = table5[table5.machine_name =='RBG7'].iloc[:,2:]"
   ]
  },
  {
   "cell_type": "code",
   "execution_count": 326,
   "metadata": {},
   "outputs": [],
   "source": [
    "# X_train.isna().sum()\n",
    "\n",
    "# X_train.dropna(inplace=True)\n",
    "\n",
    "# X_train.isna().sum()"
   ]
  },
  {
   "cell_type": "code",
   "execution_count": 440,
   "metadata": {},
   "outputs": [],
   "source": [
    "sc_X = StandardScaler()\n",
    "X_train_1 = sc_X.fit_transform(X_train)\n",
    "\n",
    "wcss = []\n",
    "for i in range(1, 20):\n",
    "    kmeans = KMeans(n_clusters = i, init = 'k-means++', random_state = 42)\n",
    "    kmeans.fit(X_train_1)\n",
    "    wcss.append(kmeans.inertia_)"
   ]
  },
  {
   "cell_type": "code",
   "execution_count": 441,
   "metadata": {},
   "outputs": [
    {
     "data": {
      "image/png": "[encoded data removed]",
      "text/plain": [
       "<Figure size 432x288 with 1 Axes>"
      ]
     },
     "metadata": {},
     "output_type": "display_data"
    }
   ],
   "source": [
    "plt.plot(range(1, 20), wcss)\n",
    "plt.title('The Elbow Method')\n",
    "plt.xlabel('Number of clusters')\n",
    "plt.ylabel('WCSS')\n",
    "plt.show()"
   ]
  },
  {
   "cell_type": "code",
   "execution_count": 442,
   "metadata": {},
   "outputs": [],
   "source": [
    "kmeans = KMeans(n_clusters = 4, init = 'k-means++', random_state = 42)\n",
    "y_kmeans = kmeans.fit_predict(X_train_1)"
   ]
  },
  {
   "cell_type": "code",
   "execution_count": 443,
   "metadata": {},
   "outputs": [
    {
     "data": {
      "image/png": "[encoded data removed]",
      "text/plain": [
       "<Figure size 1440x720 with 1 Axes>"
      ]
     },
     "metadata": {},
     "output_type": "display_data"
    }
   ],
   "source": [
    "plt.figure(figsize = (20,10))\n",
    "plt.scatter(X_train_1[y_kmeans == 0, 0], X_train_1[y_kmeans == 0, 1], s = 100, c = 'red', label = 'Cluster 1')\n",
    "plt.scatter(X_train_1[y_kmeans == 1, 0], X_train_1[y_kmeans == 1, 1], s = 100, c = 'blue', label = 'Cluster 2')\n",
    "plt.scatter(X_train_1[y_kmeans == 2, 0], X_train_1[y_kmeans == 2, 1], s = 100, c = 'green', label = 'Cluster 3')\n",
    "plt.scatter(X_train_1[y_kmeans == 3, 0], X_train_1[y_kmeans == 3, 1], s = 100, c = 'cyan', label = 'Cluster 4')\n",
    "#plt.scatter(X_train_1[y_kmeans == 4, 0], X_train_1[y_kmeans == 4, 1], s = 100, c = 'magenta', label = 'Cluster 5')\n",
    "#plt.scatter(X_train_1[y_kmeans == 5, 0], X_train_1[y_kmeans == 5, 1], s = 100, c = 'pink', label = 'Cluster 6')\n",
    "plt.scatter(kmeans.cluster_centers_[:, 0], kmeans.cluster_centers_[:, 1], s = 300, c = 'yellow', label = 'Centroids')\n",
    "plt.show()"
   ]
  },
  {
   "cell_type": "code",
   "execution_count": 444,
   "metadata": {},
   "outputs": [],
   "source": [
    "def find_clusters(data):\n",
    "    X_train = data.iloc[:,2:]\n",
    "    sc_X = StandardScaler()\n",
    "    X_train_1 = sc_X.fit_transform(X_train)\n",
    "\n",
    "    wcss = []\n",
    "    for i in range(1, 20):\n",
    "        kmeans = KMeans(n_clusters = i, init = 'k-means++', random_state = 42)\n",
    "        kmeans.fit(X_train_1)\n",
    "        wcss.append(kmeans.inertia_)\n",
    "    kmeans = KMeans(n_clusters = 4, init = 'k-means++', random_state = 42)\n",
    "    y_kmeans = kmeans.fit_predict(X_train_1)\n",
    "    return y_kmeans.tolist()"
   ]
  },
  {
   "cell_type": "markdown",
   "metadata": {},
   "source": [
    "# Generate cluster column for every machine"
   ]
  },
  {
   "cell_type": "code",
   "execution_count": 445,
   "metadata": {},
   "outputs": [],
   "source": [
    "cluster_column = []\n",
    "for machine in table5.machine_name.unique().tolist():\n",
    "    cluster_column += find_clusters(table5[table5['machine_name'] == machine])\n",
    "\n",
    "table5['cluster'] = pd.Series(cluster_column)"
   ]
  },
  {
   "cell_type": "code",
   "execution_count": 446,
   "metadata": {},
   "outputs": [
    {
     "data": {
      "text/html": [
       "<div>\n",
       "<style scoped>\n",
       "    .dataframe tbody tr th:only-of-type {\n",
       "        vertical-align: middle;\n",
       "    }\n",
       "\n",
       "    .dataframe tbody tr th {\n",
       "        vertical-align: top;\n",
       "    }\n",
       "\n",
       "    .dataframe thead th {\n",
       "        text-align: right;\n",
       "    }\n",
       "</style>\n",
       "<table border=\"1\" class=\"dataframe\">\n",
       "  <thead>\n",
       "    <tr style=\"text-align: right;\">\n",
       "      <th></th>\n",
       "      <th>machine_name</th>\n",
       "      <th>date_measurement_f</th>\n",
       "      <th>drive_gear_V_eff</th>\n",
       "      <th>drive_gear_a_max</th>\n",
       "      <th>drive_motor_V_eff</th>\n",
       "      <th>drive_motor_a_max</th>\n",
       "      <th>drive_wheel_V_eff</th>\n",
       "      <th>drive_wheel_a_max</th>\n",
       "      <th>idle_wheel_V_eff</th>\n",
       "      <th>idle_wheel_a_max</th>\n",
       "      <th>lifting_gear_V_eff</th>\n",
       "      <th>lifting_gear_a_max</th>\n",
       "      <th>lifting_motor_V_eff</th>\n",
       "      <th>lifting_motor_a_max</th>\n",
       "      <th>cluster</th>\n",
       "    </tr>\n",
       "  </thead>\n",
       "  <tbody>\n",
       "    <tr>\n",
       "      <th>0</th>\n",
       "      <td>RBG1</td>\n",
       "      <td>2016-09-02</td>\n",
       "      <td>1.6164</td>\n",
       "      <td>1334.4815</td>\n",
       "      <td>4.0606</td>\n",
       "      <td>1231.5055</td>\n",
       "      <td>2.9060</td>\n",
       "      <td>1317.3656</td>\n",
       "      <td>3.5010</td>\n",
       "      <td>1981.3614</td>\n",
       "      <td>1.354</td>\n",
       "      <td>952.5795</td>\n",
       "      <td>2.206</td>\n",
       "      <td>1340.0790</td>\n",
       "      <td>2.0</td>\n",
       "    </tr>\n",
       "    <tr>\n",
       "      <th>1</th>\n",
       "      <td>RBG1</td>\n",
       "      <td>2016-09-06</td>\n",
       "      <td>1.9335</td>\n",
       "      <td>1384.7760</td>\n",
       "      <td>4.4062</td>\n",
       "      <td>1243.5176</td>\n",
       "      <td>2.9780</td>\n",
       "      <td>1286.1320</td>\n",
       "      <td>3.7398</td>\n",
       "      <td>1970.8240</td>\n",
       "      <td>1.607</td>\n",
       "      <td>3121.5405</td>\n",
       "      <td>2.414</td>\n",
       "      <td>1707.4015</td>\n",
       "      <td>2.0</td>\n",
       "    </tr>\n",
       "    <tr>\n",
       "      <th>2</th>\n",
       "      <td>RBG1</td>\n",
       "      <td>2016-09-07</td>\n",
       "      <td>1.8736</td>\n",
       "      <td>1350.5540</td>\n",
       "      <td>4.4623</td>\n",
       "      <td>1215.5945</td>\n",
       "      <td>3.0620</td>\n",
       "      <td>1379.0340</td>\n",
       "      <td>3.7980</td>\n",
       "      <td>2020.1980</td>\n",
       "      <td>1.623</td>\n",
       "      <td>2637.6520</td>\n",
       "      <td>2.443</td>\n",
       "      <td>1694.7920</td>\n",
       "      <td>2.0</td>\n",
       "    </tr>\n",
       "    <tr>\n",
       "      <th>3</th>\n",
       "      <td>RBG1</td>\n",
       "      <td>2016-09-08</td>\n",
       "      <td>2.0121</td>\n",
       "      <td>1329.8515</td>\n",
       "      <td>4.4166</td>\n",
       "      <td>1216.1105</td>\n",
       "      <td>3.0260</td>\n",
       "      <td>1429.3394</td>\n",
       "      <td>3.6990</td>\n",
       "      <td>2060.6052</td>\n",
       "      <td>1.663</td>\n",
       "      <td>2731.8062</td>\n",
       "      <td>2.419</td>\n",
       "      <td>1604.5048</td>\n",
       "      <td>2.0</td>\n",
       "    </tr>\n",
       "    <tr>\n",
       "      <th>4</th>\n",
       "      <td>RBG1</td>\n",
       "      <td>2016-09-09</td>\n",
       "      <td>2.0060</td>\n",
       "      <td>1596.2396</td>\n",
       "      <td>4.4298</td>\n",
       "      <td>1479.9648</td>\n",
       "      <td>3.0766</td>\n",
       "      <td>1360.0664</td>\n",
       "      <td>3.7855</td>\n",
       "      <td>2125.6670</td>\n",
       "      <td>1.644</td>\n",
       "      <td>2238.5361</td>\n",
       "      <td>2.444</td>\n",
       "      <td>1464.9028</td>\n",
       "      <td>2.0</td>\n",
       "    </tr>\n",
       "  </tbody>\n",
       "</table>\n",
       "</div>"
      ],
      "text/plain": [
       "  machine_name date_measurement_f  drive_gear_V_eff  drive_gear_a_max  \\\n",
       "0         RBG1         2016-09-02            1.6164         1334.4815   \n",
       "1         RBG1         2016-09-06            1.9335         1384.7760   \n",
       "2         RBG1         2016-09-07            1.8736         1350.5540   \n",
       "3         RBG1         2016-09-08            2.0121         1329.8515   \n",
       "4         RBG1         2016-09-09            2.0060         1596.2396   \n",
       "\n",
       "   drive_motor_V_eff  drive_motor_a_max  drive_wheel_V_eff  drive_wheel_a_max  \\\n",
       "0             4.0606          1231.5055             2.9060          1317.3656   \n",
       "1             4.4062          1243.5176             2.9780          1286.1320   \n",
       "2             4.4623          1215.5945             3.0620          1379.0340   \n",
       "3             4.4166          1216.1105             3.0260          1429.3394   \n",
       "4             4.4298          1479.9648             3.0766          1360.0664   \n",
       "\n",
       "   idle_wheel_V_eff  idle_wheel_a_max  lifting_gear_V_eff  lifting_gear_a_max  \\\n",
       "0            3.5010         1981.3614               1.354            952.5795   \n",
       "1            3.7398         1970.8240               1.607           3121.5405   \n",
       "2            3.7980         2020.1980               1.623           2637.6520   \n",
       "3            3.6990         2060.6052               1.663           2731.8062   \n",
       "4            3.7855         2125.6670               1.644           2238.5361   \n",
       "\n",
       "   lifting_motor_V_eff  lifting_motor_a_max  cluster  \n",
       "0                2.206            1340.0790      2.0  \n",
       "1                2.414            1707.4015      2.0  \n",
       "2                2.443            1694.7920      2.0  \n",
       "3                2.419            1604.5048      2.0  \n",
       "4                2.444            1464.9028      2.0  "
      ]
     },
     "execution_count": 446,
     "metadata": {},
     "output_type": "execute_result"
    }
   ],
   "source": [
    "table5.head()"
   ]
  },
  {
   "cell_type": "code",
   "execution_count": 447,
   "metadata": {},
   "outputs": [],
   "source": [
    "table5.to_csv('..//data//final_data.csv', index=False)"
   ]
  },
  {
   "cell_type": "code",
   "execution_count": null,
   "metadata": {},
   "outputs": [],
   "source": []
  }
 ],
 "metadata": {
  "kernelspec": {
   "display_name": "Python [conda env:py36]",
   "language": "python",
   "name": "conda-env-py36-py"
  },
  "language_info": {
   "codemirror_mode": {
    "name": "ipython",
    "version": 3
   },
   "file_extension": ".py",
   "mimetype": "text/x-python",
   "name": "python",
   "nbconvert_exporter": "python",
   "pygments_lexer": "ipython3",
   "version": "3.6.4"
  }
 },
 "nbformat": 4,
 "nbformat_minor": 2
}
